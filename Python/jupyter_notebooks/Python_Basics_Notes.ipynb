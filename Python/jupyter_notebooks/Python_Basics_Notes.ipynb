{
 "cells": [
  {
   "cell_type": "markdown",
   "id": "81ce0a01",
   "metadata": {},
   "source": [
    "# Section 1: Lists and Strings:-\n",
    "## <u>Important Methods:</u>\n",
    "### 1. count(): \n",
    "Accepts a substring/item and returns the no. of times that particular substring/item appears in a string or list respectively.\n",
    "<br><strong><em>Note:</em></strong> This works with both strings and lists. \n",
    "- <em>Strings:</em> the method returns the no. of times a given substring appears within the string.\n",
    "- <em>Lists:</em> the method returns the no. of times a given item appears within the list."
   ]
  },
  {
   "cell_type": "code",
   "execution_count": 7,
   "id": "9c2712f6",
   "metadata": {},
   "outputs": [
    {
     "name": "stdout",
     "output_type": "stream",
     "text": [
      "4\n",
      "2\n",
      "0\n",
      "3\n",
      "0\n",
      "2\n"
     ]
    }
   ],
   "source": [
    "a = \"I have had an apple on my desk before!\"\n",
    "print(a.count(\"a\"))           # Should return the no of times the substring \"a\" appears in the string a (4)\n",
    "print(a.count(\"ha\"))          # Should return the no of times the substring \"ha\" appears in the string a (2)\n",
    "\n",
    "# Also works for lists\n",
    "z = ['atoms', 4, 'neutron', 6, 'proton', 4, 'electron', 4, 'electron', 'atoms']\n",
    "print(z.count(\"4\"))           # Should return 0 as there are no strings items as \"4\" in the list\n",
    "print(z.count(4))             # Should return the no. of times the integer 4 appears in the list (3)\n",
    "print(z.count(\"a\"))           # Should return 0 as there are no strings items with the exact value \"a\"\n",
    "print(z.count(\"electron\"))    # Should return the no. of times the string \"electron\" appears in the list (2)"
   ]
  },
  {
   "cell_type": "markdown",
   "id": "6247c8fe",
   "metadata": {},
   "source": [
    "### 2. index():\n",
    "Accepts a substring/item and returns the index of it's <strong>first occurrence</strong> in a string or list respectively.\n",
    "<br><strong><em>Note:<em></strong> This works with both strings and lists. \n",
    "- <em>Strings:</em> the method returns the index of first occurrence of a given character (substring) within the string \n",
    "- <em>Lists:</em> the method returns the index of first occurrence of the given item within the list."
   ]
  },
  {
   "cell_type": "code",
   "execution_count": 8,
   "id": "7b7ccf75",
   "metadata": {},
   "outputs": [
    {
     "name": "stdout",
     "output_type": "stream",
     "text": [
      "14\n",
      "9\n",
      "0\n",
      "3\n",
      "6\n"
     ]
    }
   ],
   "source": [
    "music = \"Pull out your music and dancing can begin\"\n",
    "bio = [\"Metatarsal\", \"Metatarsal\", \"Fibula\", [], \"Tibia\", \"Tibia\", 43, \"Femur\", \"Occipital\", \"Metatarsal\"]\n",
    "\n",
    "print(music.index(\"m\"))           # Should return the index of first occurrence of \"m\" in music (14)\n",
    "print(music.index(\"your\"))        # Should return the index of first occurrence of \"your\" in music (9)\n",
    "\n",
    "print(bio.index(\"Metatarsal\"))    # Should return the index of first occurrence of \"Metatarsal\" in bio (0)\n",
    "print(bio.index([]))              # Should return the index of first occurrence of \"[]\" in bio (3)\n",
    "print(bio.index(43))              # Should return the index of first occurrence of the integer 43 in bio (6)"
   ]
  },
  {
   "cell_type": "markdown",
   "id": "c2d2e5ee",
   "metadata": {},
   "source": [
    "This method will raise a ValueError if in case a given substring/item is not present in a string/list."
   ]
  },
  {
   "cell_type": "code",
   "execution_count": 9,
   "id": "c955edad",
   "metadata": {},
   "outputs": [
    {
     "ename": "ValueError",
     "evalue": "'autumn' is not in list",
     "output_type": "error",
     "traceback": [
      "\u001b[1;31m---------------------------------------------------------------------------\u001b[0m",
      "\u001b[1;31mValueError\u001b[0m                                Traceback (most recent call last)",
      "Cell \u001b[1;32mIn[9], line 3\u001b[0m\n\u001b[0;32m      1\u001b[0m seasons \u001b[38;5;241m=\u001b[39m [\u001b[38;5;124m\"\u001b[39m\u001b[38;5;124mwinter\u001b[39m\u001b[38;5;124m\"\u001b[39m, \u001b[38;5;124m\"\u001b[39m\u001b[38;5;124mspring\u001b[39m\u001b[38;5;124m\"\u001b[39m, \u001b[38;5;124m\"\u001b[39m\u001b[38;5;124msummer\u001b[39m\u001b[38;5;124m\"\u001b[39m, \u001b[38;5;124m\"\u001b[39m\u001b[38;5;124mfall\u001b[39m\u001b[38;5;124m\"\u001b[39m]\n\u001b[1;32m----> 3\u001b[0m \u001b[38;5;28mprint\u001b[39m(\u001b[43mseasons\u001b[49m\u001b[38;5;241;43m.\u001b[39;49m\u001b[43mindex\u001b[49m\u001b[43m(\u001b[49m\u001b[38;5;124;43m\"\u001b[39;49m\u001b[38;5;124;43mautumn\u001b[39;49m\u001b[38;5;124;43m\"\u001b[39;49m\u001b[43m)\u001b[49m)  \u001b[38;5;66;03m#Error!\u001b[39;00m\n",
      "\u001b[1;31mValueError\u001b[0m: 'autumn' is not in list"
     ]
    }
   ],
   "source": [
    "seasons = [\"winter\", \"spring\", \"summer\", \"fall\"]\n",
    "\n",
    "print(seasons.index(\"autumn\"))  #Error!"
   ]
  },
  {
   "cell_type": "markdown",
   "id": "c4c16069",
   "metadata": {},
   "source": [
    "### 3. split():\n",
    "Accepts a substring (or delimiter), cuts it off from a given string and splits the string into a list."
   ]
  },
  {
   "cell_type": "code",
   "execution_count": null,
   "id": "10d7c252",
   "metadata": {},
   "outputs": [],
   "source": [
    "song = \"The rain in Spain...\"\n",
    "wds = song.split('ai')\n",
    "print(wds)"
   ]
  },
  {
   "cell_type": "markdown",
   "id": "fbef0797",
   "metadata": {},
   "source": [
    "As we can see above, the delimiter ('ai') is passed in the method. The method then cuts \"ai\" from the string \"song\" and then splits from that point to create a list \"wds\".\n",
    "<br>Notice that the delimiter ('ai' in this example) doesn’t appear in the result."
   ]
  },
  {
   "cell_type": "markdown",
   "id": "22bc5e18",
   "metadata": {},
   "source": [
    "### 4. join():\n",
    "Accepts a list of items to join and based on the delimiter provided, glues the items and creates a final string."
   ]
  },
  {
   "cell_type": "code",
   "execution_count": null,
   "id": "5e93a5ec",
   "metadata": {},
   "outputs": [],
   "source": [
    "wds = [\"red\", \"blue\", \"green\"]\n",
    "glue = ';'\n",
    "s = glue.join(wds)\n",
    "print(s)\n",
    "print(wds)\n",
    "\n",
    "print(\"***\".join(wds))\n",
    "print(\"\".join(wds))"
   ]
  },
  {
   "cell_type": "markdown",
   "id": "100b4d6b",
   "metadata": {},
   "source": [
    "As we can see above, delimiters (value of glue, \\\"\\*\\*\\*\\\", \"\") were provided based on which the items in the list wds were glued together to form the respective string outputs.\n",
    "<br>The list that we glue together (wds in this example) is not modified. Also, you can use empty glue or multi-character strings as glue."
   ]
  },
  {
   "cell_type": "markdown",
   "id": "3d15b693",
   "metadata": {},
   "source": [
    "# Section 2: Iteration:-\n",
    "## <u>Important Methods:</u>\n",
    "### 1. range(): \n",
    "The range function takes an integer n as input and returns a sequence of numbers (basically of type range), starting at 0 and going up to but not including n. Thus, instead of range(3), we could have written [0, 1, 2].\n",
    "\n",
    "- The loop variable _ is a strange name for a variable but if you look carefully at the rules about variable names, it is a legal name. \n",
    "- By convention, we use the _ as our loop variable when we don’t intend to ever refer to the loop variable in the code further. That is, we are just trying to repeat the code block some number of times, but we are not going to do anything with the particular items. _ will be bound to a different item each time, but we won’t ever refer to those particular items in the code."
   ]
  },
  {
   "cell_type": "code",
   "execution_count": 10,
   "id": "4e731c85",
   "metadata": {},
   "outputs": [
    {
     "name": "stdout",
     "output_type": "stream",
     "text": [
      "This will execute first\n",
      "This line will execute three times\n",
      "This line will also execute three times\n",
      "This line will execute three times\n",
      "This line will also execute three times\n",
      "This line will execute three times\n",
      "This line will also execute three times\n",
      "Now we are outside of the for loop!\n"
     ]
    }
   ],
   "source": [
    "print(\"This will execute first\")\n",
    "\n",
    "for _ in range(3):\n",
    "    print(\"This line will execute three times\")\n",
    "    print(\"This line will also execute three times\")\n",
    "\n",
    "print(\"Now we are outside of the for loop!\")"
   ]
  },
  {
   "cell_type": "markdown",
   "id": "b2c11a90",
   "metadata": {},
   "source": [
    "The range() function returns a sequence of type range. To convert it to list, we need to specifically typecast it to a list."
   ]
  },
  {
   "cell_type": "code",
   "execution_count": 11,
   "id": "55185497",
   "metadata": {},
   "outputs": [
    {
     "name": "stdout",
     "output_type": "stream",
     "text": [
      "[2, 3, 4, 5, 6, 7, 8, 9]\n"
     ]
    }
   ],
   "source": [
    "print(list(range(2,10)))"
   ]
  }
 ],
 "metadata": {
  "kernelspec": {
   "display_name": "Python 3 (ipykernel)",
   "language": "python",
   "name": "python3"
  },
  "language_info": {
   "codemirror_mode": {
    "name": "ipython",
    "version": 3
   },
   "file_extension": ".py",
   "mimetype": "text/x-python",
   "name": "python",
   "nbconvert_exporter": "python",
   "pygments_lexer": "ipython3",
   "version": "3.10.3"
  }
 },
 "nbformat": 4,
 "nbformat_minor": 5
}
