{
 "cells": [
  {
   "cell_type": "markdown",
   "id": "3303c765",
   "metadata": {},
   "source": [
    "# REST API Introduction:\n",
    "- Stands for **RE**presentational **S**tate **T**ransfer.\n",
    "- Is a software architecture style which defines pattern for client/server communications over network.\n",
    "- It defines following architectural constraints (controls):\n",
    "    - **Stateless:** Server won’t maintain any state between requests from the client.\n",
    "    - **Client-server:** The client and server must be decoupled from each other.\n",
    "    - **Cacheable:** Data retrieved from the server should be cacheable either by the client or by the server.\n",
    "    - **Uniform interface:** Server will provide a uniform interface for accessing resources without defining their representation.\n",
    "    - **Layered system:** Client may access the resources on the server indirectly through other layers such as a proxy or load balancer.\n",
    "    - **Code on demand (optional):** Server may transfer code to the client that it can run, such as JavaScript for a single-page application.\n",
    "\n",
    "**Note:** REST is *not* a specification but a set of guidelines on how to architect a network-connected software system"
   ]
  },
  {
   "cell_type": "markdown",
   "id": "5480f95d",
   "metadata": {},
   "source": [
    "## REST Web service:\n",
    "- Any web service which adheres to the above mentioned REST architectural constraints. \n",
    "- These web services expose their data to the outside world through an *API*. \n",
    "- REST APIs provide access to web service data through public web URLs.\n",
    "\n",
    "For example, here’s one of the URLs for GitHub’s REST API:\n",
    "```\n",
    "https://api.github.com/users/<username>\n",
    "```\n",
    "This URL allows you to access information about a specific GitHub user.<br>\n",
    "You access data from a REST API by sending an HTTP request to a specific URL and processing the response."
   ]
  },
  {
   "cell_type": "markdown",
   "id": "0e9fd5c9",
   "metadata": {},
   "source": [
    "## HTTP Methods:\n",
    "- REST API listens to HTTP Methods to understand which operations to perform on a web service's resources.\n",
    "- A resource is any data available in the web service that can be accessed/manipulated with HTTP requests to the REST API.\n",
    "- While there are multiple HTTP Methods, five of the commonly used ones are:\n",
    "    - ``GET``: Retrieve an existing resource.\n",
    "    - ``POST``: Create a new resource.\n",
    "    - ``PUT``: Update an existing resource.\n",
    "    - ``PATCH``: Partially update an existing resource.\n",
    "    - ``DELETE``: Delete a resource.\n",
    "\n",
    "## Status Codes:\n",
    "- Once a REST API receives and processes an HTTP request, it will return an **HTTP response**. \n",
    "- This response has an HTTP status code which provides information about the results of the request. \n",
    "- An application sending requests to the API can check the status code and perform actions based on the result. \n",
    "- These actions could include handling errors or displaying a success message to a user.\n",
    "<br>\n",
    "\n",
    "Below is a list of the most common status codes returned by REST APIs:<br>\n",
    "\n",
    "**Code -- Meaning -- Description**<br>\n",
    "200 -- OK -- The requested action was successful.<br>\n",
    "201 -- Created -- A new resource was created.<br>\n",
    "202 -- Accepted -- The request was received, but no modification has been made yet.<br>\n",
    "204 -- No Content -- The request was successful, but the response has no content.<br>\n",
    "400 -- Bad Request -- The request was malformed.<br>\n",
    "401 -- Unauthorized -- The client is not authorized to perform the requested action.<br>\n",
    "404 -- Not Found -- The requested resource was not found.<br>\n",
    "415 -- Unsupported Media Type -- The request data format is not supported by the server.<br>\n",
    "422 -- Unprocessable Entity -- The request data was properly formatted but contained invalid or missing data.<br>\n",
    "500 -- Internal Server Error -- The server threw an error when processing the request.<br>\n",
    "\n",
    "- These ten status codes represent only a small subset of the available HTTP status codes. \n",
    "- Status codes are numbered based on the category of the result:\n",
    "\n",
    "**Code range -- Category**<br>\n",
    "2xx -- Successful operation<br>\n",
    "3xx -- Redirection<br>\n",
    "4xx -- Client error<br>\n",
    "5xx -- Server error<br>\n",
    "\n",
    "## API Endpoints:\n",
    "- A REST API exposes a set of public URLs that client applications use to access the resources of a web service. \n",
    "- These URLs, in the context of an API, are called **endpoints**.\n",
    "- Let's see an example:\n",
    "<br>\n",
    "\n",
    "- In this table, you’ll see API endpoints for a hypothetical CRM system. \n",
    "- These endpoints are for a customer resource that represents potential customers in the system:\n",
    "HTTP method -- API endpoint -- Description<br>\n",
    "``GET`` -- /customers -- Get a list of customers.<br>\n",
    "``GET`` -- /customers/<customer_id> -- Get a single customer.<br>\n",
    "``POST`` -- /customers -- Create a new customer.<br>\n",
    "``PUT`` -- /customers/<customer_id> -- Update a customer.<br>\n",
    "``PATCH`` -- /customers/<customer_id> -- Partially update a customer.<br>\n",
    "``DELETE`` -- /customers/<customer_id> -- Delete a customer.<br>\n",
    "\n",
    "**Note:** <br>\n",
    "The base URL for the endpoints has been omitted for brevity. In reality, you’ll need the full URL path to access an API endpoint:<br>\n",
    "``\n",
    "https://api.example.com/customers\n",
    "``\n",
    "<br>\n",
    "This is the full URL you’d use to access this endpoint. The base URL is everything besides /customers.."
   ]
  },
  {
   "cell_type": "markdown",
   "id": "0887212e",
   "metadata": {},
   "source": [
    "## REST and Python:\n",
    "\n",
    "### Consuming APIs:\n",
    "- To write code that interacts with REST APIs, most Python developers turn to ``requests`` module to send HTTP requests.\n",
    "- This library abstracts away the complexities of making HTTP requests. and is one of the few projects worth treating as if it’s part of the standard library.\n",
    "- To use it, we need to first install it using:\n",
    "```sh\n",
    "python -m pip install requests\n",
    "```\n",
    "\n",
    "#### 1. GET:\n",
    "- Most common.\n",
    "- Allows to retrieve resources from a given API.\n",
    "- **Read-only**, do NOT modify resources using GET.\n",
    "<br>**Note:** To test out ``GET`` and the other methods, we’ll use a service called ``JSONPlaceholder``. This free service provides fake API endpoints that send back responses that requests can process."
   ]
  },
  {
   "cell_type": "code",
   "execution_count": 7,
   "id": "2df119f4",
   "metadata": {},
   "outputs": [
    {
     "name": "stdout",
     "output_type": "stream",
     "text": [
      "response.json(): {'userId': 1, 'id': 1, 'title': 'delectus aut autem', 'completed': False}\n",
      "response.status_code: 200\n",
      "response.headers['Content-Type']:  application/json; charset=utf-8\n"
     ]
    }
   ],
   "source": [
    "import requests\n",
    "\n",
    "# Caling the GET method to request for resource at todos/1 (todo item with ID: 1)\n",
    "api_url = \"https://jsonplaceholder.typicode.com/todos/1\"\n",
    "response = requests.get(api_url)\n",
    "\n",
    "# .json() formats the data as JSON (similar to dictionaries)\n",
    "print(\"response.json():\", response.json())\n",
    "\n",
    "# We can also view other things about the response\n",
    "print(\"response.status_code:\", response.status_code)    # Status 200 indicating a successful fetch\n",
    "print(\"response.headers['Content-Type']: \", response.headers['Content-Type'])"
   ]
  },
  {
   "cell_type": "markdown",
   "id": "5d62a113",
   "metadata": {},
   "source": [
    "#### 2. POST:\n",
    "- For ``POST``, we would use the same JSONPlaceholder but this time we'll include JSON data in the request.\n",
    "```json\n",
    "{\n",
    "    \"userId\": 1,\n",
    "    \"title\": \"Buy milk\",\n",
    "    \"completed\": false\n",
    "}\n",
    "```"
   ]
  },
  {
   "cell_type": "code",
   "execution_count": 11,
   "id": "155a6195",
   "metadata": {},
   "outputs": [
    {
     "name": "stdout",
     "output_type": "stream",
     "text": [
      "response.json(): {'userId': 1, 'title': 'Buy milk', 'completed': False, 'id': 201}\n",
      "response.status_code: 201\n"
     ]
    }
   ],
   "source": [
    "import requests\n",
    "api_url = \"https://jsonplaceholder.typicode.com/todos\"\n",
    "\n",
    "# a dictionary is assigned to the todo variable\n",
    "todo = {\"userId\": 1, \"title\": \"Buy milk\", \"completed\": False}\n",
    "# The json keyword argument is set as the dictionary we defined\n",
    "response = requests.post(api_url, json=todo)\n",
    "\n",
    "# requests.post() automatically sets the request's HTTP header Content-Type to application/json.\n",
    "# It also serializes todo into a JSON string which gets appended to the body of the request.\n",
    "\n",
    "print(\"response.json():\", response.json())\n",
    "print(\"response.status_code:\", response.status_code)    # Status 201 indicating the creation of the resource"
   ]
  },
  {
   "cell_type": "markdown",
   "id": "444864d9",
   "metadata": {},
   "source": [
    "- If you don't use the json keyword argument to supply JSON data, you need to set the Contrnt Type accordingly and serialize JSON manually.\n",
    "- This has the same effect but gives more control over the request."
   ]
  },
  {
   "cell_type": "code",
   "execution_count": 13,
   "id": "aea3f0a4",
   "metadata": {},
   "outputs": [
    {
     "name": "stdout",
     "output_type": "stream",
     "text": [
      "response.json(): {'userId': 1, 'title': 'Buy milk', 'completed': False, 'id': 201}\n",
      "response.status_code: 201\n"
     ]
    }
   ],
   "source": [
    "import requests\n",
    "import json\n",
    "api_url = \"https://jsonplaceholder.typicode.com/todos\"\n",
    "todo = {\"userId\": 1, \"title\": \"Buy milk\", \"completed\": False}\n",
    "\n",
    "# Add a headers dictionary that contains a single header Content-Type\n",
    "# This tells the REST API that you’re sending JSON data with the request\n",
    "headers = {\"Content-Type\":\"application/json\"}\n",
    "# Here, instead of passing todo to the json argument, you first call json.dumps(todo) to serialize it. \n",
    "# After it’s serialized, you pass it to the data keyword argument which tells requests what data to include in the request\n",
    "# You also pass the headers dictionary to requests.post() to set the HTTP headers manually\n",
    "response = requests.post(api_url, data=json.dumps(todo), headers=headers)\n",
    "\n",
    "print(\"response.json():\", response.json())\n",
    "print(\"response.status_code:\", response.status_code)    # Status 201 indicating the creation of the resource"
   ]
  },
  {
   "cell_type": "markdown",
   "id": "d013fec0",
   "metadata": {},
   "source": [
    "**Note:** ``json.dumps()`` comes from the ``json`` package in the standard library. This package provides useful methods for working with JSON in Python."
   ]
  },
  {
   "cell_type": "markdown",
   "id": "4400d989",
   "metadata": {},
   "source": [
    "#### 3. PUT:\n",
    "- Any data sent with a PUT request will completely replace the existing values of the todo.\n",
    "- The following code sends a PUT request to update an existing todo with new data"
   ]
  },
  {
   "cell_type": "code",
   "execution_count": 16,
   "id": "7f2e0cb3",
   "metadata": {},
   "outputs": [
    {
     "name": "stdout",
     "output_type": "stream",
     "text": [
      "response.json(): {'userId': 1, 'id': 10, 'title': 'illo est ratione doloremque quia maiores aut', 'completed': True}\n",
      "response.json() after PUT: {'userId': 1, 'title': 'Wash car', 'completed': True, 'id': 10}\n",
      "response.status_code: 200\n"
     ]
    }
   ],
   "source": [
    "import requests\n",
    "# /10 tells the REST API which todo item is to be updated].\n",
    "api_url = \"https://jsonplaceholder.typicode.com/todos/10\"\n",
    "# Let's view the contents of todo with ID 10\n",
    "response = requests.get(api_url)\n",
    "\n",
    "print(\"response.json():\", response.json())\n",
    "\n",
    "# We update the complete json object here:\n",
    "todo = {\"userId\": 1, \"title\": \"Wash car\", \"completed\": True}\n",
    "response = requests.put(api_url, json=todo)\n",
    "print(\"response.json() after PUT:\", response.json())\n",
    "\n",
    "print(\"response.status_code:\", response.status_code)    # Status 200 Indicating a successful PUT"
   ]
  },
  {
   "cell_type": "markdown",
   "id": "73eed433",
   "metadata": {},
   "source": [
    "**Note:** Successful PUT requests will always return **200** instead of 201 because you aren’t creating a new resource but just **updating** an existing one."
   ]
  },
  {
   "cell_type": "markdown",
   "id": "6601c331",
   "metadata": {},
   "source": [
    "#### 4. PATCH:\n",
    "- Used modify the value of a specific field on an existing resource.\n",
    "- ``PATCH`` differs from ``PUT`` in that it doesn’t completely replace the existing resource but only modifies the values set in the JSON sent with the request."
   ]
  },
  {
   "cell_type": "code",
   "execution_count": 19,
   "id": "12cccabc",
   "metadata": {},
   "outputs": [
    {
     "name": "stdout",
     "output_type": "stream",
     "text": [
      "response.json(): {'userId': 1, 'id': 10, 'title': 'illo est ratione doloremque quia maiores aut', 'completed': True}\n",
      "response.json() after PATCH: {'userId': 1, 'id': 10, 'title': 'Mow lawn', 'completed': True}\n",
      "response.status_code: 200\n"
     ]
    }
   ],
   "source": [
    "import requests\n",
    "api_url = \"https://jsonplaceholder.typicode.com/todos/10\"\n",
    "response = requests.get(api_url)\n",
    "print(\"response.json():\", response.json())\n",
    "\n",
    "# Only updated the title for the todo item with ID 10 and not the whole json object update as in case of PUT.\n",
    "todo = {\"title\": \"Mow lawn\"}\n",
    "response = requests.patch(api_url, json=todo)\n",
    "print(\"response.json() after PATCH:\", response.json())\n",
    "\n",
    "print(\"response.status_code:\", response.status_code)    # Status 200 Indicating a successful PATCH"
   ]
  },
  {
   "cell_type": "markdown",
   "id": "f61e58c9",
   "metadata": {},
   "source": [
    "#### 5. DELETE:\n",
    "- If you want to completely remove a resource, then you use DELETE."
   ]
  },
  {
   "cell_type": "code",
   "execution_count": 20,
   "id": "0a410234",
   "metadata": {},
   "outputs": [
    {
     "name": "stdout",
     "output_type": "stream",
     "text": [
      "response.json(): {}\n",
      "response.status_code: 200\n"
     ]
    }
   ],
   "source": [
    "import requests\n",
    "api_url = \"https://jsonplaceholder.typicode.com/todos/10\"\n",
    "response = requests.delete(api_url)\n",
    "# After deleting the resource, the API sends back an empty JSON object indicating that the resource has been deleted.\n",
    "print(\"response.json():\", response.json())\n",
    "\n",
    "print(\"response.status_code:\", response.status_code)    # Status 200 indicating a successful DELETE"
   ]
  }
 ],
 "metadata": {
  "kernelspec": {
   "display_name": "Python 3 (ipykernel)",
   "language": "python",
   "name": "python3"
  },
  "language_info": {
   "codemirror_mode": {
    "name": "ipython",
    "version": 3
   },
   "file_extension": ".py",
   "mimetype": "text/x-python",
   "name": "python",
   "nbconvert_exporter": "python",
   "pygments_lexer": "ipython3",
   "version": "3.10.3"
  }
 },
 "nbformat": 4,
 "nbformat_minor": 5
}
