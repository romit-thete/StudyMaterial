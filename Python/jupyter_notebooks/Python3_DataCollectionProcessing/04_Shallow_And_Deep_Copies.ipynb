{
 "cells": [
  {
   "cell_type": "markdown",
   "id": "d23e9093",
   "metadata": {},
   "source": [
    "# Deep and Shallow Copies:\n",
    "- Earlier, we observed that using the slicing operator [:] would take care of any issues related to copied references (changes in copied list when changes are done in the original list). This is known as aliasing.\n",
    "- However, that is only true for making shallow copies (copying a list at the highest level), but as we get into nested data, and nested lists in particular, the rules become a bit more complicated. \n",
    "- We can have second-level aliasing in these cases, which means we need to make deep copies.\n",
    "<br>\n",
    "- When a nested list is copied, copies of the internal lists are not deep. i.e., performing a mutation operation on one of the original sublists, will change the copied version as well. "
   ]
  },
  {
   "cell_type": "code",
   "execution_count": 1,
   "id": "ca00b6e1",
   "metadata": {},
   "outputs": [
    {
     "name": "stdout",
     "output_type": "stream",
     "text": [
      "[['dogs', 'puppies'], ['cats', 'kittens']]\n",
      "False\n",
      "True\n",
      "[['dogs', 'puppies', ['canines']], ['cats', 'kittens']]\n",
      "-------- Now look at the copied version -----------\n",
      "[['dogs', 'puppies', ['canines']], ['cats', 'kittens']]\n"
     ]
    }
   ],
   "source": [
    "original = [['dogs', 'puppies'], ['cats', \"kittens\"]]\n",
    "\n",
    "# Aliasing the 'original' list\n",
    "copied_version = original[:]\n",
    "print(copied_version)\n",
    "\n",
    "# copied_version refers to a diff object than original\n",
    "print(copied_version is original)\n",
    "\n",
    "# However, contents are exactly the same\n",
    "print(copied_version == original)\n",
    "\n",
    "# Now, when we append something to a sublist, we can see that the copied version also changes.\n",
    "original[0].append([\"canines\"])\n",
    "print(original)\n",
    "print(\"-------- Now look at the copied version -----------\")\n",
    "print(copied_version)"
   ]
  },
  {
   "cell_type": "code",
   "execution_count": 8,
   "id": "3f3688a8",
   "metadata": {},
   "outputs": [
    {
     "name": "stdout",
     "output_type": "stream",
     "text": [
      "[['dogs', 'puppies'], ['cats', 'kittens']]\n",
      "[['dogs', 'puppies', ['canines']], ['cats', 'kittens']]\n",
      "-------- Now look at the copied version -----------\n",
      "[['dogs', 'puppies'], ['cats', 'kittens']]\n"
     ]
    }
   ],
   "source": [
    "# To overcome this, below iteration needs to be performed\n",
    "\n",
    "original = [['dogs', 'puppies'], ['cats', \"kittens\"]]\n",
    "\n",
    "# Create a blank outer list\n",
    "copied_outer_list = []\n",
    "# Traverse the original list and capture every element within a particular sublist into a blank inner list\n",
    "for inner_list in original:\n",
    "    copied_inner_list = []\n",
    "# We can optionally also do the same tasks by uncommenting the below line and removing the for loop iteration next to it.\n",
    "# This means, it will simply alias the inner list and put it in the copied_inner_list.\n",
    "#     copied_inner_list = inner_list[:]\n",
    "    for item in inner_list:\n",
    "        copied_inner_list.append(item)\n",
    "    # Once done, capture the inner list into the blank outer list\n",
    "    copied_outer_list.append(copied_inner_list)\n",
    "\n",
    "# We can now see that both lists are actually deeply copied!\n",
    "print(copied_outer_list)\n",
    "original[0].append([\"canines\"])\n",
    "print(original)\n",
    "print(\"-------- Now look at the copied version -----------\")\n",
    "print(copied_outer_list)\n"
   ]
  },
  {
   "cell_type": "code",
   "execution_count": 10,
   "id": "d6b6e195",
   "metadata": {},
   "outputs": [
    {
     "name": "stdout",
     "output_type": "stream",
     "text": [
      "-------- Original -----------\n",
      "[['canines', ['dogs', 'puppies'], ['marsupials']], ['felines', ['cats', 'kittens']], 'Hi there']\n",
      "-------- deep copy -----------\n",
      "[['canines', ['dogs', 'puppies']], ['felines', ['cats', 'kittens']]]\n",
      "-------- shallow copy -----------\n",
      "[['canines', ['dogs', 'puppies'], ['marsupials']], ['felines', ['cats', 'kittens']]]\n"
     ]
    }
   ],
   "source": [
    "# This process above works fine when there are only two layers or levels in a nested list. \n",
    "# However, for making a copy of a nested list that has more than two levels, \n",
    "# in the 'copy' module there is a method called 'deepcopy' that will take care of the operation for you.\n",
    "\n",
    "# Start by importing the copy module\n",
    "import copy\n",
    "original = [['canines', ['dogs', 'puppies']], ['felines', ['cats', 'kittens']]]\n",
    "\n",
    "# Creating shallow copy by aliasing original (for ref)\n",
    "shallow_copy_version = original[:]\n",
    "# This will simply create deepcopy (performs the same operations as before, just in a recursive fashion)\n",
    "deeply_copied_version = copy.deepcopy(original)\n",
    "\n",
    "# Adding an item in the original list to verify\n",
    "original.append(\"Hi there\")\n",
    "# Adding an item in the 1st sublist to verify\n",
    "original[0].append([\"marsupials\"])\n",
    "\n",
    "# Original would show the newly added \"Hi there\"\n",
    "print(\"-------- Original -----------\")\n",
    "print(original)\n",
    "\n",
    "# Deep copy stays unchanged!\n",
    "print(\"-------- deep copy -----------\")\n",
    "print(deeply_copied_version)\n",
    "\n",
    "# Shallow copy would show the ['marsupials'] sublist but not \"Hi there\".\n",
    "# This is because the outer list is aliased but the inner one isn't!\n",
    "print(\"-------- shallow copy -----------\")\n",
    "print(shallow_copy_version)"
   ]
  }
 ],
 "metadata": {
  "kernelspec": {
   "display_name": "Python 3 (ipykernel)",
   "language": "python",
   "name": "python3"
  },
  "language_info": {
   "codemirror_mode": {
    "name": "ipython",
    "version": 3
   },
   "file_extension": ".py",
   "mimetype": "text/x-python",
   "name": "python",
   "nbconvert_exporter": "python",
   "pygments_lexer": "ipython3",
   "version": "3.12.1"
  }
 },
 "nbformat": 4,
 "nbformat_minor": 5
}
