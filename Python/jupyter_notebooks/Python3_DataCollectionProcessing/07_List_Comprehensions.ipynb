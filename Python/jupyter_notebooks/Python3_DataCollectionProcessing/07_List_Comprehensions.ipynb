{
 "cells": [
  {
   "cell_type": "markdown",
   "id": "3cce9c02",
   "metadata": {},
   "source": [
    "# List comprehensions:\n",
    "\n",
    "- Python provides an alternative way to do ``map`` and ``filter`` operations.\n",
    "- These are called **List comprehensions**.\n",
    "- The basic syntax is as below:\n",
    "\n",
    "```python\n",
    "[<transformer_expr> for <loop_var> in <sequence> if <filtration_expr>]\n",
    "```"
   ]
  },
  {
   "cell_type": "code",
   "execution_count": 18,
   "id": "9786d6b6",
   "metadata": {},
   "outputs": [
    {
     "name": "stdout",
     "output_type": "stream",
     "text": [
      "[4, 10, 18]\n"
     ]
    }
   ],
   "source": [
    "things = [2, 5, 9]\n",
    "\n",
    "# value*2 transforms the values. As with map, each item in the sequence is transformed into an item in the new list.\n",
    "yourlist = [value * 2 for value in things]\n",
    "\n",
    "print(yourlist)"
   ]
  },
  {
   "cell_type": "markdown",
   "id": "2a2a5718",
   "metadata": {},
   "source": [
    "- Each time that code is executed, value is bound to one item from things. \n",
    "- The code that is executed each time is the transformer expression, ``value * 2``, rather than a block of code indented underneath the for statement.\n",
    "- The other difference from a regular for loop is that each time the expression is evaluated, the resulting value is appended to a list. \n",
    "- That happens automatically, without the programmer explicitly initializing an empty list or appending each item.\n",
    "- The ``if`` clause of a list comprehension can be used to do a **filter** operation"
   ]
  },
  {
   "cell_type": "code",
   "execution_count": 19,
   "id": "7f6ca5bc",
   "metadata": {},
   "outputs": [
    {
     "name": "stdout",
     "output_type": "stream",
     "text": [
      "[4, 6, 0]\n"
     ]
    }
   ],
   "source": [
    "def keep_evens(nums):\n",
    "    # A pure filter operation: the expression is simply the variable that is bound to each item\n",
    "    new_list = [num for num in nums if num % 2 == 0]\n",
    "    return new_list\n",
    "\n",
    "print(keep_evens([3, 4, 6, 7, 0, 1]))"
   ]
  },
  {
   "cell_type": "code",
   "execution_count": 21,
   "id": "a25e48a3",
   "metadata": {},
   "outputs": [
    {
     "name": "stdout",
     "output_type": "stream",
     "text": [
      "<map object at 0x000001E4006B1360>\n",
      "[8, 12, 0]\n"
     ]
    }
   ],
   "source": [
    "# Combining map and filter operations in together:\n",
    "\n",
    "things = [3, 4, 6, 7, 0, 1]\n",
    "# first, filter to keep only the even numbers\n",
    "# double each of them\n",
    "print(map(lambda x: x*2, filter(lambda y: y % 2 == 0, things)))\n",
    "\n",
    "# equivalent version using list comprehension (Much better!)\n",
    "print([x*2 for x in things if x % 2 == 0])\n"
   ]
  }
 ],
 "metadata": {
  "kernelspec": {
   "display_name": "Python 3 (ipykernel)",
   "language": "python",
   "name": "python3"
  },
  "language_info": {
   "codemirror_mode": {
    "name": "ipython",
    "version": 3
   },
   "file_extension": ".py",
   "mimetype": "text/x-python",
   "name": "python",
   "nbconvert_exporter": "python",
   "pygments_lexer": "ipython3",
   "version": "3.10.3"
  }
 },
 "nbformat": 4,
 "nbformat_minor": 5
}
