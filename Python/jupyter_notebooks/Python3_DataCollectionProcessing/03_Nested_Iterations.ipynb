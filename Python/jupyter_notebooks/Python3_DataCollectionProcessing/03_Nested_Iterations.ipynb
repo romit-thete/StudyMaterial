{
 "cells": [
  {
   "cell_type": "markdown",
   "id": "9a691fed",
   "metadata": {},
   "source": [
    "# Nested Iterations:\n",
    "- Would mostly be needed when we need to traverse nested data types (lists/dicts)."
   ]
  },
  {
   "cell_type": "code",
   "execution_count": 2,
   "id": "9dbcadb1",
   "metadata": {},
   "outputs": [
    {
     "name": "stdout",
     "output_type": "stream",
     "text": [
      "Level 1:\n",
      "    Level 2: a\n",
      "    Level 2: b\n",
      "    Level 2: c\n",
      "Level 1:\n",
      "    Level 2: d\n",
      "    Level 2: e\n",
      "Level 1:\n",
      "    Level 2: f\n",
      "    Level 2: g\n",
      "    Level 2: h\n"
     ]
    }
   ],
   "source": [
    "nested_lst = [['a', 'b', 'c'],['d', 'e'],['f', 'g', 'h']]\n",
    "\n",
    "for lst in nested_lst:\n",
    "    print(\"Level 1:\")\n",
    "    for char in lst:\n",
    "        print(\"    Level 2:\", char)"
   ]
  },
  {
   "cell_type": "markdown",
   "id": "3cee9af2",
   "metadata": {},
   "source": [
    "- As seen above, we use two for loops to iterate two levels of iterated list.\n",
    "- We can also fetch specific items in a list as below:\n",
    "    - Suppose we need to fetch the letter 'd', we can do it as below:\n",
    "    ```python\n",
    "    fetch_d = nested_lst[1][0]\n",
    "    ```\n",
    "---\n",
    "**Note:**\n",
    "- It is always good to have same data types in a nested list. (example below)\n",
    "- The reason for this is because any deviation in the structure that is used will require extra code to handle those special cases. The more the structure deviates, the more you will have to use special cases.\n",
    "---"
   ]
  },
  {
   "cell_type": "code",
   "execution_count": 3,
   "id": "12caa286",
   "metadata": {},
   "outputs": [
    {
     "name": "stdout",
     "output_type": "stream",
     "text": [
      "Level 1:\n"
     ]
    },
    {
     "ename": "TypeError",
     "evalue": "'int' object is not iterable",
     "output_type": "error",
     "traceback": [
      "\u001b[1;31m---------------------------------------------------------------------------\u001b[0m",
      "\u001b[1;31mTypeError\u001b[0m                                 Traceback (most recent call last)",
      "Cell \u001b[1;32mIn[3], line 6\u001b[0m\n\u001b[0;32m      4\u001b[0m \u001b[38;5;28;01mfor\u001b[39;00m lst \u001b[38;5;129;01min\u001b[39;00m nested_lst:\n\u001b[0;32m      5\u001b[0m     \u001b[38;5;28mprint\u001b[39m(\u001b[38;5;124m\"\u001b[39m\u001b[38;5;124mLevel 1:\u001b[39m\u001b[38;5;124m\"\u001b[39m)\n\u001b[1;32m----> 6\u001b[0m     \u001b[38;5;28;01mfor\u001b[39;00m char \u001b[38;5;129;01min\u001b[39;00m lst:\n\u001b[0;32m      7\u001b[0m         \u001b[38;5;28mprint\u001b[39m(\u001b[38;5;124m\"\u001b[39m\u001b[38;5;124m    Level 2:\u001b[39m\u001b[38;5;124m\"\u001b[39m, char)\n",
      "\u001b[1;31mTypeError\u001b[0m: 'int' object is not iterable"
     ]
    }
   ],
   "source": [
    "nested_lst = [1, 2, ['a', 'b', 'c'],['d', 'e'],['f', 'g', 'h']]\n",
    "\n",
    "# Now, iterating through this list with the same code logic as before is not going to work.\n",
    "for lst in nested_lst:\n",
    "    print(\"Level 1:\")\n",
    "    for char in lst:\n",
    "        print(\"    Level 2:\", char)"
   ]
  },
  {
   "cell_type": "code",
   "execution_count": 4,
   "id": "21d7feb1",
   "metadata": {},
   "outputs": [
    {
     "name": "stdout",
     "output_type": "stream",
     "text": [
      "Level 1:\n",
      "1\n",
      "Level 1:\n",
      "2\n",
      "Level 1:\n",
      "    Level 2: a\n",
      "    Level 2: b\n",
      "    Level 2: c\n",
      "Level 1:\n",
      "    Level 2: d\n",
      "    Level 2: e\n",
      "Level 1:\n",
      "    Level 2: f\n",
      "    Level 2: g\n",
      "    Level 2: h\n"
     ]
    }
   ],
   "source": [
    "# Instead, we can solve this by using the below logic \n",
    "# and such logic would be needed for every nested list iteration having mixed data types!\n",
    "nested_lst = [1, 2, ['a', 'b', 'c'],['d', 'e'],['f', 'g', 'h']]\n",
    "\n",
    "for item in nested_lst:\n",
    "    print(\"Level 1:\")\n",
    "    if type(item) is list:\n",
    "        for char in item:\n",
    "            print(\"    Level 2:\", char)\n",
    "    else:\n",
    "        print(item)"
   ]
  }
 ],
 "metadata": {
  "kernelspec": {
   "display_name": "Python 3 (ipykernel)",
   "language": "python",
   "name": "python3"
  },
  "language_info": {
   "codemirror_mode": {
    "name": "ipython",
    "version": 3
   },
   "file_extension": ".py",
   "mimetype": "text/x-python",
   "name": "python",
   "nbconvert_exporter": "python",
   "pygments_lexer": "ipython3",
   "version": "3.10.3"
  }
 },
 "nbformat": 4,
 "nbformat_minor": 5
}
