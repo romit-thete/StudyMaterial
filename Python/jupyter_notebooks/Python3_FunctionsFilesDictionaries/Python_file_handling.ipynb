{
 "cells": [
  {
   "cell_type": "markdown",
   "id": "01c2add2",
   "metadata": {},
   "source": [
    "# Welcome to File handling course notes:\n",
    "\n",
    "This notebook covers details different ways to handle files in Python."
   ]
  },
  {
   "cell_type": "markdown",
   "id": "f751b62a",
   "metadata": {},
   "source": [
    "## Introduction: Working with Data files:\n",
    "\n",
    "In Python, we must open files before we can use them and close them when we are done with them. As you might expect, once a file is opened it becomes a Python object just like all other data.\n",
    "<br>Below are some functions and methods that can be used to open and close files:\n",
    "\n",
    "1. open for reading:<br>\n",
    "<b>Usage:</b> ``fileref = open(filename, 'r')``<br>\n",
    "Open a file called filename and use it for reading. This will return a reference to a file object (``fileref`` here).\n",
    "2. open for writing:<br>\n",
    "<b>Usage:</b> ``fileref = open(filename, 'w')``<br>\n",
    "Open a file called filename and use it for writing. This will also return a reference to a file object (``fileref`` here).\n",
    "3. close:<br>\n",
    "<b>Usage:</b> ``fileref.close()``\n",
    "File use is complete.\n",
    "\n",
    "As an example, suppose we have a text file called ``olympics.txt`` that contains the data representing about olympians across different years."
   ]
  },
  {
   "cell_type": "code",
   "execution_count": 9,
   "id": "086ad637",
   "metadata": {},
   "outputs": [
    {
     "ename": "ValueError",
     "evalue": "I/O operation on closed file.",
     "output_type": "error",
     "traceback": [
      "\u001b[1;31m---------------------------------------------------------------------------\u001b[0m",
      "\u001b[1;31mValueError\u001b[0m                                Traceback (most recent call last)",
      "Cell \u001b[1;32mIn[9], line 10\u001b[0m\n\u001b[0;32m      7\u001b[0m fileref\u001b[38;5;241m.\u001b[39mclose()\n\u001b[0;32m      9\u001b[0m \u001b[38;5;66;03m# After this point, any reference to the fileref object will result in an error.\u001b[39;00m\n\u001b[1;32m---> 10\u001b[0m \u001b[38;5;28mprint\u001b[39m(\u001b[43mfileref\u001b[49m\u001b[38;5;241;43m.\u001b[39;49m\u001b[43mread\u001b[49m\u001b[43m(\u001b[49m\u001b[43m)\u001b[49m)\n",
      "\u001b[1;31mValueError\u001b[0m: I/O operation on closed file."
     ]
    }
   ],
   "source": [
    "# We would first open the olympics.txt file using open, this would return a reference to a object, we name it fileref\n",
    "fileref = open('../RefFiles/olympics.txt', 'r')\n",
    "\n",
    "# We can now perform file read related operations within this block.\n",
    "\n",
    "# Once we are finished with the file usage, we would close the file using the close method. \n",
    "fileref.close()\n",
    "\n",
    "# After this point, any reference to the fileref object will result in an error.\n",
    "print(fileref.read())"
   ]
  },
  {
   "cell_type": "markdown",
   "id": "f6618167",
   "metadata": {},
   "source": [
    "Once you have a file “object”, the thing returned by the open function, Python provides three methods to read data from that object:<br>\n",
    "<strong>1. read()</strong>:<br>\n",
    "<strong><i>Usage:</i></strong> ``fileref.read(n)``<br>\n",
    "Read and return a string of ``n`` characters, or the entire file as a single string if ``n`` is not provided.<br>\n",
    "\n",
    "<strong>2. readline()</strong>:<br>\n",
    "<strong><i>Usage:</i></strong> ``fileref.readline(n)``<br>\n",
    "Read and return the next line of the file with all text up to and including the newline character. If ``n`` is provided as a parameter, then only ``n`` characters will be returned if the line is longer than ``n``.<br>\n",
    "<b>Note:</b> the parameter ``n`` is not supported in the browser version of Python, and in fact is rarely used in practice, you can safely ignore it.<br>\n",
    "\n",
    "<strong>3. readlines(n)</strong>:<br>\n",
    "<strong><i>Usage:</i></strong> ``fileref.readlines(n)``<br>\n",
    "Returns a list of strings, each representing a single line of the file. If ``n`` is not provided then all lines of the file are returned. If ``n`` is provided then ``n`` characters are read but ``n`` is rounded up so that an entire line is returned.<br>\n",
    "<b>Note:</b> like readline, readlines ignores the parameter ``n`` in the browser.<br>\n",
    "\n",
    "\n",
    "Both method \\#2 and \\#3 may contain a newline character (\\n) at the end.\n",
    "\n",
    "<strong> Important Note:</strong>\n",
    "A common error that novice programmers make is not realizing that all these ways of reading the file contents, use up the file.<br>\n",
    "After you call readlines(), if you call it again you’ll get an empty list."
   ]
  },
  {
   "cell_type": "code",
   "execution_count": 10,
   "id": "08954d9d",
   "metadata": {},
   "outputs": [
    {
     "name": "stdout",
     "output_type": "stream",
     "text": [
      "read():\n",
      "contents = (Name,Sex,Age,Team,Event,Medal\n",
      "A Dijiang,M,24,China,Basketball,NA\n",
      "A Lamusi,M,23,China,Judo,NA\n",
      "Gunnar Nielsen Aaby,M,24,Denmark,Football,NA\n",
      "Edgar Lindenau Aabye,M,34,Denmark/Sweden,Tug-Of-War,Gold\n",
      "Christine Jacoba Aaftink,F,21,Netherlands,Speed Skating,NA\n",
      ")\n",
      "\n",
      "readlines():\n",
      "lines = ['Name,Sex,Age,Team,Event,Medal\\n', 'A Dijiang,M,24,China,Basketball,NA\\n', 'A Lamusi,M,23,China,Judo,NA\\n', 'Gunnar Nielsen Aaby,M,24,Denmark,Football,NA\\n', 'Edgar Lindenau Aabye,M,34,Denmark/Sweden,Tug-Of-War,Gold\\n', 'Christine Jacoba Aaftink,F,21,Netherlands,Speed Skating,NA\\n']\n",
      "\n",
      "readline():\n",
      "line1 = (Name,Sex,Age,Team,Event,Medal\n",
      "),\n",
      "line2 = (A Dijiang,M,24,China,Basketball,NA\n",
      "),\n",
      "line3 = (A Lamusi,M,23,China,Judo,NA\n",
      ")\n"
     ]
    }
   ],
   "source": [
    "# Let's try and use these methods one by one\n",
    "fref = open('../RefFiles/olympics_short.txt', 'r')\n",
    "contents = fref.read()                   # Should save all the lines from the file in the string: contents\n",
    "fref.close()\n",
    "print(\"read():\\ncontents = ({})\".format(contents))\n",
    "\n",
    "# We would need to open the file again in order to read as the contents have been replinished already and the file is also closed.\n",
    "fref = open('../RefFiles/olympics_short.txt', 'r')\n",
    "all_lines = fref.readlines()            # Should save all the lines in the file in the list: all_lines\n",
    "fref.close()\n",
    "print(\"\\nreadlines():\\nlines = {}\".format(all_lines))\n",
    "\n",
    "# Once again, we would reopen as the contents have been used already by readlines() and the file is also closed.\n",
    "fref = open('../RefFiles/olympics_short.txt', 'r')\n",
    "line1 = fref.readline()\n",
    "line2 = fref.readline()\n",
    "line3 = fref.readline()\n",
    "fref.close()\n",
    "\n",
    "print(\"\\nreadline():\\nline1 = ({}),\\nline2 = ({}),\\nline3 = ({})\".format(line1, line2, line3))    # See how the \\n chars are being parsed here."
   ]
  },
  {
   "cell_type": "markdown",
   "id": "6a9cd672",
   "metadata": {},
   "source": [
    "We can also write to a file using the ``w`` paramter. To write a line, we use the ``write()`` method on the reference object that refers to a file opened for writing. When we open a file for writing, a new, empty file with that name is created and made ready to accept our data. If an existing file has the same name, its contents are overwritten.\n",
    "\n",
    "<strong>write()</strong>:<br>\n",
    "<strong><i>Usage:</i></strong> ``fileref.write(astring)``<br>\n",
    "Add a string to the end of the file. ``fileref`` must refer to a file that has been opened for writing (using the 'w' parameter instead of 'r').<br>\n",
    "\n",
    "Be very careful to notice that the write method takes one parameter, a string. It is the programmer’s job to include the newline characters as part of the string if desired."
   ]
  },
  {
   "cell_type": "markdown",
   "id": "3b24d441",
   "metadata": {},
   "source": [
    "## Iterating over files: \n",
    "A <strong>line</strong> of a file is defined to be a sequence of characters up to and including a special newline character (\\n). If you print a string that contains a newline you will not see the \\n, you will just see its effects (a carriage return).\n",
    "\n",
    "Because ``readlines()`` returns a list of lines of text, we can use the for loop to iterate through each line of the file.<br>\n",
    "```python\n",
    "fileref = open('filename.ext', 'r')\n",
    "for line in fileref.readlines():\n",
    "    statement1\n",
    "    statement2\n",
    "    ...\n",
    "```\n",
    "\n",
    "However, to make the code a little simpler, and to allow for more efficient processing, Python provides a built-in way to iterate through the contents of a file one line at a time, without first reading them all into a list.\n",
    "\n",
    "```python\n",
    "fileref = open('filename.ext', 'r')\n",
    "for line in fileref:\n",
    "    statement1\n",
    "    statement2\n",
    "    ...\n",
    "```"
   ]
  },
  {
   "cell_type": "markdown",
   "id": "ebb768da",
   "metadata": {},
   "source": [
    "## Using ```with``` for files:\n",
    "This is another mechanism that Python provides for us that cleans up the often forgotten close.\n",
    "Forgetting to close a file does not necessarily cause a runtime error however if you are writing a program that may run for days or weeks at a time that does a lot of file reading and writing you may run into trouble.\n",
    "\n",
    "We can use the ``with`` statement to make context management easy (opening and closing files):\n",
    "\n",
    "```python\n",
    "with <create some object that understands context> as <some name>:\n",
    "    # do some stuff with the object\n",
    "    ...\n",
    "```\n",
    "When the program exits the with block, the context manager handles the common stuff that normally happens at the end, in our case closing a file. Let's see an example below:"
   ]
  },
  {
   "cell_type": "code",
   "execution_count": 11,
   "id": "9dfe5812",
   "metadata": {},
   "outputs": [
    {
     "name": "stdout",
     "output_type": "stream",
     "text": [
      "Name,Sex,Age,Team,Event,Medal\n",
      "A Dijiang,M,24,China,Basketball,NA\n",
      "A Lamusi,M,23,China,Judo,NA\n",
      "Gunnar Nielsen Aaby,M,24,Denmark,Football,NA\n",
      "Edgar Lindenau Aabye,M,34,Denmark/Sweden,Tug-Of-War,Gold\n",
      "Christine Jacoba Aaftink,F,21,Netherlands,Speed Skating,NA\n"
     ]
    }
   ],
   "source": [
    "with open('../RefFiles/olympics_short.txt', 'r') as md:\n",
    "    for line in md:\n",
    "        print(line.strip())        # We use the strip() method to remove the newline chars which create an unncesessary newline.\n",
    "# continue on with other code"
   ]
  },
  {
   "cell_type": "markdown",
   "id": "52d48127",
   "metadata": {},
   "source": [
    "### Here’s a foolproof recipe for processing the contents of a text file.\n",
    "#### <b><u>Steps:</u></b>\n",
    "1. Open the file using with and open.\n",
    "2. Use ``.readlines()`` to get a list of the lines of text in the file.\n",
    "3. Use a ``for`` loop to iterate through the strings in the list, each being one line from the file. On each iteration, process that line of text.\n",
    "4. When you are done extracting data from the file, continue writing your code outside of the indentation. Using with will automatically close the file once the program exits the with block.\n",
    "\n",
    "```python\n",
    "fname = \"yourfile.txt\"\n",
    "with open(fname, 'r') as fileref:         # step 1\n",
    "    lines = fileref.readlines()           # step 2\n",
    "    for lin in lines:                     # step 3\n",
    "        #some code that references the variable lin\n",
    "#some other code not relying on fileref   # step 4\n",
    "```\n",
    "\n",
    "However, this will not be good to use when you are working with large data. Imagine working with a datafile that has 1000 rows of data. It would take a long time to read in all the data and then if you had to iterate over it, even more time would be necessary. <br>\n",
    "Hence, in this case, we would be iterating over the file itself while still iterating over each line in the file:\n",
    "\n",
    "```python\n",
    "with open(fname, 'r') as fileref:\n",
    "    for lin in fileref:\n",
    "        ## some code that uses line as the current line of the file\n",
    "        ## some more code\n",
    "```"
   ]
  },
  {
   "cell_type": "markdown",
   "id": "150c2a87",
   "metadata": {},
   "source": [
    "## Reading from CSV Files:\n",
    "\n",
    "Typically, CSV files will have a header as the first line, which contains column names. Then, each following row in the file will contain data that corresponds to the appropriate columns.<br>\n",
    "The ``read``, ``readline``, and ``readlines``, and simply iterating over the file object itself - will work on CSV files.<br>\n",
    "The comma is the delimiter in case of CSV files, hence we use the split() method to split the data based on these commas."
   ]
  },
  {
   "cell_type": "code",
   "execution_count": 12,
   "id": "d42e99e2",
   "metadata": {},
   "outputs": [
    {
     "name": "stdout",
     "output_type": "stream",
     "text": [
      "['Name', 'Sex', 'Age', 'Team', 'Event', 'Medal']\n",
      "Edgar Lindenau Aabye: Tug-Of-War; Gold\n",
      "Arvo Ossian Aaltonen: Swimming; Bronze\n",
      "Arvo Ossian Aaltonen: Swimming; Bronze\n",
      "Juhamatti Tapio Aaltonen: Ice Hockey; Bronze\n",
      "Paavo Johannes Aaltonen: Gymnastics; Bronze\n",
      "Paavo Johannes Aaltonen: Gymnastics; Gold\n",
      "Paavo Johannes Aaltonen: Gymnastics; Gold\n",
      "Paavo Johannes Aaltonen: Gymnastics; Gold\n",
      "Paavo Johannes Aaltonen: Gymnastics; Bronze\n"
     ]
    }
   ],
   "source": [
    "fref = open(\"../RefFiles/olympics.txt\", 'r')\n",
    "\n",
    "# Getting the lines inside a list\n",
    "lines = fref.readlines()\n",
    "\n",
    "# Capturing the header from the data\n",
    "header = lines[0]\n",
    "\n",
    "# Stripping \\n and splitting the values based on comma\n",
    "field_names = header.strip().split(',')\n",
    "print(field_names)\n",
    "for row in lines[1:]:\n",
    "    vals = row.strip().split(',')\n",
    "    # Ignoring players who have not won any medals\n",
    "    if vals[5] != \"NA\":\n",
    "        print(\"{}: {}; {}\".format(\n",
    "                vals[0],\n",
    "                vals[4],\n",
    "                vals[5]))"
   ]
  },
  {
   "cell_type": "markdown",
   "id": "9157f26c",
   "metadata": {},
   "source": [
    "Note that the trick of splitting the text for each row based on the presence of commas only works because commas are not used in any of the field values (e.g., Swimming, 100M Freestyle as a sport).<br>\n",
    "One alternative format in case of CSV files uses a different column separator, such as | or a tab (t). Sometimes, when a tab is used, the format is called tsv, for tab-separated values). If you get a file using a different separator, you can just call the .split('|') or .split('\\\\t').<br>\n",
    "The other advanced CSV format uses commas to separate but encloses all values in double quotes. In such a case, it is better to use the Python's built in CSV module."
   ]
  },
  {
   "cell_type": "markdown",
   "id": "a6168cd7",
   "metadata": {},
   "source": [
    "## Writing data to a CSV File:\n",
    "The typical pattern for writing data to a CSV file is to write a header row and loop through the items in a list, outputting one row for each.\n",
    "\n",
    "Here is a complex example, where we a have a list of tuples, each representing one Olympian, a subset of the rows and columns from the file we have been reading from.<br>\n",
    "\n",
    "```python \n",
    "olympians = [(\"John Aalberg\", 31, \"Cross Country Skiing\"),\n",
    "             (\"Minna Maarit Aalto\", 30, \"Sailing\"),\n",
    "             (\"Win Valdemar Aaltonen\", 54, \"Art Competitions\"),\n",
    "             (\"Wakako Abe\", 18, \"Cycling\")]\n",
    "\n",
    "outfile = open(\"reduced_olympics.csv\", \"w\")\n",
    "# output the header row\n",
    "outfile.write('Name,Age,Sport')\n",
    "outfile.write('\\n')\n",
    "# output each of the rows:\n",
    "for olympian in olympians:\n",
    "    row_string = '{},{},{}'.format(olympian[0], olympian[1], olympian[2])\n",
    "    outfile.write(row_string)\n",
    "    outfile.write('\\n')\n",
    "outfile.close()\n",
    "```\n",
    "\n",
    "Here we use the ``.format()`` method to create a CSV format string. An alternative, also clear way to do it would be with the ``.join`` method. However, it is best to use ``.format()`` if the list contains any non-string values.\n",
    "```python\n",
    "row_string = ','.join([olympian[0], str(olympian[1]), olympian[2]]).\n",
    "```\n",
    "\n",
    "Whereas, just putting ``.format(olympian)`` wouldn’t work because the interpreter would see only one value (a tuple) when it was expecting three values to try to substitute into the string template <br>\n",
    "Also, in cases when we have the values inside double quotes, Python allows strings to be delimited with either single quotes or double quotes so that one can be used to delimit the string and the other can be a character in the string.<br>\n",
    "But in case if you need to quote all/most of the values, it is best to use the CSV module instead.\n",
    "```python\n",
    "olympians = [(\"John Aalberg\", 31, \"Cross Country Skiing, 15KM\"),\n",
    "             (\"Minna Maarit Aalto\", 30, \"Sailing\"),\n",
    "             (\"Win Valdemar Aaltonen\", 54, \"Art Competitions\"),\n",
    "             (\"Wakako Abe\", 18, \"Cycling\")]\n",
    "\n",
    "outfile = open(\"reduced_olympics2.csv\", \"w\")\n",
    "# output the header row\n",
    "outfile.write('\"Name\",\"Age\",\"Sport\"')\n",
    "outfile.write('\\n')\n",
    "# output each of the rows:\n",
    "for olympian in olympians:\n",
    "    # We used double quotes here to quote the values.\n",
    "    row_string = '\"{}\", \"{}\", \"{}\"'.format(olympian[0], olympian[1], olympian[2])\n",
    "    outfile.write(row_string)\n",
    "    outfile.write('\\n')\n",
    "outfile.close()\n",
    "```"
   ]
  }
 ],
 "metadata": {
  "kernelspec": {
   "display_name": "Python 3 (ipykernel)",
   "language": "python",
   "name": "python3"
  },
  "language_info": {
   "codemirror_mode": {
    "name": "ipython",
    "version": 3
   },
   "file_extension": ".py",
   "mimetype": "text/x-python",
   "name": "python",
   "nbconvert_exporter": "python",
   "pygments_lexer": "ipython3",
   "version": "3.10.3"
  }
 },
 "nbformat": 4,
 "nbformat_minor": 5
}
