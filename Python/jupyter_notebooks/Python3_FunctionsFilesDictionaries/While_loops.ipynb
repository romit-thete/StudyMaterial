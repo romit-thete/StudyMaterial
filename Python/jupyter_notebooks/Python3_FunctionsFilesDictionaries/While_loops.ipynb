{
 "cells": [
  {
   "cell_type": "markdown",
   "id": "a3371feb",
   "metadata": {},
   "source": [
    "## The While loop:\n",
    "### When to use a while loop:\n",
    "In cases when we do not know until when is a loop supposed to be executed. We term these iterations as indefinite iterations.\n",
    "<br> While loops are often used to create listener functions where a program keeps asking the user for an input until the correct input is received.\n",
    "<br>In other words, the body of while will be repeated as long as the controlling boolean expression evaluates to ``True``.\n",
    "\n",
    "In case of for loops, we know the number of iterations until when is a particular loop to be executed.\n",
    "<br>More formally, here is the flow of execution for a while statement:\n",
    "\n",
    "1. Evaluate the condition, yielding False or True.\n",
    "2. If the condition is ``False``, exit the while statement and continue execution at the next statement.\n",
    "3. If the condition is ``True``, execute each of the statements in the body and then go back to step 1.\n",
    "\n",
    "**IMPORTANT:** The body of the loop should change the value of one or more variables so that eventually the condition becomes ``False`` and the loop terminates. If not, the loop would become and **infinite loop**."
   ]
  },
  {
   "cell_type": "code",
   "execution_count": 10,
   "id": "48c10d0b",
   "metadata": {},
   "outputs": [
    {
     "name": "stdout",
     "output_type": "stream",
     "text": [
      "list_nums: [1, 2, 3, 4, 5]\n",
      "new_list: [1, 2, 3]\n",
      "\n",
      "list_nums: [3, 4.5, 1, 33, 44]\n",
      "new_list: [3, 4.5, 1, 33, 44]\n",
      "\n",
      "list_nums: [4]\n",
      "new_list: []\n",
      "\n",
      "list_nums: [5, 6, 7, 8, 9]\n",
      "new_list: [5, 6, 7, 8, 9]\n",
      "\n"
     ]
    }
   ],
   "source": [
    "# Write a function called stop_at_four that iterates through a list of numbers. \n",
    "# Using a while loop, append each number to a new list until the number 4 appears. \n",
    "# The function should return the new list.\n",
    "\n",
    "def stop_at_four(list_nums):\n",
    "    new_list = []\n",
    "    num = 0\n",
    "    while num < len(list_nums) and list_nums[num] != 4:\n",
    "        new_list.append(list_nums[num])\n",
    "        num += 1\n",
    "    return \"list_nums: {}\\nnew_list: {}\\n\".format(list_nums, new_list)\n",
    "\n",
    "print(stop_at_four([1, 2, 3, 4, 5]))\n",
    "print(stop_at_four([3, 4.5, 1, 33, 44]))\n",
    "print(stop_at_four([4]))\n",
    "print(stop_at_four([5, 6, 7, 8, 9]))"
   ]
  },
  {
   "cell_type": "markdown",
   "id": "069b013a",
   "metadata": {},
   "source": [
    "## Applications of while loop:\n",
    "Below are some cases when we can use while loops:\n",
    "1. **The listener loop:** A program that keeps listening for input values until a certain pre-decided value is entered by the user.\n",
    "2. **Sentinel values:** Values used to signal the end of the loop. e.g., checkout line at grocery, the clerks don’t know in advance how many items there are. They just keep ringing up items as long as there are more on the conveyor belt.\n",
    "3. **Validating an input:** e.g., when you want to make sure the user has entered valid input for a prompt. For instance, a Captcha!"
   ]
  },
  {
   "cell_type": "code",
   "execution_count": 1,
   "id": "48c04363",
   "metadata": {},
   "outputs": [
    {
     "name": "stdout",
     "output_type": "stream",
     "text": [
      "Enter price of item (0 when done): 1\n",
      "Subtotal: $ 1.0\n",
      "Enter price of item (0 when done): 2\n",
      "Subtotal: $ 3.0\n",
      "Enter price of item (0 when done): -2\n",
      "Price is -2.0 and it cannot be negative\n",
      "Enter price of item (0 when done): 0\n",
      "Total items: 2\n",
      "Total $ 3.0\n",
      "Average price per item: $ 1.5\n"
     ]
    }
   ],
   "source": [
    "# Example of a grocery store program\n",
    "# In his program, zero price is a sentinel value\n",
    "def checkout():\n",
    "    total = 0\n",
    "    count = 0\n",
    "    moreItems = True\n",
    "    while moreItems:\n",
    "        price = float(input('Enter price of item (0 when done): '))\n",
    "        # In case if user inputs a negative value, we should display an error but still keep asking for inputs\n",
    "        if price < 0:\n",
    "            print(\"Price is {} and it cannot be negative\".format(price))\n",
    "        elif price != 0:\n",
    "            count = count + 1\n",
    "            total = total + price\n",
    "            print('Subtotal: $', total)\n",
    "        # Exit the loop if we get price == 0\n",
    "        else:\n",
    "            moreItems = False\n",
    "    # We can't afford to have count as 0 or the program will give a ZeroDivisonError\n",
    "    if count == 0:\n",
    "        print(\"Can’t compute an average without data\")\n",
    "        return\n",
    "    average = total / count\n",
    "    print('Total items:', count)\n",
    "    print('Total $', total)\n",
    "    print('Average price per item: $', average)\n",
    "\n",
    "checkout()"
   ]
  },
  {
   "cell_type": "markdown",
   "id": "556db69c",
   "metadata": {},
   "source": [
    "## Randomly Walking Turtles:\n",
    "**Problem Statement:** Create a turtle wandering around randomly inside the screen. <br>\n",
    "When we run the program we want the turtle and program to behave in the following way:\n",
    "1. The turtle begins in the center of the screen.\n",
    "2. Flip a coin. If it’s heads then turn to the left 90 degrees. If it’s tails then turn to the right 90 degrees.\n",
    "3. Take 50 steps forward.\n",
    "4. If the turtle has moved outside the screen then stop, otherwise go back to step 2 and repeat.\n",
    "\n",
    "**Pseudocode:**\n",
    "```python\n",
    "create a window and a turtle\n",
    "\n",
    "while the turtle is still in the window:\n",
    "    generate a random number between 0 and 1\n",
    "    if the number == 0 (heads):\n",
    "        turn left\n",
    "    else:\n",
    "        turn right\n",
    "    move the turtle forward 50\n",
    "```"
   ]
  },
  {
   "cell_type": "code",
   "execution_count": 11,
   "id": "25374ebb",
   "metadata": {},
   "outputs": [],
   "source": [
    "# Note: This program would be needed to run a couple of times in case if the turtle window becomes unresponsive\n",
    "\n",
    "import random\n",
    "import turtle\n",
    "\n",
    "\n",
    "def isInScreen(window, turt):\n",
    "    # Creating a random value to match so that the other functionality can be developed first\n",
    "    # return True if random.random() > 0.1 else False\n",
    "    \n",
    "    # We can get the x and y coordinates of the window using xcor(), ycor() methods of the turtle\n",
    "    # However, we know these are (0,0) initially.\n",
    "    # So we never want the turtle to go farther right than width/2 or farther left than negative width/2. \n",
    "    # Similarly, we never want the turtle to go further up than height/2 or further down than negative height/2\n",
    "    \n",
    "    leftBound = -window.window_width() / 2\n",
    "    rightBound = window.window_width() / 2\n",
    "    topBound = window.window_height() / 2\n",
    "    bottomBound = -window.window_height() / 2\n",
    "    \n",
    "    turtleX = turt.xcor()\n",
    "    turtleY = turt.ycor()\n",
    "    \n",
    "    # We define a stillIn variable which lets us know if the turtle is still in the window.\n",
    "    # There is another way by using if-else, or we can also have return statements directly inside the conditionals\n",
    "    stillIn = True\n",
    "    if turtleX > rightBound or turtleX < leftBound:\n",
    "        stillIn = False\n",
    "    if turtleY > topBound or turtleY < bottomBound:\n",
    "        stillIn = False\n",
    "    return stillIn\n",
    "\n",
    "alex = turtle.Turtle()\n",
    "window = turtle.Screen()\n",
    "\n",
    "# alex.shape('turtle')\n",
    "while isInScreen(window, alex):\n",
    "    coin = random.randrange(0, 2)\n",
    "    if coin == 0:\n",
    "        alex.left(90)\n",
    "    else:\n",
    "        alex.right(90)\n",
    "    alex.forward(50)\n",
    "\n",
    "window.exitonclick()"
   ]
  },
  {
   "cell_type": "markdown",
   "id": "93378b16",
   "metadata": {},
   "source": [
    "## Break and continue:\n",
    "Python provides two ways to control the flow of iteration: ``continue`` and ``break``.\n",
    "- Break exits the ongoing iteration and moves to the next line outside the loop\n",
    "- Continue exits the ongoing iteration and moves back to the top of the loop to start the next iteration."
   ]
  },
  {
   "cell_type": "code",
   "execution_count": 13,
   "id": "a9af7125",
   "metadata": {},
   "outputs": [
    {
     "name": "stdout",
     "output_type": "stream",
     "text": [
      "this phrase will always print\n",
      "We are done with the while loop.\n"
     ]
    }
   ],
   "source": [
    "# Program to test break\n",
    "# Here, we have no way to stop the while loop (which is an indefinite loop) without using a break statement\n",
    "while True:\n",
    "    print(\"this phrase will always print\")\n",
    "    break\n",
    "    print(\"Does this phrase print?\")\n",
    "\n",
    "print(\"We are done with the while loop.\")"
   ]
  },
  {
   "cell_type": "code",
   "execution_count": 14,
   "id": "152ea073",
   "metadata": {},
   "outputs": [
    {
     "name": "stdout",
     "output_type": "stream",
     "text": [
      "we are incrementing x\n",
      "we are incrementing x\n",
      "we are incrementing x\n",
      "Done with our loop! X has the value: 15\n"
     ]
    }
   ],
   "source": [
    "# Program to test continue\n",
    "x = 0\n",
    "while x < 10:\n",
    "    print(\"we are incrementing x\")\n",
    "    # If x is even, add 3 to it and move to the next iteration\n",
    "    if x % 2 == 0:\n",
    "        x += 3\n",
    "        continue\n",
    "    # If x is not even but divisible by 3, add 5 to it and move to the next line and add 1 more.\n",
    "    if x % 3 == 0:\n",
    "        x += 5\n",
    "    x += 1\n",
    "print(\"Done with our loop! X has the value: \" + str(x))"
   ]
  }
 ],
 "metadata": {
  "kernelspec": {
   "display_name": "Python 3 (ipykernel)",
   "language": "python",
   "name": "python3"
  },
  "language_info": {
   "codemirror_mode": {
    "name": "ipython",
    "version": 3
   },
   "file_extension": ".py",
   "mimetype": "text/x-python",
   "name": "python",
   "nbconvert_exporter": "python",
   "pygments_lexer": "ipython3",
   "version": "3.10.3"
  }
 },
 "nbformat": 4,
 "nbformat_minor": 5
}
