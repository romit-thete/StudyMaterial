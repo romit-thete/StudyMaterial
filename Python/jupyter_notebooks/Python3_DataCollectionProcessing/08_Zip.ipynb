{
 "cells": [
  {
   "cell_type": "markdown",
   "id": "6d089df9",
   "metadata": {},
   "source": [
    "# Zip:\n",
    "- One more common pattern with lists, besides accumulation, is to step through a pair of lists (or several lists), doing something with all of the first items, then something with all of the second items, and so on.\n",
    "- For example, given two lists of numbers, you might like to add them up pairwise, taking ``[3, 4, 5]`` and ``[1, 2, 3]`` to yield ``[4, 6, 8]``."
   ]
  },
  {
   "cell_type": "code",
   "execution_count": 18,
   "id": "54626c9c",
   "metadata": {},
   "outputs": [
    {
     "name": "stdout",
     "output_type": "stream",
     "text": [
      "L3 using for loop: [4, 6, 8]\n",
      "L3 using zip: [4, 6, 8]\n",
      "L3 using zip and List comprehensions: [4, 6, 8]\n",
      "L3 using map: <map object at 0x000001CCF75E0AC0>\n"
     ]
    }
   ],
   "source": [
    "# One way to do this is using for loops:\n",
    "L1 = [3, 4, 5]\n",
    "L2 = [1, 2, 3]\n",
    "L3 = []\n",
    "\n",
    "for i in range(len(L1)):\n",
    "    L3.append(L1[i] + L2[i])\n",
    "\n",
    "print(\"L3 using for loop: {}\".format(L3))\n",
    "\n",
    "\n",
    "# Whereas the Other way is using zip()\n",
    "\"\"\"\n",
    "The zip function takes multiple lists and turns them into a list of tuples \n",
    "(actually, an iterator, but they work like lists for most practical purposes), \n",
    "pairing up all the first items as one tuple, all the second items as a tuple, and so on.\n",
    "\"\"\"\n",
    "L3 = []\n",
    "for (i, j) in list(zip(L1, L2)):\n",
    "    L3.append(i + j)\n",
    "\n",
    "print(\"L3 using zip: {}\".format(L3))\n",
    "\n",
    "\n",
    "# Alternatively this can be simplified further using List comprehensions\n",
    "L3 =[]\n",
    "L3 = [i+j for (i, j) in list(zip(L1, L2))]\n",
    "print(\"L3 using zip and List comprehensions: {}\".format(L3))\n",
    "\n",
    "\n",
    "# Or, using map and not unpacking the tuple\n",
    "L3 = []\n",
    "L3 = map(lambda i: i[0] + i[1], zip(L1, L2))\n",
    "print(\"L3 using map: {}\".format(L3))\n"
   ]
  },
  {
   "cell_type": "markdown",
   "id": "1c523484",
   "metadata": {},
   "source": [
    "- Consider a function called ``possible``, which determines whether a word is still possible to play in a game of *hangman*, given the guesses that have been made and the current state of the blanked word."
   ]
  },
  {
   "cell_type": "code",
   "execution_count": 19,
   "id": "6a60abfd",
   "metadata": {},
   "outputs": [
    {
     "name": "stdout",
     "output_type": "stream",
     "text": [
      "True\n",
      "False\n"
     ]
    }
   ],
   "source": [
    "def possible(word, blanked, guesses_made):\n",
    "    # Check if the word and blanked are of same length. Else, there's no possibility!\n",
    "    if len(word) != len(blanked):\n",
    "        return False\n",
    "    for i in range(len(word)):\n",
    "        # current blanked word\n",
    "        bc = blanked[i]\n",
    "        # current guessed word\n",
    "        wc = word[i]\n",
    "        # bc is yet to be filled but wc is already guessed: no possibility of the word being correct.\n",
    "        # e.g., bc = _, wc = 'w' (in guesses made). \n",
    "        # So 'w' was guessed but bc did not change. Thus, can the word be \"wonderwall\"? -- NO\n",
    "        if bc == '_' and wc in guesses_made:\n",
    "            return False\n",
    "        # bc is guessed but does not match wc.\n",
    "        # e.g., bc = 'm', wc = 'w'.\n",
    "        # bc and wc don't match. Thus, can the word be \"wonderwall\"? -- NO\n",
    "        elif bc != '_' and bc != wc:\n",
    "            return False\n",
    "    # bc and wc match or wc in not yet guessed\n",
    "    return True\n",
    "\n",
    "print(possible(\"wonderwall\", \"_on__r__ll\", \"otnqurl\"))\n",
    "print(possible(\"wonderwall\", \"_on__r__ll\", \"wotnqurl\"))"
   ]
  },
  {
   "cell_type": "code",
   "execution_count": 20,
   "id": "0aeaf969",
   "metadata": {},
   "outputs": [
    {
     "name": "stdout",
     "output_type": "stream",
     "text": [
      "True\n",
      "False\n"
     ]
    }
   ],
   "source": [
    "# However, we can rewrite that using zip, to be a little more comprehensible.\n",
    "\n",
    "def possible(word, blanked, guesses_made):\n",
    "    if len(word) != len(blanked):\n",
    "        return False\n",
    "    for (bc, wc) in zip(blanked, word):\n",
    "        if bc == '_' and wc in guesses_made:\n",
    "            return False\n",
    "        elif bc != '_' and bc != wc:\n",
    "            return False\n",
    "    return True\n",
    "\n",
    "print(possible(\"wonderwall\", \"_on__r__ll\", \"otnqurl\"))\n",
    "print(possible(\"wonderwall\", \"_on__r__ll\", \"wotnqurl\"))"
   ]
  },
  {
   "cell_type": "code",
   "execution_count": 41,
   "id": "17d23f74",
   "metadata": {},
   "outputs": [
    {
     "name": "stdout",
     "output_type": "stream",
     "text": [
      "List comprehensions: [4, 5, 6]\n",
      "For: [4, 5, 6]\n",
      "Map and Filter: [4, 5, 6]\n"
     ]
    }
   ],
   "source": [
    "# Using different types of techniques to get data.\n",
    "# Here's a function called longlengths which returns length of strings that have atleast 4 characters. \n",
    "\n",
    "# Using List comprehensions is the more Pythonic Way!\n",
    "def longlengths_listcomp(strings):\n",
    "    return [len(string) for string in strings if len(string) >= 4]\n",
    "\n",
    "\n",
    "def longlengths_for(strings):\n",
    "    return_list = []\n",
    "    for string in strings:\n",
    "        if len(string) >= 4:\n",
    "            return_list.append(len(string))\n",
    "    return return_list\n",
    "\n",
    "\n",
    "def longlengths_MapFilter(strings):\n",
    "    # Using filter to filter out strings which are atleaset 4 chars in length\n",
    "    filtered_strs = list(filter(lambda s: len(s) >= 4, strings))\n",
    "    # Using map to perform length operation on the filtered strings. Note: Calling just len is same as lambda s: len(s) here.\n",
    "    mapped_strs = list(map(len, filtered_strs))\n",
    "    return mapped_strs\n",
    "\n",
    "\n",
    "str_list = ['a', 'bc', 'def', 'ghij', 'klmno', 'pqrstu']\n",
    "print(\"List comprehensions:\", longlengths_listcomp(str_list))\n",
    "print(\"For:\", longlengths_for(str_list))\n",
    "print(\"Map and Filter:\", longlengths_MapFilter(str_list))\n"
   ]
  }
 ],
 "metadata": {
  "kernelspec": {
   "display_name": "Python 3 (ipykernel)",
   "language": "python",
   "name": "python3"
  },
  "language_info": {
   "codemirror_mode": {
    "name": "ipython",
    "version": 3
   },
   "file_extension": ".py",
   "mimetype": "text/x-python",
   "name": "python",
   "nbconvert_exporter": "python",
   "pygments_lexer": "ipython3",
   "version": "3.12.1"
  }
 },
 "nbformat": 4,
 "nbformat_minor": 5
}
