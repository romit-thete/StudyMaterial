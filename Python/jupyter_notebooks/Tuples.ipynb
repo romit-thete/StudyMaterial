{
 "cells": [
  {
   "cell_type": "markdown",
   "id": "cc365651",
   "metadata": {},
   "source": [
    "## Tuple packing:\n",
    "Wherever python expects a single value, if multiple expressions are provided, separated by commas, they are automatically packed into a **tuple**. For example,"
   ]
  },
  {
   "cell_type": "code",
   "execution_count": 2,
   "id": "3cd4be77",
   "metadata": {},
   "outputs": [
    {
     "name": "stdout",
     "output_type": "stream",
     "text": [
      "2009\n",
      "<class 'tuple'>\n"
     ]
    }
   ],
   "source": [
    "julia_brackets = (\"Julia\", \"Roberts\", 1967, \"Duplicity\", 2009, \"Actress\", \"Atlanta, Georgia\")\n",
    "# or equivalently\n",
    "julia = \"Julia\", \"Roberts\", 1967, \"Duplicity\", 2009, \"Actress\", \"Atlanta, Georgia\"\n",
    "print(julia[4])\n",
    "print(type(julia))"
   ]
  },
  {
   "cell_type": "markdown",
   "id": "b11974d5",
   "metadata": {},
   "source": [
    "Functions can return tuple values. This is important because we can not only return one single value as a result of the function but multiple values can also be. For example, we often want to know some batsman’s highest and lowest score, or we want to find the mean and the standard deviation, or we want to know the year, the month, and the day, etc.\n",
    "\n",
    "In each case, a function (which can only return a single value), can create a single tuple holding multiple elements."
   ]
  },
  {
   "cell_type": "code",
   "execution_count": 6,
   "id": "8b1879e5",
   "metadata": {},
   "outputs": [
    {
     "name": "stdout",
     "output_type": "stream",
     "text": [
      "(62.8318, 314.159)\n",
      "circumference: 62.8318\n",
      "area: 314.159\n",
      "circumference_two: 282.74309999999997\n",
      "area_two: 6361.719749999999\n"
     ]
    }
   ],
   "source": [
    "# For example, we could write a function that returns both area and circumference of a circle of radius r.\n",
    "\n",
    "def circleInfo(r):\n",
    "    c = 2 * 3.14159 * r\n",
    "    a = 3.14159 * r * r\n",
    "    return (c, a)    # We can also take advantage of tuple packing to have return c, a instead of using the paranthesis.\n",
    "\n",
    "print(circleInfo(10))\n",
    "\n",
    "# We can also unpack the values:\n",
    "circumference, area = circleInfo(10)\n",
    "print(\"circumference:\", circumference)\n",
    "print(\"area:\", area)\n",
    "\n",
    "circumference_two, area_two = circleInfo(45)\n",
    "print(\"circumference_two:\", circumference_two)\n",
    "print(\"area_two:\", area_two)\n"
   ]
  },
  {
   "cell_type": "markdown",
   "id": "6a264455",
   "metadata": {},
   "source": [
    "## Tuple assigment with unpacking:\n",
    "Python has a feature that allows a tuple of variable names on the left of an assignment statement to be assigned values from a tuple on the right of the assignment. Another way to think of this is that the tuple of values is **unpacked** into the variable names. As we can see in the above example, the variable names: ``circumference``, ``area``, ``circumference_two`` and ``area_two`` contain the values returned by the function ``circleInfo`` in the form of a tuple.\n",
    "\n",
    "**Note:** \n",
    "- Naturally, the number of variables on the left and the number of values on the right have to be the same! If we provide unequal number of variables on the left, we get a ``ValueError: not enough values to unpack``\n",
    "- Unpacking into multiple variable names also works with lists, or any other sequence type, as long as there is exactly one value for each variable. For example, you can write ``x, y = [3, 4]``"
   ]
  },
  {
   "cell_type": "markdown",
   "id": "4ac073b0",
   "metadata": {},
   "source": [
    "## Swapping Values between Variables:\n",
    "This feature is used to enable swapping the values of two variables."
   ]
  },
  {
   "cell_type": "code",
   "execution_count": 12,
   "id": "b6ab48ad",
   "metadata": {},
   "outputs": [
    {
     "name": "stdout",
     "output_type": "stream",
     "text": [
      "a: 2, b: 1, temp: 1\n",
      "x: 20, y: 55\n"
     ]
    }
   ],
   "source": [
    "# With conventional assignment statements, we have to use a temporary variable. For example, to swap a and b:\n",
    "a = 1\n",
    "b = 2\n",
    "temp = a\n",
    "a = b\n",
    "b = temp\n",
    "print('a: {}, b: {}, temp: {}'.format(a, b, temp))\n",
    "\n",
    "# Tuple assignment solves this problem neatly:\n",
    "x = 55\n",
    "y = 20\n",
    "x, y = y , x\n",
    "print('x: {}, y: {}'.format(x, y))\n"
   ]
  },
  {
   "cell_type": "markdown",
   "id": "7f8ae594",
   "metadata": {},
   "source": [
    "## Unpacking Into Iterator Variables:\n",
    "Multiple assignment with unpacking is particularly useful when you iterate through a list of tuples. You can unpack each tuple into several loop variables. For example:"
   ]
  },
  {
   "cell_type": "code",
   "execution_count": 13,
   "id": "99e537a1",
   "metadata": {},
   "outputs": [
    {
     "name": "stdout",
     "output_type": "stream",
     "text": [
      "first name: Romit last name: Thete\n",
      "first name: Ritik last name: Thete\n",
      "first name: Rajesh last name: Thete\n"
     ]
    }
   ],
   "source": [
    "authors = [('Romit', 'Thete'), ('Ritik', 'Thete'), ('Rajesh', 'Thete')]\n",
    "for first_name, last_name in authors:\n",
    "    print(\"first name:\", first_name, \"last name:\", last_name)"
   ]
  },
  {
   "cell_type": "markdown",
   "id": "d0271493",
   "metadata": {},
   "source": [
    "## The Pythonic Way to Enumerate Items in a Sequence:\n",
    "Consider the example below:"
   ]
  },
  {
   "cell_type": "code",
   "execution_count": 14,
   "id": "5c627035",
   "metadata": {},
   "outputs": [
    {
     "name": "stdout",
     "output_type": "stream",
     "text": [
      "0 apple\n",
      "1 pear\n",
      "2 apricot\n",
      "3 cherry\n",
      "4 peach\n"
     ]
    }
   ],
   "source": [
    "fruits = ['apple', 'pear', 'apricot', 'cherry', 'peach']\n",
    "for n in range(len(fruits)):\n",
    "    # Creates a (num, fruit_name) pair\n",
    "    print(n, fruits[n])"
   ]
  },
  {
   "cell_type": "markdown",
   "id": "4ed74c94",
   "metadata": {},
   "source": [
    "Python provides a built-in function ``enumerate``. \n",
    "- It takes a sequence as input and returns a sequence of tuples which is of a similar form as we see in th3 example above. \n",
    "- Every tuple has the integer first element (``n``, here) and the second one has the item from the original sequence (``fruit_name``, here).\n",
    "- It actually produces an “iterable” rather than a list, but we can use it in a ``for`` loop as the sequence to iterate over."
   ]
  },
  {
   "cell_type": "code",
   "execution_count": 18,
   "id": "1effa486",
   "metadata": {},
   "outputs": [
    {
     "name": "stdout",
     "output_type": "stream",
     "text": [
      "<enumerate object at 0x000001D1991AC180>\n",
      "0 apple\n",
      "1 pear\n",
      "2 apricot\n",
      "3 cherry\n",
      "4 peach\n"
     ]
    }
   ],
   "source": [
    "fruits = ['apple', 'pear', 'apricot', 'cherry', 'peach']\n",
    "print(enumerate(fruits))    # As we can see it is an iterable object and not a list/tuple\n",
    "\n",
    "# We can consume the results of enumerate, by unpacking the tuples while iterating through them\n",
    "for idx, fruit in enumerate(fruits):\n",
    "    print(idx, fruit)\n"
   ]
  },
  {
   "cell_type": "markdown",
   "id": "1b975246",
   "metadata": {},
   "source": [
    "## Unpacking Tuples as Arguments to Function Calls:\n",
    "Python also provides a way to pass a single tuple to a function and have it be unpacked for assignment to the named parameters."
   ]
  },
  {
   "cell_type": "code",
   "execution_count": 20,
   "id": "26a7e52e",
   "metadata": {},
   "outputs": [
    {
     "name": "stdout",
     "output_type": "stream",
     "text": [
      "7\n"
     ]
    },
    {
     "ename": "TypeError",
     "evalue": "add() missing 1 required positional argument: 'y'",
     "output_type": "error",
     "traceback": [
      "\u001b[1;31m---------------------------------------------------------------------------\u001b[0m",
      "\u001b[1;31mTypeError\u001b[0m                                 Traceback (most recent call last)",
      "Cell \u001b[1;32mIn[20], line 6\u001b[0m\n\u001b[0;32m      4\u001b[0m \u001b[38;5;28mprint\u001b[39m(add(\u001b[38;5;241m3\u001b[39m, \u001b[38;5;241m4\u001b[39m))\n\u001b[0;32m      5\u001b[0m z \u001b[38;5;241m=\u001b[39m (\u001b[38;5;241m5\u001b[39m, \u001b[38;5;241m4\u001b[39m)\n\u001b[1;32m----> 6\u001b[0m \u001b[38;5;28mprint\u001b[39m(\u001b[43madd\u001b[49m\u001b[43m(\u001b[49m\u001b[43mz\u001b[49m\u001b[43m)\u001b[49m) \u001b[38;5;66;03m# this line causes an error because add() is expecting 2 params and we provide one.\u001b[39;00m\n",
      "\u001b[1;31mTypeError\u001b[0m: add() missing 1 required positional argument: 'y'"
     ]
    }
   ],
   "source": [
    "def add(x, y):\n",
    "    return x + y\n",
    "\n",
    "print(add(3, 4))\n",
    "z = (5, 4)\n",
    "print(add(z)) # this line causes an error because add() is expecting 2 params and we provide one."
   ]
  },
  {
   "cell_type": "code",
   "execution_count": 23,
   "id": "83d0b44c",
   "metadata": {},
   "outputs": [
    {
     "name": "stdout",
     "output_type": "stream",
     "text": [
      "7\n",
      "9\n"
     ]
    }
   ],
   "source": [
    "# There is a way to tell Python to unpack the tuple before using it using the prefix *\n",
    "def add(x, y):\n",
    "    return x + y\n",
    "\n",
    "print(add(3, 4))\n",
    "z = (5, 4)\n",
    "print(add(*z))"
   ]
  }
 ],
 "metadata": {
  "kernelspec": {
   "display_name": "Python 3 (ipykernel)",
   "language": "python",
   "name": "python3"
  },
  "language_info": {
   "codemirror_mode": {
    "name": "ipython",
    "version": 3
   },
   "file_extension": ".py",
   "mimetype": "text/x-python",
   "name": "python",
   "nbconvert_exporter": "python",
   "pygments_lexer": "ipython3",
   "version": "3.10.3"
  }
 },
 "nbformat": 4,
 "nbformat_minor": 5
}
