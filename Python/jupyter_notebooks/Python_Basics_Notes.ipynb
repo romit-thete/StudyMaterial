{
 "cells": [
  {
   "cell_type": "markdown",
   "id": "81ce0a01",
   "metadata": {},
   "source": [
    "# Section 1: Lists and Strings:-\n",
    "## <u>Important Methods:</u>\n",
    "### 1. count(): \n",
    "Accepts a substring/item and returns the no. of times that particular substring/item appears in a string or list respectively.\n",
    "<br><strong><em>Note:</em></strong> This works with both strings and lists. \n",
    "- <em>Strings:</em> the method returns the no. of times a given substring appears within the string.\n",
    "- <em>Lists:</em> the method returns the no. of times a given item appears within the list."
   ]
  },
  {
   "cell_type": "code",
   "execution_count": 1,
   "id": "9c2712f6",
   "metadata": {},
   "outputs": [
    {
     "name": "stdout",
     "output_type": "stream",
     "text": [
      "4\n",
      "2\n",
      "0\n",
      "3\n",
      "0\n",
      "2\n"
     ]
    }
   ],
   "source": [
    "a = \"I have had an apple on my desk before!\"\n",
    "print(a.count(\"a\"))           # Should return the no of times the substring \"a\" appears in the string a (4)\n",
    "print(a.count(\"ha\"))          # Should return the no of times the substring \"ha\" appears in the string a (2)\n",
    "\n",
    "# Also works for lists\n",
    "z = ['atoms', 4, 'neutron', 6, 'proton', 4, 'electron', 4, 'electron', 'atoms']\n",
    "print(z.count(\"4\"))           # Should return 0 as there are no strings items as \"4\" in the list\n",
    "print(z.count(4))             # Should return the no. of times the integer 4 appears in the list (3)\n",
    "print(z.count(\"a\"))           # Should return 0 as there are no strings items with the exact value \"a\"\n",
    "print(z.count(\"electron\"))    # Should return the no. of times the string \"electron\" appears in the list (2)"
   ]
  },
  {
   "cell_type": "markdown",
   "id": "6247c8fe",
   "metadata": {},
   "source": [
    "### 2. index():\n",
    "Accepts a substring/item and returns the index of it's <strong>first occurrence</strong> in a string or list respectively.\n",
    "<br><strong><em>Note:<em></strong> This works with both strings and lists. \n",
    "- <em>Strings:</em> the method returns the index of first occurrence of a given character (substring) within the string \n",
    "- <em>Lists:</em> the method returns the index of first occurrence of the given item within the list."
   ]
  },
  {
   "cell_type": "code",
   "execution_count": 4,
   "id": "7b7ccf75",
   "metadata": {},
   "outputs": [
    {
     "name": "stdout",
     "output_type": "stream",
     "text": [
      "14\n",
      "9\n",
      "0\n",
      "3\n",
      "6\n"
     ]
    }
   ],
   "source": [
    "music = \"Pull out your music and dancing can begin\"\n",
    "bio = [\"Metatarsal\", \"Metatarsal\", \"Fibula\", [], \"Tibia\", \"Tibia\", 43, \"Femur\", \"Occipital\", \"Metatarsal\"]\n",
    "\n",
    "print(music.index(\"m\"))           # Should return the index of first occurrence of \"m\" in music (14)\n",
    "print(music.index(\"your\"))        # Should return the index of first occurrence of \"your\" in music (9)\n",
    "\n",
    "print(bio.index(\"Metatarsal\"))    # Should return the index of first occurrence of \"Metatarsal\" in bio (0)\n",
    "print(bio.index([]))              # Should return the index of first occurrence of \"[]\" in bio (3)\n",
    "print(bio.index(43))              # Should return the index of first occurrence of the integer 43 in bio (6)"
   ]
  },
  {
   "cell_type": "markdown",
   "id": "c2d2e5ee",
   "metadata": {},
   "source": [
    "This method will raise a ValueError if in case a given substring/item is not present in a string/list."
   ]
  },
  {
   "cell_type": "code",
   "execution_count": 6,
   "id": "c955edad",
   "metadata": {},
   "outputs": [
    {
     "ename": "ValueError",
     "evalue": "'autumn' is not in list",
     "output_type": "error",
     "traceback": [
      "\u001b[1;31m---------------------------------------------------------------------------\u001b[0m",
      "\u001b[1;31mValueError\u001b[0m                                Traceback (most recent call last)",
      "Cell \u001b[1;32mIn[6], line 3\u001b[0m\n\u001b[0;32m      1\u001b[0m seasons \u001b[38;5;241m=\u001b[39m [\u001b[38;5;124m\"\u001b[39m\u001b[38;5;124mwinter\u001b[39m\u001b[38;5;124m\"\u001b[39m, \u001b[38;5;124m\"\u001b[39m\u001b[38;5;124mspring\u001b[39m\u001b[38;5;124m\"\u001b[39m, \u001b[38;5;124m\"\u001b[39m\u001b[38;5;124msummer\u001b[39m\u001b[38;5;124m\"\u001b[39m, \u001b[38;5;124m\"\u001b[39m\u001b[38;5;124mfall\u001b[39m\u001b[38;5;124m\"\u001b[39m]\n\u001b[1;32m----> 3\u001b[0m \u001b[38;5;28mprint\u001b[39m(\u001b[43mseasons\u001b[49m\u001b[38;5;241;43m.\u001b[39;49m\u001b[43mindex\u001b[49m\u001b[43m(\u001b[49m\u001b[38;5;124;43m\"\u001b[39;49m\u001b[38;5;124;43mautumn\u001b[39;49m\u001b[38;5;124;43m\"\u001b[39;49m\u001b[43m)\u001b[49m)  \u001b[38;5;66;03m#Error!\u001b[39;00m\n",
      "\u001b[1;31mValueError\u001b[0m: 'autumn' is not in list"
     ]
    }
   ],
   "source": [
    "seasons = [\"winter\", \"spring\", \"summer\", \"fall\"]\n",
    "\n",
    "print(seasons.index(\"autumn\"))  #Error!"
   ]
  },
  {
   "cell_type": "markdown",
   "id": "c4c16069",
   "metadata": {},
   "source": [
    "### 3. split():\n",
    "Accepts a substring (or delimiter), cuts it off from a given string and splits the string into a list."
   ]
  },
  {
   "cell_type": "code",
   "execution_count": 7,
   "id": "10d7c252",
   "metadata": {},
   "outputs": [
    {
     "name": "stdout",
     "output_type": "stream",
     "text": [
      "['The r', 'n in Sp', 'n...']\n"
     ]
    }
   ],
   "source": [
    "song = \"The rain in Spain...\"\n",
    "wds = song.split('ai')\n",
    "print(wds)"
   ]
  },
  {
   "cell_type": "markdown",
   "id": "fbef0797",
   "metadata": {},
   "source": [
    "As we can see above, the delimiter ('ai') is passed in the method. The method then cuts \"ai\" from the string \"song\" and then splits from that point to create a list \"wds\".\n",
    "<br>Notice that the delimiter ('ai' in this example) doesn’t appear in the result."
   ]
  },
  {
   "cell_type": "markdown",
   "id": "22bc5e18",
   "metadata": {},
   "source": [
    "### 4. join():\n",
    "Accepts a list of items to join and based on the delimiter provided, glues the items and creates a final string."
   ]
  },
  {
   "cell_type": "code",
   "execution_count": 8,
   "id": "5e93a5ec",
   "metadata": {},
   "outputs": [
    {
     "name": "stdout",
     "output_type": "stream",
     "text": [
      "red;blue;green\n",
      "['red', 'blue', 'green']\n",
      "red***blue***green\n",
      "redbluegreen\n"
     ]
    }
   ],
   "source": [
    "wds = [\"red\", \"blue\", \"green\"]\n",
    "glue = ';'\n",
    "s = glue.join(wds)\n",
    "print(s)\n",
    "print(wds)\n",
    "\n",
    "print(\"***\".join(wds))\n",
    "print(\"\".join(wds))"
   ]
  },
  {
   "cell_type": "markdown",
   "id": "100b4d6b",
   "metadata": {},
   "source": [
    "As we can see above, delimiters (value of glue, \\\"\\*\\*\\*\\\", \"\") were provided based on which the items in the list wds were glued together to form the respective string outputs.\n",
    "<br>The list that we glue together (wds in this example) is not modified. Also, you can use empty glue or multi-character strings as glue."
   ]
  },
  {
   "cell_type": "markdown",
   "id": "3d15b693",
   "metadata": {},
   "source": [
    "# Section 2: Iteration:-\n",
    "## <u>Important Methods:</u>\n",
    "### 1. range(): \n",
    "The range function takes an integer n as input and returns a sequence of numbers (basically of type range), starting at 0 and going up to but not including n. Thus, instead of range(3), we could have written [0, 1, 2].\n",
    "\n",
    "- The loop variable _ is a strange name for a variable but if you look carefully at the rules about variable names, it is a legal name. \n",
    "- By convention, we use the _ as our loop variable when we don’t intend to ever refer to the loop variable in the code further. That is, we are just trying to repeat the code block some number of times, but we are not going to do anything with the particular items. _ will be bound to a different item each time, but we won’t ever refer to those particular items in the code."
   ]
  },
  {
   "cell_type": "code",
   "execution_count": 9,
   "id": "4e731c85",
   "metadata": {},
   "outputs": [
    {
     "name": "stdout",
     "output_type": "stream",
     "text": [
      "This will execute first\n",
      "This line will execute three times\n",
      "This line will also execute three times\n",
      "This line will execute three times\n",
      "This line will also execute three times\n",
      "This line will execute three times\n",
      "This line will also execute three times\n",
      "Now we are outside of the for loop!\n"
     ]
    }
   ],
   "source": [
    "print(\"This will execute first\")\n",
    "\n",
    "for _ in range(3):\n",
    "    print(\"This line will execute three times\")\n",
    "    print(\"This line will also execute three times\")\n",
    "\n",
    "print(\"Now we are outside of the for loop!\")"
   ]
  },
  {
   "cell_type": "markdown",
   "id": "b2c11a90",
   "metadata": {},
   "source": [
    "The range() function returns a sequence of type range. To convert it to list, we need to specifically typecast it to a list."
   ]
  },
  {
   "cell_type": "code",
   "execution_count": 10,
   "id": "55185497",
   "metadata": {},
   "outputs": [
    {
     "name": "stdout",
     "output_type": "stream",
     "text": [
      "[2, 3, 4, 5, 6, 7, 8, 9]\n"
     ]
    }
   ],
   "source": [
    "print(list(range(2,10)))"
   ]
  },
  {
   "cell_type": "markdown",
   "id": "f7399db7",
   "metadata": {},
   "source": [
    "# Section 3.1: Boolean Expressions:-\n",
    "\n",
    "In case of <strong>or</strong> operator, if the first value is True (LHS value), python does not evaluate the second value as it knows that the end result is True.\n",
    "<br>Similarly, in case of the <strong>and</strong> operator, if the first value is False, Python does not proceed for the further evaluation.\n",
    "\n",
    "This behavior, in which Python in some cases skips the evaluation of the second operand to and and or, is called <strong><u>short-circuit boolean evaluation.</u></strong>"
   ]
  },
  {
   "cell_type": "markdown",
   "id": "a0cebc0b",
   "metadata": {},
   "source": [
    "# Section 4: Sequence Mutability:-\n",
    "\n",
    "We know that lists are mutable whereas strings are not. Meaning, we can change an item in a list by directly accessing it by its index. However, the new point here is that: <br><strong>\"In case of mutable objects, when the object is copied, the copy is a direct reference to the same object. Meaning, editing one item in any of the objects would also make changes in the copied object. However, in case of immutable objects, a copy is a literal copy and editing any item in the copy would simply not affect the original object.\"</strong>"
   ]
  },
  {
   "cell_type": "code",
   "execution_count": 11,
   "id": "8d81f0ce",
   "metadata": {},
   "outputs": [
    {
     "name": "stdout",
     "output_type": "stream",
     "text": [
      "x: [0, 1, 2, 3, 4]\n",
      "y: [0, 1, 2, 3, 4]\n",
      "a: Hello\n",
      "b: Bello\n"
     ]
    }
   ],
   "source": [
    "x = [1,1,2,3,4]\n",
    "a = \"Hello\"\n",
    "y = x\n",
    "b = a\n",
    "\n",
    "y[0] = 0\n",
    "print(\"x:\",x)                    # The value of x will also change\n",
    "print(\"y:\",y)\n",
    "\n",
    "b = b.replace(\"H\", \"B\")\n",
    "print(\"a:\",a)                    # The value of a will remain unchanged\n",
    "print(\"b:\",b)"
   ]
  },
  {
   "cell_type": "markdown",
   "id": "7f7a9f83",
   "metadata": {},
   "source": [
    "An assignment to an element of a list (mutable object) is called item assignment. Item assignment does not work for strings (immutable objects).\n",
    "<br>This means that if we try to change any immutable object by directly accessing any of it's items using it's index, we would get an error."
   ]
  },
  {
   "cell_type": "code",
   "execution_count": 12,
   "id": "8a0a88ec",
   "metadata": {},
   "outputs": [
    {
     "ename": "TypeError",
     "evalue": "'tuple' object does not support item assignment",
     "output_type": "error",
     "traceback": [
      "\u001b[1;31m---------------------------------------------------------------------------\u001b[0m",
      "\u001b[1;31mTypeError\u001b[0m                                 Traceback (most recent call last)",
      "Cell \u001b[1;32mIn[12], line 2\u001b[0m\n\u001b[0;32m      1\u001b[0m a \u001b[38;5;241m=\u001b[39m (\u001b[38;5;241m0\u001b[39m, \u001b[38;5;241m1\u001b[39m, \u001b[38;5;241m2\u001b[39m, \u001b[38;5;241m3\u001b[39m, \u001b[38;5;124m\"\u001b[39m\u001b[38;5;124mchange_this\u001b[39m\u001b[38;5;124m\"\u001b[39m)\n\u001b[1;32m----> 2\u001b[0m \u001b[43ma\u001b[49m\u001b[43m[\u001b[49m\u001b[38;5;241;43m4\u001b[39;49m\u001b[43m]\u001b[49m \u001b[38;5;241m=\u001b[39m \u001b[38;5;124m\"\u001b[39m\u001b[38;5;124mchanging \u001b[39m\u001b[38;5;124m'\u001b[39m\u001b[38;5;124mchange_this\u001b[39m\u001b[38;5;124m'\u001b[39m\u001b[38;5;124m\"\u001b[39m    \u001b[38;5;66;03m# This will throw an error!\u001b[39;00m\n",
      "\u001b[1;31mTypeError\u001b[0m: 'tuple' object does not support item assignment"
     ]
    }
   ],
   "source": [
    "a = (0, 1, 2, 3, \"change_this\")\n",
    "a[4] = \"changing 'change_this'\"    # This will throw an error!"
   ]
  },
  {
   "cell_type": "markdown",
   "id": "fa51eeff",
   "metadata": {},
   "source": [
    "Similar is a case with strings as well."
   ]
  },
  {
   "cell_type": "code",
   "execution_count": 13,
   "id": "5a772a4b",
   "metadata": {},
   "outputs": [
    {
     "ename": "TypeError",
     "evalue": "'str' object does not support item assignment",
     "output_type": "error",
     "traceback": [
      "\u001b[1;31m---------------------------------------------------------------------------\u001b[0m",
      "\u001b[1;31mTypeError\u001b[0m                                 Traceback (most recent call last)",
      "Cell \u001b[1;32mIn[13], line 2\u001b[0m\n\u001b[0;32m      1\u001b[0m b \u001b[38;5;241m=\u001b[39m \u001b[38;5;124m\"\u001b[39m\u001b[38;5;124mHello\u001b[39m\u001b[38;5;124m\"\u001b[39m\n\u001b[1;32m----> 2\u001b[0m \u001b[43mb\u001b[49m\u001b[43m[\u001b[49m\u001b[38;5;241;43m0\u001b[39;49m\u001b[43m]\u001b[49m \u001b[38;5;241m=\u001b[39m \u001b[38;5;124m\"\u001b[39m\u001b[38;5;124mB\u001b[39m\u001b[38;5;124m\"\u001b[39m\n",
      "\u001b[1;31mTypeError\u001b[0m: 'str' object does not support item assignment"
     ]
    }
   ],
   "source": [
    "b = \"Hello\"\n",
    "b[0] = \"B\""
   ]
  },
  {
   "cell_type": "markdown",
   "id": "a730b565",
   "metadata": {},
   "source": [
    "The only way to change a string is to create a new string, which is a variation of the original."
   ]
  },
  {
   "cell_type": "code",
   "execution_count": 14,
   "id": "b5e9ae3a",
   "metadata": {},
   "outputs": [
    {
     "name": "stdout",
     "output_type": "stream",
     "text": [
      "b: Hello\n",
      "c: Bello\n"
     ]
    }
   ],
   "source": [
    "b = \"Hello\"\n",
    "print(\"b:\",b)\n",
    "\n",
    "c = \"B\" + b[1:]\n",
    "print(\"c:\",c)"
   ]
  },
  {
   "cell_type": "code",
   "execution_count": 15,
   "id": "54e70d4f",
   "metadata": {},
   "outputs": [
    {
     "name": "stdout",
     "output_type": "stream",
     "text": [
      "[1, 2, 3, 4, 5]\n",
      "[1, 2, 1, 2, 5]\n",
      "[1, 2, 5]\n",
      "[1, 2, 3, 4, 5]\n"
     ]
    }
   ],
   "source": [
    "# Using Slicing to edit lists\n",
    "a = [1,2,3,4,5]\n",
    "print(a)\n",
    "\n",
    "# 1. Update several items in a list\n",
    "a[2:4] = [1,2]                                   # Will update items at index 2 and 3\n",
    "print(a)\n",
    "\n",
    "# 2. Delete items in a list\n",
    "a[0:2] = []                                      # Will remove items at index 0 and 1\n",
    "print(a)\n",
    "\n",
    "# 3. Insert items by squeezing them in the list\n",
    "a[2:2] = [3, 4]                                  # Will squeeze items at index 2\n",
    "print(a)"
   ]
  },
  {
   "cell_type": "markdown",
   "id": "4238ae76",
   "metadata": {},
   "source": [
    "It is always quite error prone and awkward to delete items in a list using slicing. Hence Python gives us a special method for the same."
   ]
  },
  {
   "cell_type": "code",
   "execution_count": 16,
   "id": "69ca7ccf",
   "metadata": {},
   "outputs": [
    {
     "name": "stdout",
     "output_type": "stream",
     "text": [
      "[1, 2, 3, 4, 5]\n",
      "[1, 2, 3, 4]\n",
      "[3, 4]\n"
     ]
    }
   ],
   "source": [
    "a = [1,2,3,4,5]\n",
    "print(a)\n",
    "\n",
    "# Delete single item in a list\n",
    "del a[-1]                             # Will delete the last element in the list\n",
    "print(a)\n",
    "\n",
    "# Delete items in a list\n",
    "del a[0:2]                            # Will delete the first two elements in the list\n",
    "print(a)"
   ]
  },
  {
   "cell_type": "markdown",
   "id": "f4128724",
   "metadata": {},
   "source": [
    "## Objects and references:\n",
    "\n",
    "Sometimes it is good to know the references of objects that we define.\n",
    "<br>For example,<br>\n",
    "In case of the below assignment statements:\n",
    "<br>```a = \"banana\"```\n",
    "<br>```b = \"banana\"```\n",
    "\n",
    "We can see that both a and b refer to a string with letters ```\"banana\"```. But we don't know yet if they refer to the <i>same</i> string. Remember that an object is something a variable can refer to.\n",
    "<br>Now, to know the answer, the ```is``` operator will return true if the two references are to the same object. In other words, if the references are the same."
   ]
  },
  {
   "cell_type": "code",
   "execution_count": 17,
   "id": "e69cd36a",
   "metadata": {},
   "outputs": [
    {
     "name": "stdout",
     "output_type": "stream",
     "text": [
      "True\n",
      "2360045969968\n",
      "2360045969968\n"
     ]
    }
   ],
   "source": [
    "a = \"banana\"\n",
    "b = \"banana\"\n",
    "\n",
    "print(a is b)\n",
    "print(id(a))\n",
    "print(id(b))\n"
   ]
  },
  {
   "cell_type": "markdown",
   "id": "08aa0b0d",
   "metadata": {},
   "source": [
    "Python assigns every object a unique id and when we ask a is b what python is really doing is checking to see if ```id(a) == id(b)```.\n",
    "<br>Since strings are immutable, the Python interpreter often optimizes resources by making two names that refer to the same string value refer to the same object. \n",
    "<br>However, You shouldn’t count on this (that is, use == to compare strings, not is), but don’t be surprised if you find that two variables,each bound to the string “banana”, have the same id.\n",
    "<br><br>This is not a case with lists though. Lists never share the same id if they have the same contents. Hence when we try to check if two lists refer to the same object using the ```is``` operator, we would get ```False```. They need to have different ids so that mutations of list a do not affect list b."
   ]
  },
  {
   "cell_type": "code",
   "execution_count": 18,
   "id": "a88f48ae",
   "metadata": {},
   "outputs": [
    {
     "name": "stdout",
     "output_type": "stream",
     "text": [
      "False\n",
      "True\n",
      "2360046547328\n",
      "2360046549120\n"
     ]
    }
   ],
   "source": [
    "a = [81,82,83]\n",
    "b = [81,82,83]\n",
    "\n",
    "print(a is b)    # Will return False because above lists would always refer to two different objects\n",
    "\n",
    "print(a == b)    # However, since the items are same, a == b will stay True\n",
    "\n",
    "print(id(a))\n",
    "print(id(b))"
   ]
  },
  {
   "cell_type": "markdown",
   "id": "09362818",
   "metadata": {},
   "source": [
    "## Aliasing and Cloning:\n",
    "\n",
    "Aliasing is a term which comes into picture when two variables point to the same object. As shown in the example below, we can say that 'b' is an alias of 'a'. When you make changes in an alias variable, the original variable also gets updated."
   ]
  },
  {
   "cell_type": "code",
   "execution_count": 32,
   "id": "688957bd",
   "metadata": {},
   "outputs": [
    {
     "name": "stdout",
     "output_type": "stream",
     "text": [
      "Before aliasing: True\n",
      "Before aliasing: False\n",
      "After aliasing: True\n",
      "After aliasing: True\n",
      "a = [0, 2, 3, 4, 5]\n",
      "b = [0, 2, 3, 4, 5]\n"
     ]
    }
   ],
   "source": [
    "a = [1,2,3,4,5]\n",
    "b = [1,2,3,4,5]\n",
    "\n",
    "print(\"Before aliasing:\",a == b)    # Contents as same, hence True\n",
    "print(\"Before aliasing:\",a is b)    # Objects are different, hence False\n",
    "\n",
    "# Alias\n",
    "b = a\n",
    "print(\"After aliasing:\", a == b)    # Contents are same, hence True\n",
    "print(\"After aliasing:\", a is b)    # Objects are same, hence True\n",
    "\n",
    "b[0] = 0\n",
    "print(\"a =\",a)\n",
    "print(\"b =\",b)"
   ]
  },
  {
   "cell_type": "markdown",
   "id": "027a6f9b",
   "metadata": {},
   "source": [
    "As we see above, at the beginning of the code, a and b were two different lists as they were pointing to two different objects (even though the values were same). However, after assigning the value of b as 'a', b was aliased and hence, pointed to the same object (which is why we got ```a is b``` as ```True```).\n",
    "\n",
    "However, if you really need to clone lists, while keeping the state of the original list same, the easiest way to do so is using list slicing. While taking any slice of the list creates a new list in itself, using ```a[:]``` would simply clone the list completely."
   ]
  },
  {
   "cell_type": "code",
   "execution_count": 29,
   "id": "bdffd67b",
   "metadata": {},
   "outputs": [
    {
     "name": "stdout",
     "output_type": "stream",
     "text": [
      "False\n",
      "True\n",
      "[1, 2, 3, 4, 5]\n",
      "[0, 2, 3, 4, 5]\n"
     ]
    }
   ],
   "source": [
    "a = [1,2,3,4,5]\n",
    "b = a[:]                 # Cloning a list using slicing\n",
    "\n",
    "print(a is b)            # Objects are different, hence False\n",
    "print(a == b)            # Contents are same, hence True\n",
    "\n",
    "b[0] = 0                 # Changing the items in list b, will not change list a\n",
    "print(a)\n",
    "print(b)"
   ]
  },
  {
   "cell_type": "markdown",
   "id": "f75005a1",
   "metadata": {},
   "source": [
    "As we see above, we are now free to make changes to list b without worrying about changing the contents in list a.\n",
    "\n",
    "Also note that we can also use the assignment operators to get a clone of a list as below. \n",
    "\n",
    "Beware of using something like ```item = item + new_item``` with mutable objects though because it creates a new object. However, when we use ```+=``` then that doesn't happen."
   ]
  },
  {
   "cell_type": "code",
   "execution_count": 30,
   "id": "f0293e63",
   "metadata": {},
   "outputs": [
    {
     "name": "stdout",
     "output_type": "stream",
     "text": [
      "[1, 2, 3, 4, 5]\n",
      "[1, 2, 3, 4, 5, 1, 2, 3, 4, 5]\n",
      "[1, 2, 3, 4, 5]\n",
      "[1, 2, 3, 4, 5, 1, 2, 3, 4, 1]\n"
     ]
    }
   ],
   "source": [
    "alist = [1,2,3,4,5]\n",
    "blist = alist * 2    # Using the * assignment operator to create a clone\n",
    "\n",
    "print(alist)\n",
    "print(blist)\n",
    "\n",
    "blist[-1] = 1        # Changing the items in blist should not affect alist\n",
    "print(alist)\n",
    "print(blist)"
   ]
  }
 ],
 "metadata": {
  "kernelspec": {
   "display_name": "Python 3 (ipykernel)",
   "language": "python",
   "name": "python3"
  },
  "language_info": {
   "codemirror_mode": {
    "name": "ipython",
    "version": 3
   },
   "file_extension": ".py",
   "mimetype": "text/x-python",
   "name": "python",
   "nbconvert_exporter": "python",
   "pygments_lexer": "ipython3",
   "version": "3.10.3"
  }
 },
 "nbformat": 4,
 "nbformat_minor": 5
}
