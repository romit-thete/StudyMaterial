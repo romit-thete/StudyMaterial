{
 "cells": [
  {
   "cell_type": "markdown",
   "id": "81ce0a01",
   "metadata": {},
   "source": [
    "# Section 1: Lists and Strings:-\n",
    "## <u>Important Methods:</u>\n",
    "### 1. count(): \n",
    "Accepts a substring/item and returns the no. of times that particular substring/item appears in a string or list respectively.\n",
    "<br><strong><em>Note:</em></strong> This works with both strings and lists. \n",
    "- <em>Strings:</em> the method returns the no. of times a given substring appears within the string.\n",
    "- <em>Lists:</em> the method returns the no. of times a given item appears within the list."
   ]
  },
  {
   "cell_type": "code",
   "execution_count": 1,
   "id": "9c2712f6",
   "metadata": {},
   "outputs": [
    {
     "name": "stdout",
     "output_type": "stream",
     "text": [
      "4\n",
      "2\n",
      "0\n",
      "3\n",
      "0\n",
      "2\n"
     ]
    }
   ],
   "source": [
    "a = \"I have had an apple on my desk before!\"\n",
    "print(a.count(\"a\"))           # Should return the no of times the substring \"a\" appears in the string a (4)\n",
    "print(a.count(\"ha\"))          # Should return the no of times the substring \"ha\" appears in the string a (2)\n",
    "\n",
    "# Also works for lists\n",
    "z = ['atoms', 4, 'neutron', 6, 'proton', 4, 'electron', 4, 'electron', 'atoms']\n",
    "print(z.count(\"4\"))           # Should return 0 as there are no strings items as \"4\" in the list\n",
    "print(z.count(4))             # Should return the no. of times the integer 4 appears in the list (3)\n",
    "print(z.count(\"a\"))           # Should return 0 as there are no strings items with the exact value \"a\"\n",
    "print(z.count(\"electron\"))    # Should return the no. of times the string \"electron\" appears in the list (2)"
   ]
  },
  {
   "cell_type": "markdown",
   "id": "6247c8fe",
   "metadata": {},
   "source": [
    "### 2. index():\n",
    "Accepts a substring/item and returns the index of it's <strong>first occurrence</strong> in a string or list respectively.\n",
    "<br><strong><em>Note:<em></strong> This works with both strings and lists. \n",
    "- <em>Strings:</em> the method returns the index of first occurrence of a given character (substring) within the string \n",
    "- <em>Lists:</em> the method returns the index of first occurrence of the given item within the list."
   ]
  },
  {
   "cell_type": "code",
   "execution_count": 4,
   "id": "7b7ccf75",
   "metadata": {},
   "outputs": [
    {
     "name": "stdout",
     "output_type": "stream",
     "text": [
      "14\n",
      "9\n",
      "0\n",
      "3\n",
      "6\n"
     ]
    }
   ],
   "source": [
    "music = \"Pull out your music and dancing can begin\"\n",
    "bio = [\"Metatarsal\", \"Metatarsal\", \"Fibula\", [], \"Tibia\", \"Tibia\", 43, \"Femur\", \"Occipital\", \"Metatarsal\"]\n",
    "\n",
    "print(music.index(\"m\"))           # Should return the index of first occurrence of \"m\" in music (14)\n",
    "print(music.index(\"your\"))        # Should return the index of first occurrence of \"your\" in music (9)\n",
    "\n",
    "print(bio.index(\"Metatarsal\"))    # Should return the index of first occurrence of \"Metatarsal\" in bio (0)\n",
    "print(bio.index([]))              # Should return the index of first occurrence of \"[]\" in bio (3)\n",
    "print(bio.index(43))              # Should return the index of first occurrence of the integer 43 in bio (6)"
   ]
  },
  {
   "cell_type": "markdown",
   "id": "c2d2e5ee",
   "metadata": {},
   "source": [
    "This method will raise a ValueError if in case a given substring/item is not present in a string/list."
   ]
  },
  {
   "cell_type": "code",
   "execution_count": 6,
   "id": "c955edad",
   "metadata": {},
   "outputs": [
    {
     "ename": "ValueError",
     "evalue": "'autumn' is not in list",
     "output_type": "error",
     "traceback": [
      "\u001b[1;31m---------------------------------------------------------------------------\u001b[0m",
      "\u001b[1;31mValueError\u001b[0m                                Traceback (most recent call last)",
      "Cell \u001b[1;32mIn[6], line 3\u001b[0m\n\u001b[0;32m      1\u001b[0m seasons \u001b[38;5;241m=\u001b[39m [\u001b[38;5;124m\"\u001b[39m\u001b[38;5;124mwinter\u001b[39m\u001b[38;5;124m\"\u001b[39m, \u001b[38;5;124m\"\u001b[39m\u001b[38;5;124mspring\u001b[39m\u001b[38;5;124m\"\u001b[39m, \u001b[38;5;124m\"\u001b[39m\u001b[38;5;124msummer\u001b[39m\u001b[38;5;124m\"\u001b[39m, \u001b[38;5;124m\"\u001b[39m\u001b[38;5;124mfall\u001b[39m\u001b[38;5;124m\"\u001b[39m]\n\u001b[1;32m----> 3\u001b[0m \u001b[38;5;28mprint\u001b[39m(\u001b[43mseasons\u001b[49m\u001b[38;5;241;43m.\u001b[39;49m\u001b[43mindex\u001b[49m\u001b[43m(\u001b[49m\u001b[38;5;124;43m\"\u001b[39;49m\u001b[38;5;124;43mautumn\u001b[39;49m\u001b[38;5;124;43m\"\u001b[39;49m\u001b[43m)\u001b[49m)  \u001b[38;5;66;03m#Error!\u001b[39;00m\n",
      "\u001b[1;31mValueError\u001b[0m: 'autumn' is not in list"
     ]
    }
   ],
   "source": [
    "seasons = [\"winter\", \"spring\", \"summer\", \"fall\"]\n",
    "\n",
    "print(seasons.index(\"autumn\"))  #Error!"
   ]
  },
  {
   "cell_type": "markdown",
   "id": "c4c16069",
   "metadata": {},
   "source": [
    "### 3. split():\n",
    "Accepts a substring (or delimiter), cuts it off from a given string and splits the string into a list."
   ]
  },
  {
   "cell_type": "code",
   "execution_count": 7,
   "id": "10d7c252",
   "metadata": {},
   "outputs": [
    {
     "name": "stdout",
     "output_type": "stream",
     "text": [
      "['The r', 'n in Sp', 'n...']\n"
     ]
    }
   ],
   "source": [
    "song = \"The rain in Spain...\"\n",
    "wds = song.split('ai')\n",
    "print(wds)"
   ]
  },
  {
   "cell_type": "markdown",
   "id": "fbef0797",
   "metadata": {},
   "source": [
    "As we can see above, the delimiter ('ai') is passed in the method. The method then cuts \"ai\" from the string \"song\" and then splits from that point to create a list \"wds\".\n",
    "<br>Notice that the delimiter ('ai' in this example) doesn’t appear in the result."
   ]
  },
  {
   "cell_type": "markdown",
   "id": "22bc5e18",
   "metadata": {},
   "source": [
    "### 4. join():\n",
    "Accepts a list of items to join and based on the delimiter provided, glues the items and creates a final string."
   ]
  },
  {
   "cell_type": "code",
   "execution_count": 8,
   "id": "5e93a5ec",
   "metadata": {},
   "outputs": [
    {
     "name": "stdout",
     "output_type": "stream",
     "text": [
      "red;blue;green\n",
      "['red', 'blue', 'green']\n",
      "red***blue***green\n",
      "redbluegreen\n"
     ]
    }
   ],
   "source": [
    "wds = [\"red\", \"blue\", \"green\"]\n",
    "glue = ';'\n",
    "s = glue.join(wds)\n",
    "print(s)\n",
    "print(wds)\n",
    "\n",
    "print(\"***\".join(wds))\n",
    "print(\"\".join(wds))"
   ]
  },
  {
   "cell_type": "markdown",
   "id": "100b4d6b",
   "metadata": {},
   "source": [
    "As we can see above, delimiters (value of glue, \\\"\\*\\*\\*\\\", \"\") were provided based on which the items in the list wds were glued together to form the respective string outputs.\n",
    "<br>The list that we glue together (wds in this example) is not modified. Also, you can use empty glue or multi-character strings as glue."
   ]
  },
  {
   "cell_type": "markdown",
   "id": "3d15b693",
   "metadata": {},
   "source": [
    "# Section 2: Iteration:-\n",
    "## <u>Important Methods:</u>\n",
    "### 1. range(): \n",
    "The range function takes an integer n as input and returns a sequence of numbers (basically of type range), starting at 0 and going up to but not including n. Thus, instead of range(3), we could have written [0, 1, 2].\n",
    "\n",
    "- The loop variable _ is a strange name for a variable but if you look carefully at the rules about variable names, it is a legal name. \n",
    "- By convention, we use the _ as our loop variable when we don’t intend to ever refer to the loop variable in the code further. That is, we are just trying to repeat the code block some number of times, but we are not going to do anything with the particular items. _ will be bound to a different item each time, but we won’t ever refer to those particular items in the code."
   ]
  },
  {
   "cell_type": "code",
   "execution_count": 9,
   "id": "4e731c85",
   "metadata": {},
   "outputs": [
    {
     "name": "stdout",
     "output_type": "stream",
     "text": [
      "This will execute first\n",
      "This line will execute three times\n",
      "This line will also execute three times\n",
      "This line will execute three times\n",
      "This line will also execute three times\n",
      "This line will execute three times\n",
      "This line will also execute three times\n",
      "Now we are outside of the for loop!\n"
     ]
    }
   ],
   "source": [
    "print(\"This will execute first\")\n",
    "\n",
    "for _ in range(3):\n",
    "    print(\"This line will execute three times\")\n",
    "    print(\"This line will also execute three times\")\n",
    "\n",
    "print(\"Now we are outside of the for loop!\")"
   ]
  },
  {
   "cell_type": "markdown",
   "id": "b2c11a90",
   "metadata": {},
   "source": [
    "The range() function returns a sequence of type range. To convert it to list, we need to specifically typecast it to a list."
   ]
  },
  {
   "cell_type": "code",
   "execution_count": 10,
   "id": "55185497",
   "metadata": {},
   "outputs": [
    {
     "name": "stdout",
     "output_type": "stream",
     "text": [
      "[2, 3, 4, 5, 6, 7, 8, 9]\n"
     ]
    }
   ],
   "source": [
    "print(list(range(2,10)))"
   ]
  },
  {
   "cell_type": "markdown",
   "id": "f7399db7",
   "metadata": {},
   "source": [
    "# Section 3.1: Boolean Expressions:-\n",
    "\n",
    "In case of <strong>or</strong> operator, if the first value is True (LHS value), python does not evaluate the second value as it knows that the end result is True.\n",
    "<br>Similarly, in case of the <strong>and</strong> operator, if the first value is False, Python does not proceed for the further evaluation.\n",
    "\n",
    "This behavior, in which Python in some cases skips the evaluation of the second operand to and and or, is called <strong><u>short-circuit boolean evaluation.</u></strong>"
   ]
  },
  {
   "cell_type": "markdown",
   "id": "a0cebc0b",
   "metadata": {},
   "source": [
    "# Section 4: Sequence Mutability:-\n",
    "\n",
    "We know that lists are mutable whereas strings are not. Meaning, we can change an item in a list by directly accessing it by its index. However, the new point here is that: <br><strong>\"In case of mutable objects, when the object is copied, the copy is a direct reference to the same object. Meaning, editing one item in any of the objects would also make changes in the copied object. However, in case of immutable objects, a copy is a literal copy and editing any item in the copy would simply not affect the original object.\"</strong>"
   ]
  },
  {
   "cell_type": "code",
   "execution_count": 11,
   "id": "8d81f0ce",
   "metadata": {},
   "outputs": [
    {
     "name": "stdout",
     "output_type": "stream",
     "text": [
      "x: [0, 1, 2, 3, 4]\n",
      "y: [0, 1, 2, 3, 4]\n",
      "a: Hello\n",
      "b: Bello\n"
     ]
    }
   ],
   "source": [
    "x = [1,1,2,3,4]\n",
    "a = \"Hello\"\n",
    "y = x\n",
    "b = a\n",
    "\n",
    "y[0] = 0\n",
    "print(\"x:\",x)                    # The value of x will also change\n",
    "print(\"y:\",y)\n",
    "\n",
    "b = b.replace(\"H\", \"B\")\n",
    "print(\"a:\",a)                    # The value of a will remain unchanged\n",
    "print(\"b:\",b)"
   ]
  },
  {
   "cell_type": "markdown",
   "id": "7f7a9f83",
   "metadata": {},
   "source": [
    "An assignment to an element of a list (mutable object) is called item assignment. Item assignment does not work for strings (immutable objects).\n",
    "<br>This means that if we try to change any immutable object by directly accessing any of it's items using it's index, we would get an error."
   ]
  },
  {
   "cell_type": "code",
   "execution_count": 12,
   "id": "8a0a88ec",
   "metadata": {},
   "outputs": [
    {
     "ename": "TypeError",
     "evalue": "'tuple' object does not support item assignment",
     "output_type": "error",
     "traceback": [
      "\u001b[1;31m---------------------------------------------------------------------------\u001b[0m",
      "\u001b[1;31mTypeError\u001b[0m                                 Traceback (most recent call last)",
      "Cell \u001b[1;32mIn[12], line 2\u001b[0m\n\u001b[0;32m      1\u001b[0m a \u001b[38;5;241m=\u001b[39m (\u001b[38;5;241m0\u001b[39m, \u001b[38;5;241m1\u001b[39m, \u001b[38;5;241m2\u001b[39m, \u001b[38;5;241m3\u001b[39m, \u001b[38;5;124m\"\u001b[39m\u001b[38;5;124mchange_this\u001b[39m\u001b[38;5;124m\"\u001b[39m)\n\u001b[1;32m----> 2\u001b[0m \u001b[43ma\u001b[49m\u001b[43m[\u001b[49m\u001b[38;5;241;43m4\u001b[39;49m\u001b[43m]\u001b[49m \u001b[38;5;241m=\u001b[39m \u001b[38;5;124m\"\u001b[39m\u001b[38;5;124mchanging \u001b[39m\u001b[38;5;124m'\u001b[39m\u001b[38;5;124mchange_this\u001b[39m\u001b[38;5;124m'\u001b[39m\u001b[38;5;124m\"\u001b[39m    \u001b[38;5;66;03m# This will throw an error!\u001b[39;00m\n",
      "\u001b[1;31mTypeError\u001b[0m: 'tuple' object does not support item assignment"
     ]
    }
   ],
   "source": [
    "a = (0, 1, 2, 3, \"change_this\")\n",
    "a[4] = \"changing 'change_this'\"    # This will throw an error!"
   ]
  },
  {
   "cell_type": "markdown",
   "id": "fa51eeff",
   "metadata": {},
   "source": [
    "Similar is a case with strings as well."
   ]
  },
  {
   "cell_type": "code",
   "execution_count": 13,
   "id": "5a772a4b",
   "metadata": {},
   "outputs": [
    {
     "ename": "TypeError",
     "evalue": "'str' object does not support item assignment",
     "output_type": "error",
     "traceback": [
      "\u001b[1;31m---------------------------------------------------------------------------\u001b[0m",
      "\u001b[1;31mTypeError\u001b[0m                                 Traceback (most recent call last)",
      "Cell \u001b[1;32mIn[13], line 2\u001b[0m\n\u001b[0;32m      1\u001b[0m b \u001b[38;5;241m=\u001b[39m \u001b[38;5;124m\"\u001b[39m\u001b[38;5;124mHello\u001b[39m\u001b[38;5;124m\"\u001b[39m\n\u001b[1;32m----> 2\u001b[0m \u001b[43mb\u001b[49m\u001b[43m[\u001b[49m\u001b[38;5;241;43m0\u001b[39;49m\u001b[43m]\u001b[49m \u001b[38;5;241m=\u001b[39m \u001b[38;5;124m\"\u001b[39m\u001b[38;5;124mB\u001b[39m\u001b[38;5;124m\"\u001b[39m\n",
      "\u001b[1;31mTypeError\u001b[0m: 'str' object does not support item assignment"
     ]
    }
   ],
   "source": [
    "b = \"Hello\"\n",
    "b[0] = \"B\""
   ]
  },
  {
   "cell_type": "markdown",
   "id": "a730b565",
   "metadata": {},
   "source": [
    "The only way to change a string is to create a new string, which is a variation of the original."
   ]
  },
  {
   "cell_type": "code",
   "execution_count": 14,
   "id": "b5e9ae3a",
   "metadata": {},
   "outputs": [
    {
     "name": "stdout",
     "output_type": "stream",
     "text": [
      "b: Hello\n",
      "c: Bello\n"
     ]
    }
   ],
   "source": [
    "b = \"Hello\"\n",
    "print(\"b:\",b)\n",
    "\n",
    "c = \"B\" + b[1:]\n",
    "print(\"c:\",c)"
   ]
  },
  {
   "cell_type": "code",
   "execution_count": 15,
   "id": "54e70d4f",
   "metadata": {},
   "outputs": [
    {
     "name": "stdout",
     "output_type": "stream",
     "text": [
      "[1, 2, 3, 4, 5]\n",
      "[1, 2, 1, 2, 5]\n",
      "[1, 2, 5]\n",
      "[1, 2, 3, 4, 5]\n"
     ]
    }
   ],
   "source": [
    "# Using Slicing to edit lists\n",
    "a = [1,2,3,4,5]\n",
    "print(a)\n",
    "\n",
    "# 1. Update several items in a list\n",
    "a[2:4] = [1,2]                                   # Will update items at index 2 and 3\n",
    "print(a)\n",
    "\n",
    "# 2. Delete items in a list\n",
    "a[0:2] = []                                      # Will remove items at index 0 and 1\n",
    "print(a)\n",
    "\n",
    "# 3. Insert items by squeezing them in the list\n",
    "a[2:2] = [3, 4]                                  # Will squeeze items at index 2\n",
    "print(a)"
   ]
  },
  {
   "cell_type": "markdown",
   "id": "4238ae76",
   "metadata": {},
   "source": [
    "It is always quite error prone and awkward to delete items in a list using slicing. Hence Python gives us a special method for the same."
   ]
  },
  {
   "cell_type": "code",
   "execution_count": 16,
   "id": "69ca7ccf",
   "metadata": {},
   "outputs": [
    {
     "name": "stdout",
     "output_type": "stream",
     "text": [
      "[1, 2, 3, 4, 5]\n",
      "[1, 2, 3, 4]\n",
      "[3, 4]\n"
     ]
    }
   ],
   "source": [
    "a = [1,2,3,4,5]\n",
    "print(a)\n",
    "\n",
    "# Delete single item in a list\n",
    "del a[-1]                             # Will delete the last element in the list\n",
    "print(a)\n",
    "\n",
    "# Delete items in a list\n",
    "del a[0:2]                            # Will delete the first two elements in the list\n",
    "print(a)"
   ]
  },
  {
   "cell_type": "markdown",
   "id": "f4128724",
   "metadata": {},
   "source": [
    "## Objects and references:\n",
    "\n",
    "Sometimes it is good to know the references of objects that we define.\n",
    "<br>For example,<br>\n",
    "In case of the below assignment statements:\n",
    "<br>```a = \"banana\"```\n",
    "<br>```b = \"banana\"```\n",
    "\n",
    "We can see that both a and b refer to a string with letters ```\"banana\"```. But we don't know yet if they refer to the <i>same</i> string. Remember that an object is something a variable can refer to.\n",
    "<br>Now, to know the answer, the ```is``` operator will return true if the two references are to the same object. In other words, if the references are the same."
   ]
  },
  {
   "cell_type": "code",
   "execution_count": 17,
   "id": "e69cd36a",
   "metadata": {},
   "outputs": [
    {
     "name": "stdout",
     "output_type": "stream",
     "text": [
      "True\n",
      "2360045969968\n",
      "2360045969968\n"
     ]
    }
   ],
   "source": [
    "a = \"banana\"\n",
    "b = \"banana\"\n",
    "\n",
    "print(a is b)\n",
    "print(id(a))\n",
    "print(id(b))\n"
   ]
  },
  {
   "cell_type": "markdown",
   "id": "08aa0b0d",
   "metadata": {},
   "source": [
    "Python assigns every object a unique id and when we ask a is b what python is really doing is checking to see if ```id(a) == id(b)```.\n",
    "<br>Since strings are immutable, the Python interpreter often optimizes resources by making two names that refer to the same string value refer to the same object. \n",
    "<br>However, You shouldn’t count on this (that is, use == to compare strings, not is), but don’t be surprised if you find that two variables,each bound to the string “banana”, have the same id.\n",
    "<br><br>This is not a case with lists though. Lists never share the same id if they have the same contents. Hence when we try to check if two lists refer to the same object using the ```is``` operator, we would get ```False```. They need to have different ids so that mutations of list a do not affect list b."
   ]
  },
  {
   "cell_type": "code",
   "execution_count": 18,
   "id": "a88f48ae",
   "metadata": {},
   "outputs": [
    {
     "name": "stdout",
     "output_type": "stream",
     "text": [
      "False\n",
      "True\n",
      "2360046547328\n",
      "2360046549120\n"
     ]
    }
   ],
   "source": [
    "a = [81,82,83]\n",
    "b = [81,82,83]\n",
    "\n",
    "print(a is b)    # Will return False because above lists would always refer to two different objects\n",
    "\n",
    "print(a == b)    # However, since the items are same, a == b will stay True\n",
    "\n",
    "print(id(a))\n",
    "print(id(b))"
   ]
  },
  {
   "cell_type": "markdown",
   "id": "09362818",
   "metadata": {},
   "source": [
    "## Aliasing and Cloning:\n",
    "\n",
    "Aliasing is a term which comes into picture when two variables point to the same object. As shown in the example below, we can say that 'b' is an alias of 'a'. When you make changes in an alias variable, the original variable also gets updated."
   ]
  },
  {
   "cell_type": "code",
   "execution_count": 32,
   "id": "688957bd",
   "metadata": {},
   "outputs": [
    {
     "name": "stdout",
     "output_type": "stream",
     "text": [
      "Before aliasing: True\n",
      "Before aliasing: False\n",
      "After aliasing: True\n",
      "After aliasing: True\n",
      "a = [0, 2, 3, 4, 5]\n",
      "b = [0, 2, 3, 4, 5]\n"
     ]
    }
   ],
   "source": [
    "a = [1,2,3,4,5]\n",
    "b = [1,2,3,4,5]\n",
    "\n",
    "print(\"Before aliasing:\",a == b)    # Contents as same, hence True\n",
    "print(\"Before aliasing:\",a is b)    # Objects are different, hence False\n",
    "\n",
    "# Alias\n",
    "b = a\n",
    "print(\"After aliasing:\", a == b)    # Contents are same, hence True\n",
    "print(\"After aliasing:\", a is b)    # Objects are same, hence True\n",
    "\n",
    "b[0] = 0\n",
    "print(\"a =\",a)\n",
    "print(\"b =\",b)"
   ]
  },
  {
   "cell_type": "markdown",
   "id": "027a6f9b",
   "metadata": {},
   "source": [
    "As we see above, at the beginning of the code, a and b were two different lists as they were pointing to two different objects (even though the values were same). However, after assigning the value of b as 'a', b was aliased and hence, pointed to the same object (which is why we got ```a is b``` as ```True```).\n",
    "\n",
    "However, if you really need to clone lists, while keeping the state of the original list same, the easiest way to do so is using list slicing. While taking any slice of the list creates a new list in itself, using ```a[:]``` would simply clone the list completely."
   ]
  },
  {
   "cell_type": "code",
   "execution_count": 29,
   "id": "bdffd67b",
   "metadata": {},
   "outputs": [
    {
     "name": "stdout",
     "output_type": "stream",
     "text": [
      "False\n",
      "True\n",
      "[1, 2, 3, 4, 5]\n",
      "[0, 2, 3, 4, 5]\n"
     ]
    }
   ],
   "source": [
    "a = [1,2,3,4,5]\n",
    "b = a[:]                 # Cloning a list using slicing\n",
    "\n",
    "print(a is b)            # Objects are different, hence False\n",
    "print(a == b)            # Contents are same, hence True\n",
    "\n",
    "b[0] = 0                 # Changing the items in list b, will not change list a\n",
    "print(a)\n",
    "print(b)"
   ]
  },
  {
   "cell_type": "markdown",
   "id": "f75005a1",
   "metadata": {},
   "source": [
    "As we see above, we are now free to make changes to list b without worrying about changing the contents in list a.\n",
    "\n",
    "Also note that we can also use the assignment operators to get a clone of a list as below. \n",
    "\n",
    "Beware of using something like ```item = item + new_item``` with mutable objects though because it creates a new object. However, when we use ```+=``` then that doesn't happen."
   ]
  },
  {
   "cell_type": "code",
   "execution_count": 30,
   "id": "f0293e63",
   "metadata": {},
   "outputs": [
    {
     "name": "stdout",
     "output_type": "stream",
     "text": [
      "[1, 2, 3, 4, 5]\n",
      "[1, 2, 3, 4, 5, 1, 2, 3, 4, 5]\n",
      "[1, 2, 3, 4, 5]\n",
      "[1, 2, 3, 4, 5, 1, 2, 3, 4, 1]\n"
     ]
    }
   ],
   "source": [
    "alist = [1,2,3,4,5]\n",
    "blist = alist * 2    # Using the * assignment operator to create a clone\n",
    "\n",
    "print(alist)\n",
    "print(blist)\n",
    "\n",
    "blist[-1] = 1        # Changing the items in blist should not affect alist\n",
    "print(alist)\n",
    "print(blist)"
   ]
  },
  {
   "cell_type": "markdown",
   "id": "fb846d7e",
   "metadata": {},
   "source": [
    "# Section 5: List and String Methods:-\n",
    "Methods can be either mutating or non-mutating. \n",
    "- Mutating methods are ones that change the object after the method has been used. \n",
    "- Non-mutating methods do not change the object after the method has been used.\n",
    "## <u>List Methods:</u>\n",
    "### 1. append(): \n",
    "\n",
    "<u><strong>Description:</strong></u> Adds a new item to the end of a list.<br>\n",
    "<u><strong>Parameters:</strong></u> item to add.<br>\n",
    "<u><strong>Result:</strong></u> mutator (i.e., the list is changed by the method but nothing is returned (actually ```None``` is returned))"
   ]
  },
  {
   "cell_type": "code",
   "execution_count": 9,
   "id": "3dbd28c1",
   "metadata": {},
   "outputs": [
    {
     "name": "stdout",
     "output_type": "stream",
     "text": [
      "None\n",
      "[12, 5, 27, 3]\n"
     ]
    }
   ],
   "source": [
    "mylist = []\n",
    "mylist.append(12)\n",
    "mylist.append(5)\n",
    "mylist.append(27)\n",
    "result = mylist.append(3)    # However, the item would be appended in the list.\n",
    "\n",
    "print(result)\n",
    "print(mylist)"
   ]
  },
  {
   "cell_type": "markdown",
   "id": "2d500f18",
   "metadata": {},
   "source": [
    "The append method adds a new item to the end of a list. It is also possible to add a new item to the end of a list by using the concatenation operator. However, you need to be careful.\n",
    "\n",
    "In order to use concatenation, we need to write an assignment statement that uses the accumulator pattern:<br>\n",
    "```origlist = origlist + [\"cat\"]```\n",
    "\n",
    "<strong>Note that the word “cat” needs to be placed in a list since the concatenation operator needs two lists to do its work.</strong>\n",
    "\n",
    "It is also important to realize that with append, <strong>the original list is simply modified</strong>. On the other hand, with concatenation, <strong>an entirely new list is created.</strong><br>\n",
    "This can be seen in the example below where ``newlist`` refers to a list which is a copy of the original list, ``origlist``, with the new item “cat” added to the end.<br>\n",
    "In Python, every object has a unique identification tag which can be found out using the id() method. It takes in the object or item for which the id is to be fetched."
   ]
  },
  {
   "cell_type": "code",
   "execution_count": 19,
   "id": "c3112efb",
   "metadata": {},
   "outputs": [
    {
     "name": "stdout",
     "output_type": "stream",
     "text": [
      "origlist: [45, 32, 88]\n",
      "the identifier: 1769055757888\n",
      "newlist: [45, 32, 88, 'cat']\n",
      "the identifier: 1769055757824\n",
      "origlist: [45, 32, 88, 'cat']\n",
      "the identifier: 1769055757888\n"
     ]
    }
   ],
   "source": [
    "origlist = [45,32,88]\n",
    "\n",
    "print(\"origlist:\", origlist)\n",
    "print(\"the identifier:\", id(origlist))             #id of the list before changes (say, ID1)\n",
    "newlist = origlist + ['cat']\n",
    "print(\"newlist:\", newlist)\n",
    "print(\"the identifier:\", id(newlist))              #id of the list after concatentation (say, ID2)\n",
    "origlist.append('cat')\n",
    "print(\"origlist:\", origlist)\n",
    "print(\"the identifier:\", id(origlist))             #id of the list after append is used. (Would be same as ID1)"
   ]
  },
  {
   "cell_type": "markdown",
   "id": "c357c0f2",
   "metadata": {},
   "source": [
    "We have previously described ``x += 1`` as a shorthand for ``x = x + 1``. With lists, ``+=`` is actually a little different.<br>\n",
    "In particular, ``origlist += [“cat”]`` appends “cat” to the end of the original list object. If there is another alias for ``origlist``, this can make a difference, as in the code below."
   ]
  },
  {
   "cell_type": "code",
   "execution_count": 23,
   "id": "190ae020",
   "metadata": {},
   "outputs": [
    {
     "name": "stdout",
     "output_type": "stream",
     "text": [
      "origlist: [45, 32, 88]\n",
      "aliaslist: [45, 32, 88]\n",
      "\n",
      "After using x += 1 (Modifies the original and alias both i.e., all lists which are related to original)\n",
      "origlist: [45, 32, 88, 'cat']\n",
      "aliaslist: [45, 32, 88, 'cat']\n",
      "\n",
      "After using x = x + 1 (Only modifies the list we intend to modify)\n",
      "origlist: [45, 32, 88, 'cat', 'cow']\n",
      "aliaslist: [45, 32, 88, 'cat']\n"
     ]
    }
   ],
   "source": [
    "origlist = [45,32,88]\n",
    "\n",
    "aliaslist = origlist\n",
    "print(\"origlist:\",origlist)\n",
    "print(\"aliaslist:\",aliaslist)\n",
    "\n",
    "origlist += [\"cat\"]\n",
    "print(\"\\nAfter using x += 1 (Modifies the original and alias both i.e., all lists which are related to original)\")\n",
    "print(\"origlist:\",origlist)\n",
    "print(\"aliaslist:\",aliaslist)\n",
    "\n",
    "origlist = origlist + [\"cow\"]\n",
    "print(\"\\nAfter using x = x + 1 (Only modifies the list we intend to modify)\")\n",
    "print(\"origlist:\",origlist)\n",
    "print(\"aliaslist:\",aliaslist)\n"
   ]
  },
  {
   "cell_type": "markdown",
   "id": "df274225",
   "metadata": {},
   "source": [
    "<strong>In Short:</strong>\n",
    "The behavior of ``obj = obj + object_two`` is different than ``obj += object_two`` when obj is a list. \n",
    "\n",
    "The first version makes a new object entirely and reassigns to obj.<br>\n",
    "The second version changes the original object so that the contents of object_two are added to the end of the first."
   ]
  },
  {
   "cell_type": "markdown",
   "id": "2f3983e5",
   "metadata": {},
   "source": [
    "### 2. insert(): \n",
    "\n",
    "<u><strong>Description:</strong></u> Inserts a new item at the position given.<br>\n",
    "<u><strong>Parameters:</strong></u> position, item<br>\n",
    "<u><strong>Result:</strong></u> mutator (i.e., the list is changed by the method but nothing is returned (actually ```None``` is returned))"
   ]
  },
  {
   "cell_type": "code",
   "execution_count": 10,
   "id": "9b145391",
   "metadata": {},
   "outputs": [
    {
     "name": "stdout",
     "output_type": "stream",
     "text": [
      "None\n",
      "[1, 12, 9, 5, 27, 3]\n"
     ]
    }
   ],
   "source": [
    "mylist = [12, 5, 27, 3]\n",
    "mylist.insert(1,9)\n",
    "result = mylist.insert(0,1)\n",
    "\n",
    "print(result)    # However, the item would be added at the given position\n",
    "print(mylist)"
   ]
  },
  {
   "cell_type": "markdown",
   "id": "41cdbbb5",
   "metadata": {},
   "source": [
    "### 3. pop(): \n",
    "\n",
    "<u><strong>Description:</strong></u> Removes and returns the last item or the iten which is popped out.<br>\n",
    "<u><strong>Parameters:</strong></u> position <i>(optional)</i><br>\n",
    "<u><strong>Result:</strong></u> hybrid (i.e., it not only changes the list but also returns a value as its result.)"
   ]
  },
  {
   "cell_type": "code",
   "execution_count": 11,
   "id": "06ce63d1",
   "metadata": {},
   "outputs": [
    {
     "name": "stdout",
     "output_type": "stream",
     "text": [
      "[1, 12, 9, 5, 27]\n",
      "[1, 9, 5, 27]\n"
     ]
    }
   ],
   "source": [
    "mylist = [1, 12, 9, 5, 27, 3]\n",
    "mylist.pop()\n",
    "\n",
    "print(mylist)\n",
    "\n",
    "mylist.pop(1)\n",
    "print(mylist)"
   ]
  },
  {
   "cell_type": "markdown",
   "id": "cb98dbb1",
   "metadata": {},
   "source": [
    "### 4. sort(): \n",
    "\n",
    "<u><strong>Description:</strong></u> Modifies a list to be sorted.<br>\n",
    "<u><strong>Parameters:</strong></u> none<br>\n",
    "<u><strong>Result:</strong></u> mutator (i.e., the list is changed by the method but nothing is returned (actually ```None``` is returned))"
   ]
  },
  {
   "cell_type": "code",
   "execution_count": 12,
   "id": "01520de7",
   "metadata": {},
   "outputs": [
    {
     "name": "stdout",
     "output_type": "stream",
     "text": [
      "None\n",
      "[1, 5, 9, 27]\n"
     ]
    }
   ],
   "source": [
    "mylist = [1, 9, 5, 27]\n",
    "result = mylist.sort()\n",
    "\n",
    "print(result)\n",
    "print(mylist)"
   ]
  },
  {
   "cell_type": "markdown",
   "id": "69e32b8a",
   "metadata": {},
   "source": [
    "### 5. reverse(): \n",
    "\n",
    "<u><strong>Description:</strong></u> Modifies a list to be in reverse order.<br>\n",
    "<u><strong>Parameters:</strong></u> none<br>\n",
    "<u><strong>Result:</strong></u> mutator (i.e., the list is changed by the method but nothing is returned (actually ```None``` is returned))"
   ]
  },
  {
   "cell_type": "code",
   "execution_count": 13,
   "id": "ce3c0433",
   "metadata": {},
   "outputs": [
    {
     "name": "stdout",
     "output_type": "stream",
     "text": [
      "None\n",
      "[27, 9, 5, 1]\n"
     ]
    }
   ],
   "source": [
    "mylist = [1, 5, 9, 27]\n",
    "result = mylist.reverse()\n",
    "\n",
    "print(result)\n",
    "print(mylist)"
   ]
  },
  {
   "cell_type": "markdown",
   "id": "8de435b2",
   "metadata": {},
   "source": [
    "### 6. index(): \n",
    "\n",
    "<u><strong>Description:</strong></u> Returns the position of first occurrence of item.<br>\n",
    "<u><strong>Parameters:</strong></u> item to get the index for<br>\n",
    "<u><strong>Result:</strong></u> return idx (i.e., the list is unchanged by the method)"
   ]
  },
  {
   "cell_type": "code",
   "execution_count": 14,
   "id": "7fffc08d",
   "metadata": {},
   "outputs": [
    {
     "name": "stdout",
     "output_type": "stream",
     "text": [
      "2\n",
      "[27, 9, 5, 1]\n"
     ]
    }
   ],
   "source": [
    "mylist = [27, 9, 5, 1]\n",
    "result = mylist.index(5)\n",
    "\n",
    "print(result)\n",
    "print(mylist)"
   ]
  },
  {
   "cell_type": "markdown",
   "id": "467afc10",
   "metadata": {},
   "source": [
    "### 7. count(): \n",
    "\n",
    "<u><strong>Description:</strong></u> Returns the number of occurrences of item.<br>\n",
    "<u><strong>Parameters:</strong></u> item to get the count for<br>\n",
    "<u><strong>Result:</strong></u> return ct (i.e., the list is unchanged by the method)"
   ]
  },
  {
   "cell_type": "code",
   "execution_count": 16,
   "id": "08ae0a68",
   "metadata": {},
   "outputs": [
    {
     "name": "stdout",
     "output_type": "stream",
     "text": [
      "2\n",
      "[27, 9, 5, 9, 1]\n"
     ]
    }
   ],
   "source": [
    "mylist = [27, 9, 5, 9, 1]\n",
    "result = mylist.count(9)\n",
    "\n",
    "print(result)\n",
    "print(mylist)"
   ]
  },
  {
   "cell_type": "markdown",
   "id": "ac9acf38",
   "metadata": {},
   "source": [
    "### 8. remove(): \n",
    "\n",
    "<u><strong>Description:</strong></u> Removes the first occurrence of item.<br>\n",
    "<u><strong>Parameters:</strong></u> item to remove<br>\n",
    "<u><strong>Result:</strong></u> mutator (i.e., the list is changed by the method but nothing is returned (actually ```None``` is returned))"
   ]
  },
  {
   "cell_type": "code",
   "execution_count": 17,
   "id": "7e62752a",
   "metadata": {},
   "outputs": [
    {
     "name": "stdout",
     "output_type": "stream",
     "text": [
      "None\n",
      "[27, 5, 9, 1]\n"
     ]
    }
   ],
   "source": [
    "mylist = [27, 9, 5, 9, 1]\n",
    "result = mylist.remove(9)\n",
    "\n",
    "print(result)\n",
    "print(mylist)"
   ]
  },
  {
   "cell_type": "markdown",
   "id": "27e69af6",
   "metadata": {},
   "source": [
    "## <u>String Methods:</u>\n",
    "String Methods are non-mutating. This means that the original string does not get changed after the method is called.\n",
    "### 1. upper(): \n",
    "\n",
    "<u><strong>Description:</strong></u> Returns a string in all uppercase.<br>\n",
    "<u><strong>Parameters:</strong></u> None.<br>\n",
    "<u><strong>Result:</strong></u> returns the same string but in uppercase letters. (but the string is unchanged by the method)"
   ]
  },
  {
   "cell_type": "code",
   "execution_count": 2,
   "id": "0de105ba",
   "metadata": {},
   "outputs": [
    {
     "name": "stdout",
     "output_type": "stream",
     "text": [
      "up: HELLO, WORLD\n",
      "ss: Hello, World\n"
     ]
    }
   ],
   "source": [
    "ss = \"Hello, World\"\n",
    "up = ss.upper()\n",
    "\n",
    "print(\"up:\",up)\n",
    "print(\"ss:\",ss)"
   ]
  },
  {
   "cell_type": "markdown",
   "id": "6fa6aaf4",
   "metadata": {},
   "source": [
    "### 2. lower(): \n",
    "\n",
    "<u><strong>Description:</strong></u> Returns a string in all lowercase.<br>\n",
    "<u><strong>Parameters:</strong></u> None.<br>\n",
    "<u><strong>Result:</strong></u> returns the same string but in lowercase letters. (but the string is unchanged by the method)"
   ]
  },
  {
   "cell_type": "code",
   "execution_count": 4,
   "id": "0cafa691",
   "metadata": {},
   "outputs": [
    {
     "name": "stdout",
     "output_type": "stream",
     "text": [
      "lo: hello, world\n",
      "ss: Hello, World\n"
     ]
    }
   ],
   "source": [
    "ss = \"Hello, World\"\n",
    "lo = ss.lower()\n",
    "\n",
    "print(\"lo:\",lo)\n",
    "print(\"ss:\",ss)"
   ]
  },
  {
   "cell_type": "markdown",
   "id": "27dbc2ba",
   "metadata": {},
   "source": [
    "### 3. count(): \n",
    "\n",
    "<u><strong>Description:</strong></u> Returns the number of occurrences of item.<br>\n",
    "<u><strong>Parameters:</strong></u> item.<br>\n",
    "<u><strong>Result:</strong></u> return ct. (but the string is unchanged by the method)"
   ]
  },
  {
   "cell_type": "code",
   "execution_count": 5,
   "id": "e01a6319",
   "metadata": {},
   "outputs": [
    {
     "name": "stdout",
     "output_type": "stream",
     "text": [
      "cnt: 3\n"
     ]
    }
   ],
   "source": [
    "ss = \"Hello World\"\n",
    "cnt = ss.count(\"l\")\n",
    "\n",
    "print(\"cnt:\", cnt)"
   ]
  },
  {
   "cell_type": "markdown",
   "id": "3e3063dd",
   "metadata": {},
   "source": [
    "### 4. index(): \n",
    "\n",
    "<u><strong>Description:</strong></u> Returns the leftmost index where the substring item is found and causes a runtime error if item is not found.<br>\n",
    "<u><strong>Parameters:</strong></u> item.<br>\n",
    "<u><strong>Result:</strong></u> return idx. (but the string is unchanged by the method)"
   ]
  },
  {
   "cell_type": "code",
   "execution_count": 7,
   "id": "0310e995",
   "metadata": {},
   "outputs": [
    {
     "name": "stdout",
     "output_type": "stream",
     "text": [
      "idx: 2\n"
     ]
    }
   ],
   "source": [
    "ss = \"Hello World\"\n",
    "idx = ss.index(\"l\")\n",
    "\n",
    "print(\"idx:\", idx)    # Only the leftmost value is returned (first occurrence)"
   ]
  },
  {
   "cell_type": "markdown",
   "id": "07a30e90",
   "metadata": {},
   "source": [
    "### 5. strip(): \n",
    "\n",
    "<u><strong>Description:</strong></u> Returns a string with the leading and trailing whitespace removed.<br>\n",
    "<u><strong>Parameters:</strong></u> none/optional delimiter<br>\n",
    "<u><strong>Result:</strong></u> return same string without leading and trailing spaces. (but the string is unchanged by the method)"
   ]
  },
  {
   "cell_type": "code",
   "execution_count": 11,
   "id": "6a84cdc6",
   "metadata": {},
   "outputs": [
    {
     "name": "stdout",
     "output_type": "stream",
     "text": [
      "stripped_ss: Hello World\n",
      "ss:     Hello World    \n"
     ]
    }
   ],
   "source": [
    "ss = \"    Hello World    \"\n",
    "stripped_ss = ss.strip()\n",
    "\n",
    "print(\"stripped_ss:\", stripped_ss)    # Observe how only the leading and trailing whitespaces are removed.\n",
    "print(\"ss:\", ss)"
   ]
  },
  {
   "cell_type": "markdown",
   "id": "d4ee97b8",
   "metadata": {},
   "source": [
    "### 6. replace(): \n",
    "\n",
    "<u><strong>Description:</strong></u> Replaces all occurrences of old substring with new.<br>\n",
    "<u><strong>Parameters:</strong></u> old, new substrings<br>\n",
    "<u><strong>Result:</strong></u> return same string but replaces old substring with new substring. (but the string is unchanged by the method)"
   ]
  },
  {
   "cell_type": "code",
   "execution_count": 12,
   "id": "f5945386",
   "metadata": {},
   "outputs": [
    {
     "name": "stdout",
     "output_type": "stream",
     "text": [
      "replaced_ss: Bello World\n",
      "ss: Hello World\n"
     ]
    }
   ],
   "source": [
    "ss = \"Hello World\"\n",
    "replaced_ss = ss.replace(\"H\", \"B\")\n",
    "\n",
    "print(\"replaced_ss:\", replaced_ss)\n",
    "print(\"ss:\", ss)"
   ]
  },
  {
   "cell_type": "markdown",
   "id": "f4a8f29d",
   "metadata": {},
   "source": [
    "### 7. format(): \n",
    "\n",
    "<u><strong>Description:</strong></u> Used for string formatting.<br>\n",
    "<u><strong>Parameters:</strong></u> substitutions<br>\n",
    "<u><strong>Result:</strong></u> returns formatted string (but the string is unchanged by the method).\n",
    "\n",
    "The format() method is used to format strings in a way such that we do not need to use '+' operator to concatenate strings in case or printing a line. This makes it very convenient to use print statements when there are multiple variables involved.<br>\n",
    "As shown in the example below, the print statement becomes more readable, convenient to use and easier to understand with the use of format() method.\n",
    "\n",
    "Alternatively, format() can also be used to insert float or int values in place of {} braces. We can also format the floating point values to be of a certain precision."
   ]
  },
  {
   "cell_type": "code",
   "execution_count": 14,
   "id": "eebc0314",
   "metadata": {},
   "outputs": [
    {
     "name": "stdout",
     "output_type": "stream",
     "text": [
      "Enter name: Romit\n",
      "Hello, Romit\n"
     ]
    }
   ],
   "source": [
    "name = input(\"Enter name: \")\n",
    "ss = \"Hello, {}\"\n",
    "\n",
    "print(ss.format(name))"
   ]
  },
  {
   "cell_type": "markdown",
   "id": "edfd9928",
   "metadata": {},
   "source": [
    "Let's try with a float value:"
   ]
  },
  {
   "cell_type": "code",
   "execution_count": 15,
   "id": "47c2c28a",
   "metadata": {},
   "outputs": [
    {
     "name": "stdout",
     "output_type": "stream",
     "text": [
      "Enter the original price: $2.5\n",
      "Enter discount percentage: 7\n",
      "$2.5 discounted by 7.0% is $2.3249999999999997.\n"
     ]
    }
   ],
   "source": [
    "origPrice = float(input('Enter the original price: $'))\n",
    "discount = float(input('Enter discount percentage: '))\n",
    "newPrice = (1 - discount/100)*origPrice\n",
    "calculation = '${} discounted by {}% is ${}.'.format(origPrice, discount, newPrice)\n",
    "print(calculation)"
   ]
  },
  {
   "cell_type": "markdown",
   "id": "50f22e10",
   "metadata": {},
   "source": [
    "However, in real world, we do not expect a price to to be printed with a large number of digits after decimal.<br>\n",
    "Hence, we can format this price value, which is a float value, to be just 2 digits after a decimal.<br>\n",
    "\n",
    "To do so we use ``:.2f`` inside the braces for the monetary values.<br>\n",
    "\n",
    "Please note that this precision can be anything but in the ideal world, monetary values have 2 digits of precison hence 2f.<br>\n",
    "Also, the value is rounded as well: e.g., ``$2.567`` would be rounded to ``$2.57``"
   ]
  },
  {
   "cell_type": "code",
   "execution_count": 16,
   "id": "3a069e03",
   "metadata": {},
   "outputs": [
    {
     "name": "stdout",
     "output_type": "stream",
     "text": [
      "Enter the original price: $2.5\n",
      "Enter discount percentage: 7\n",
      "$2.50 discounted by 7.0% is $2.32.\n"
     ]
    }
   ],
   "source": [
    "origPrice = float(input('Enter the original price: $'))\n",
    "discount = float(input('Enter discount percentage: '))\n",
    "newPrice = (1 - discount/100)*origPrice\n",
    "calculation = '${:.2f} discounted by {}% is ${:.2f}.'.format(origPrice, discount, newPrice)\n",
    "print(calculation)"
   ]
  },
  {
   "cell_type": "markdown",
   "id": "7af8245f",
   "metadata": {},
   "source": [
    "It is also important that format gets the same amount of arguments as there are {} waiting for interpolation in the string.<br>\n",
    "If you have a {} in a string that you do not pass arguments for, you may not get an error, but you will see a weird undefined value suddenly inserted into your string which you probably did not intend to see. \n",
    "\n",
    "You can see an example below."
   ]
  },
  {
   "cell_type": "code",
   "execution_count": 20,
   "id": "56f759b3",
   "metadata": {},
   "outputs": [
    {
     "name": "stdout",
     "output_type": "stream",
     "text": [
      "Hello, Romit. Nice to meet you.\n",
      "Hello, Nice to meet you. Romit.\n"
     ]
    },
    {
     "ename": "IndexError",
     "evalue": "Replacement index 1 out of range for positional args tuple",
     "output_type": "error",
     "traceback": [
      "\u001b[1;31m---------------------------------------------------------------------------\u001b[0m",
      "\u001b[1;31mIndexError\u001b[0m                                Traceback (most recent call last)",
      "Cell \u001b[1;32mIn[20], line 9\u001b[0m\n\u001b[0;32m      5\u001b[0m \u001b[38;5;28mprint\u001b[39m(s\u001b[38;5;241m.\u001b[39mformat(name,greeting)) \u001b[38;5;66;03m# will print Hello, Romit. Nice to meet you.\u001b[39;00m\n\u001b[0;32m      7\u001b[0m \u001b[38;5;28mprint\u001b[39m(s\u001b[38;5;241m.\u001b[39mformat(greeting,name)) \u001b[38;5;66;03m# will print Hello, Nice to meet you. Romit.\u001b[39;00m\n\u001b[1;32m----> 9\u001b[0m \u001b[38;5;28mprint\u001b[39m(\u001b[43ms\u001b[49m\u001b[38;5;241;43m.\u001b[39;49m\u001b[43mformat\u001b[49m\u001b[43m(\u001b[49m\u001b[43mname\u001b[49m\u001b[43m)\u001b[49m) \u001b[38;5;66;03m# 2 {}s, only one interpolation item! Not ideal.\u001b[39;00m\n",
      "\u001b[1;31mIndexError\u001b[0m: Replacement index 1 out of range for positional args tuple"
     ]
    }
   ],
   "source": [
    "name = \"Romit\"\n",
    "greeting = \"Nice to meet you\"\n",
    "s = \"Hello, {}. {}.\"\n",
    "\n",
    "print(s.format(name,greeting)) # will print Hello, Romit. Nice to meet you.\n",
    "\n",
    "print(s.format(greeting,name)) # will print Hello, Nice to meet you. Romit.\n",
    "\n",
    "print(s.format(name)) # 2 {}s, only one interpolation item! Not ideal."
   ]
  },
  {
   "cell_type": "markdown",
   "id": "aab2f329",
   "metadata": {},
   "source": [
    "<strong>A technical point:</strong><br>\n",
    "Since braces have special meaning in a format string, there must be a special rule if you want braces to actually be included in the final formatted string. \n",
    "\n",
    "The rule is to double the braces: {{ and }}.<br>\n",
    "For example mathematical set notation uses braces. The initial and final doubled braces in the format string below generate literal braces in the formatted string:"
   ]
  },
  {
   "cell_type": "code",
   "execution_count": 19,
   "id": "67e72b0a",
   "metadata": {},
   "outputs": [
    {
     "name": "stdout",
     "output_type": "stream",
     "text": [
      "The set is {5, 9}.\n"
     ]
    }
   ],
   "source": [
    "a = 5\n",
    "b = 9\n",
    "setStr = 'The set is {{{}, {}}}.'.format(a, b)\n",
    "print(setStr)"
   ]
  },
  {
   "cell_type": "markdown",
   "id": "e07ef35a",
   "metadata": {},
   "source": [
    "## <u>Accumulator Pattern Strategies:</u>\n",
    "\n",
    "Learning to use the accumulator pattern can be confusing. However, the first step is to recognize something in the problem that suggests an accumulation pattern. Here are a few. You might want to try adding some more of your own.\n",
    "\n",
    "<strong>Accumulation Pattern:</strong> count accumulation<br>\n",
    "<strong>Phrases:</strong> how many, how frequently<br>\n",
    "<strong>Accumulation Pattern:</strong> sum accumulation<br>\n",
    "<strong>Phrases:</strong> total<br>\n",
    "<strong>Accumulation Pattern:</strong> list accumulation<br>\n",
    "<strong>Phrases:</strong> a list of<br>\n",
    "<strong>Accumulation Pattern:</strong> string accumulation<br>\n",
    "<strong>Phrases:</strong> concatenate, join together<br>\n",
    "\n",
    "It is also recommended NOT to iterate over a list that you intend to mutate within the loop. This way, we do not end up with an infinite append process in case if we add some items in the same list that we are iterating over or an index error in case if we remove items from a list which in turn changes the lists indices making it shorter. \n",
    "See the below example:"
   ]
  },
  {
   "cell_type": "code",
   "execution_count": 33,
   "id": "42b1d60b",
   "metadata": {},
   "outputs": [
    {
     "name": "stdout",
     "output_type": "stream",
     "text": [
      "Next iteration: 0\n",
      "Color: Red\n",
      "Iteration 0, colors = ['Red', 'Orange', 'Yellow', 'Green', 'Blue', 'Indigo']\n",
      "Next iteration: 1\n",
      "Color: Orange\n",
      "Iteration 1, colors = ['Red', 'Orange', 'Yellow', 'Green', 'Blue', 'Indigo']\n",
      "Next iteration: 2\n",
      "Color: Yellow\n",
      "Iteration 2, colors = ['Red', 'Orange', 'Yellow', 'Green', 'Blue', 'Indigo']\n",
      "Next iteration: 3\n",
      "Color: Green\n",
      "Iteration 3, colors = ['Red', 'Orange', 'Yellow', 'Green', 'Blue', 'Indigo']\n",
      "Next iteration: 4\n",
      "Color: Blue\n",
      "Notice how the list 'colors' gets changed below!\n",
      "Iteration 4, colors = ['Red', 'Orange', 'Yellow', 'Green', 'Indigo']\n",
      "Next iteration: 5\n"
     ]
    },
    {
     "ename": "IndexError",
     "evalue": "list index out of range",
     "output_type": "error",
     "traceback": [
      "\u001b[1;31m---------------------------------------------------------------------------\u001b[0m",
      "\u001b[1;31mIndexError\u001b[0m                                Traceback (most recent call last)",
      "Cell \u001b[1;32mIn[33], line 5\u001b[0m\n\u001b[0;32m      3\u001b[0m \u001b[38;5;28;01mfor\u001b[39;00m position \u001b[38;5;129;01min\u001b[39;00m \u001b[38;5;28mrange\u001b[39m(\u001b[38;5;28mlen\u001b[39m(colors)):\n\u001b[0;32m      4\u001b[0m     \u001b[38;5;28mprint\u001b[39m(\u001b[38;5;124m\"\u001b[39m\u001b[38;5;124mNext iteration:\u001b[39m\u001b[38;5;124m\"\u001b[39m, position)\n\u001b[1;32m----> 5\u001b[0m     color \u001b[38;5;241m=\u001b[39m \u001b[43mcolors\u001b[49m\u001b[43m[\u001b[49m\u001b[43mposition\u001b[49m\u001b[43m]\u001b[49m\n\u001b[0;32m      6\u001b[0m     \u001b[38;5;28mprint\u001b[39m(\u001b[38;5;124m\"\u001b[39m\u001b[38;5;124mColor:\u001b[39m\u001b[38;5;124m\"\u001b[39m,color)\n\u001b[0;32m      7\u001b[0m     \u001b[38;5;28;01mif\u001b[39;00m color[\u001b[38;5;241m0\u001b[39m] \u001b[38;5;129;01min\u001b[39;00m [\u001b[38;5;124m\"\u001b[39m\u001b[38;5;124mP\u001b[39m\u001b[38;5;124m\"\u001b[39m, \u001b[38;5;124m\"\u001b[39m\u001b[38;5;124mB\u001b[39m\u001b[38;5;124m\"\u001b[39m, \u001b[38;5;124m\"\u001b[39m\u001b[38;5;124mT\u001b[39m\u001b[38;5;124m\"\u001b[39m]:\n",
      "\u001b[1;31mIndexError\u001b[0m: list index out of range"
     ]
    }
   ],
   "source": [
    "colors = [\"Red\", \"Orange\", \"Yellow\", \"Green\", \"Blue\", \"Indigo\"]\n",
    "\n",
    "for position in range(len(colors)):\n",
    "    print(\"Next iteration:\", position)\n",
    "    color = colors[position]\n",
    "    print(\"Color:\",color)\n",
    "    if color[0] in [\"P\", \"B\", \"T\"]:\n",
    "        del colors[position]\n",
    "        print(\"Notice how the list 'colors' gets changed below!\")\n",
    "    print(\"Iteration {}, colors = {}\".format(position, colors))\n",
    "\n",
    "print(\"Finally:\",colors)"
   ]
  },
  {
   "cell_type": "markdown",
   "id": "1b12288f",
   "metadata": {},
   "source": [
    "In the example above, as we can see, since the position(index): 5 does not exist anymore when the list gets updated after deleting 'Blue', we see an IndexError.<br>\n",
    "Similarly, in case of ``append()``, items would keep on appending at the end of the list if a certain case is met and in that case, the list index would keep on incrementing thus causing an infinite execution.<br>\n",
    "<p style=\"text-align: center;\"><strong><i>The End!</i></strong></p>"
   ]
  }
 ],
 "metadata": {
  "kernelspec": {
   "display_name": "Python 3 (ipykernel)",
   "language": "python",
   "name": "python3"
  },
  "language_info": {
   "codemirror_mode": {
    "name": "ipython",
    "version": 3
   },
   "file_extension": ".py",
   "mimetype": "text/x-python",
   "name": "python",
   "nbconvert_exporter": "python",
   "pygments_lexer": "ipython3",
   "version": "3.10.3"
  }
 },
 "nbformat": 4,
 "nbformat_minor": 5
}
