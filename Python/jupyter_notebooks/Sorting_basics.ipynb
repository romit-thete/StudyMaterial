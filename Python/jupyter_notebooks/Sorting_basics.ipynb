{
 "cells": [
  {
   "cell_type": "markdown",
   "id": "d78fce17",
   "metadata": {},
   "source": [
    "## Sorting and Sorted:\n",
    "**1. list.sort():**<br>\n",
    "Incase of lists, we have a method called ``sort`` which sorts the items in the list.<br>\n",
    "- When it's invoked on a list, the order of items in the list is changed.\n",
    "- If no optional parameters (example, ``reverse=True``) are specified, the items are arranged in whatever the natural ordering is for the item type.\n",
    "\n",
    "An important thing to note here is that ``sort`` does the in-place sorting of the list. Meaning, it does not return anything (None) however, the existing list itself is modified.\n",
    "\n",
    "**2. sorted(list):**<br>\n",
    "Because it is a function rather than a method, ``sorted`` is invoked on a list by passing the list as a parameter inside the parentheses.<br>\n",
    "More importantly, sorted does not change the original list. Instead, it returns a new list."
   ]
  },
  {
   "cell_type": "code",
   "execution_count": 1,
   "id": "0b54e724",
   "metadata": {},
   "outputs": [
    {
     "name": "stdout",
     "output_type": "stream",
     "text": [
      "L3 after sorting L2: ['Apple', 'Blueberry', 'Cherry']\n",
      "L2 after sorting L2: ['Apple', 'Blueberry', 'Cherry']\n",
      "L2 after sorting: ['Cherry', 'Apple', 'Blueberry']\n",
      "----\n",
      "L2 after using .sort(): ['Apple', 'Blueberry', 'Cherry']\n",
      "Return value of the L2.sort() function: None\n"
     ]
    }
   ],
   "source": [
    "L2 = [\"Cherry\", \"Apple\", \"Blueberry\"]\n",
    "\n",
    "L3 = sorted(L2)\n",
    "print(\"L3 after sorting L2:\", L3)\n",
    "print(\"L2 after sorting L2:\", sorted(L2))\n",
    "print(\"L2 after sorting:\", L2) # unchanged\n",
    "\n",
    "print(\"----\")\n",
    "\n",
    "L2.sort()\n",
    "print(\"L2 after using .sort():\", L2)\n",
    "print(\"Return value of the L2.sort() function:\", L2.sort())  #return value is None\n"
   ]
  },
  {
   "cell_type": "markdown",
   "id": "7f91afcb",
   "metadata": {},
   "source": [
    "### Optional Parameters:\n",
    "**1. reverse:**<br>\n",
    "It is a Boolean value which determines whether to sort the items in **reverse** order. By default, it is **False**, but if you set it to True, the list will be **sorted in reverse order**.\n",
    "\n",
    "**2. key:**<br>\n",
    "It is used If you want to sort things in some order other than the “natural” or its reverse. For e.g., suppose you have a dictionary with strings as the keys and numbers as the values. Instead of sorting them in alphabetic order based on the *keys*, you might like to sort them in order based on their *values*.\n",
    "\n",
    "**Note:** For most functions, it is possible to provide optional parameters without keywords, but the sorted function prevents this, so you have to provide keywords for the reverse and key parameters. In this situation, it is more convenient to use the keyword mechanism anyway."
   ]
  },
  {
   "cell_type": "code",
   "execution_count": 4,
   "id": "d111ee5a",
   "metadata": {},
   "outputs": [
    {
     "name": "stdout",
     "output_type": "stream",
     "text": [
      "[1, -2, 3, 4, 7]\n"
     ]
    }
   ],
   "source": [
    "L1 = [1, 7, 4, -2, 3]\n",
    "\n",
    "# A function absolute that takes a number and returns its absolute value.\n",
    "def absolute(x):\n",
    "    return -x if x < 0 else x\n",
    "\n",
    "# Now, we can pass the absolute function to sorted in order to specify that we want the items sorted in order of their absolute\n",
    "# value, rather than in order of their actual value.\n",
    "print(sorted(L1, key=absolute))"
   ]
  },
  {
   "cell_type": "markdown",
   "id": "81c10963",
   "metadata": {},
   "source": [
    "As seen above, we pass a function as a *key* to the sorted function to define the way in which we want the items to be sorted.<br>\n",
    "When a value is provided for that parameter in an invocation of the function sorted, it has to be a function.<br>\n",
    "What the sorted function does is call that *key* function once for each item in the list that’s getting sorted.<br>\n",
    "**Note:** This code never explicitly calls the absolute function at all. It passes the absolute function as a parameter value to the sorted function. Inside the sorted function, whose code we haven’t seen, that function gets invoked."
   ]
  },
  {
   "cell_type": "markdown",
   "id": "e77bb222",
   "metadata": {},
   "source": [
    "## Usage of sorted():"
   ]
  },
  {
   "cell_type": "code",
   "execution_count": 8,
   "id": "480e911e",
   "metadata": {},
   "outputs": [
    {
     "name": "stdout",
     "output_type": "stream",
     "text": [
      "E appears 2 times\n",
      "F appears 1 times\n",
      "B appears 2 times\n",
      "A appears 2 times\n",
      "D appears 4 times\n",
      "I appears 2 times\n",
      "C appears 1 times\n"
     ]
    }
   ],
   "source": [
    "# Previously, you have used a dictionary to accumulate counts, such as the frequencies of letters or words in a text.\n",
    "\n",
    "L = ['E', 'F', 'B', 'A', 'D', 'I', 'I', 'C', 'B', 'A', 'D', 'D', 'E', 'D']\n",
    "\n",
    "d = {}\n",
    "for x in L:\n",
    "    if x in d:\n",
    "        d[x] = d[x] + 1\n",
    "    else:\n",
    "        d[x] = 1\n",
    "for x in d.keys():\n",
    "    print(\"{} appears {} times\".format(x, d[x]))"
   ]
  },
  {
   "cell_type": "code",
   "execution_count": 6,
   "id": "9bcdf60d",
   "metadata": {},
   "outputs": [
    {
     "name": "stdout",
     "output_type": "stream",
     "text": [
      "A appears 2 times\n",
      "B appears 2 times\n",
      "C appears 1 times\n",
      "D appears 4 times\n",
      "E appears 2 times\n",
      "F appears 1 times\n",
      "I appears 2 times\n"
     ]
    }
   ],
   "source": [
    "# However, this would not always print the statement in a particular order. \n",
    "# To do so, we use the dictionary's keys as the value for key parameter of sorted.\n",
    "\n",
    "L = ['E', 'F', 'B', 'A', 'D', 'I', 'I', 'C', 'B', 'A', 'D', 'D', 'E', 'D']\n",
    "\n",
    "d = {}\n",
    "for x in L:\n",
    "    if x in d:\n",
    "        d[x] = d[x] + 1\n",
    "    else:\n",
    "        d[x] = 1\n",
    "# Watch the below line\n",
    "y = sorted(d.keys())\n",
    "for k in y:\n",
    "    print(\"{} appears {} times\".format(k, d[k]))\n"
   ]
  },
  {
   "cell_type": "code",
   "execution_count": 7,
   "id": "12ed8587",
   "metadata": {},
   "outputs": [
    {
     "name": "stdout",
     "output_type": "stream",
     "text": [
      "D appears 4 times\n",
      "E appears 2 times\n",
      "B appears 2 times\n",
      "A appears 2 times\n",
      "I appears 2 times\n",
      "F appears 1 times\n",
      "C appears 1 times\n"
     ]
    }
   ],
   "source": [
    "# With a dictionary that is maintaining score/counts, etc of a game or items, \n",
    "# we would ideally prefer the outputs to be printed in the order of the values (scores/counts) instead of the keys (game/items). \n",
    "# In this case, we can simply use a lambda function as below:\n",
    "\n",
    "L = ['E', 'F', 'B', 'A', 'D', 'I', 'I', 'C', 'B', 'A', 'D', 'D', 'E', 'D']\n",
    "\n",
    "d = {}\n",
    "for x in L:\n",
    "    if x in d:\n",
    "        d[x] = d[x] + 1\n",
    "    else:\n",
    "        d[x] = 1\n",
    "\n",
    "# Watch the below line\n",
    "y = sorted(d.keys(), key=lambda k: d[k], reverse=True)\n",
    "for k in y:\n",
    "    print(\"{} appears {} times\".format(k, d[k]))\n"
   ]
  },
  {
   "cell_type": "markdown",
   "id": "506cd60e",
   "metadata": {},
   "source": [
    "**Note:** <br>\n",
    "When we sort the keys, passing a function with ``key=lambda x: d[x]`` does not specify to sort the keys of a dictionary. \n",
    "The lists of keys are passed as the first parameter value in the invocation of sort. The *key* parameter provides a function that says how to sort them."
   ]
  },
  {
   "cell_type": "markdown",
   "id": "d4052b2e",
   "metadata": {},
   "source": [
    "## Sorting Ties:\n",
    "When it comes to sorting, we do have our own ways to sort a list/dict using sort or sorted. But what if we have two items having ties?\n",
    "\n",
    "For example, suppose we sort a list of words by their lengths. Which five letter word will appear first?<br>\n",
    "--> The answer is that the python interpreter will sort the tied items in the **same order they were in** before the sorting.<br>\n",
    "But what if we wanted to sort them with some other property? say, alphabetically?<br>\n",
    "--> Python allows us to specify multiple conditions when we perform a sort by returning a tuple from a key function."
   ]
  },
  {
   "cell_type": "code",
   "execution_count": 1,
   "id": "2e0caf97",
   "metadata": {},
   "outputs": [
    {
     "name": "stdout",
     "output_type": "stream",
     "text": [
      "('A', 2, 4)\n",
      "('A', 3, 2)\n",
      "('B', 3, 1)\n",
      "('C', 1, 2)\n",
      "('C', 1, 4)\n"
     ]
    }
   ],
   "source": [
    "# Let's see how a tuple works first\n",
    "tups = [('A', 3, 2),\n",
    "        ('C', 1, 4),\n",
    "        ('B', 3, 1),\n",
    "        ('A', 2, 4),\n",
    "        ('C', 1, 2)]\n",
    "for tup in sorted(tups):\n",
    "    print(tup)\n"
   ]
  },
  {
   "cell_type": "markdown",
   "id": "c4b84018",
   "metadata": {},
   "source": [
    "As we can see above, the tuple is sorted in a way such that the first item is preferred to be sorted first, followed by second in case of a tie and then followed by the third item. Here, as we can see, in case of strings,the alphabetic order is followed whereas for integers, the lowest to highest preference is considered default."
   ]
  },
  {
   "cell_type": "code",
   "execution_count": 2,
   "id": "0ff4c5a2",
   "metadata": {},
   "outputs": [
    {
     "name": "stdout",
     "output_type": "stream",
     "text": [
      "kiwi\n",
      "pear\n",
      "apple\n",
      "mango\n",
      "peach\n",
      "papaya\n",
      "blueberry\n"
     ]
    }
   ],
   "source": [
    "# Here, we sort the fruit words based on their length (low to high) and in case of ties, we sort alphabetically\n",
    "\n",
    "fruits = ['peach', 'kiwi', 'apple', 'blueberry', 'papaya', 'mango', 'pear']\n",
    "\n",
    "# To do so, we return a tuple of (length, fruit_word) using a lambda function and pass it as a key\n",
    "new_order = sorted(fruits, key=lambda fruit_name: (len(fruit_name), fruit_name))\n",
    "for fruit in new_order:\n",
    "    print(fruit)\n"
   ]
  },
  {
   "cell_type": "markdown",
   "id": "0b6d26c4",
   "metadata": {},
   "source": [
    "Each word here, is first evaluated based on their lengths followed by the alphabetic order of the letters in the string.\n",
    "What if we wanted to get the output in a reverse order? Meaning, length (high to low) followed by alphabetical order:"
   ]
  },
  {
   "cell_type": "code",
   "execution_count": 3,
   "id": "12cae534",
   "metadata": {},
   "outputs": [
    {
     "name": "stdout",
     "output_type": "stream",
     "text": [
      "blueberry\n",
      "papaya\n",
      "peach\n",
      "mango\n",
      "apple\n",
      "pear\n",
      "kiwi\n"
     ]
    }
   ],
   "source": [
    "# Here, we sort the fruit words based on their length (high to low) and in case of ties, we sort alphabetically\n",
    "\n",
    "fruits = ['peach', 'kiwi', 'apple', 'blueberry', 'papaya', 'mango', 'pear']\n",
    "\n",
    "# To do so, we return a tuple of (length, fruit_word) using a lambda function and pass it as a key\n",
    "new_order = sorted(fruits, key=lambda fruit_name: (len(fruit_name), fruit_name), reverse=True)\n",
    "for fruit in new_order:\n",
    "    print(fruit)\n"
   ]
  },
  {
   "cell_type": "markdown",
   "id": "1faf19df",
   "metadata": {},
   "source": [
    "But if you observe, the strings are not only sorted in the reverse order or lengths but also the reverse order of alphabets!\n",
    "A solution is to add a **negative sign** in front of ``len(fruit_name)``, which will convert all positive numbers to negative, and all negative numbers to positive. As a result, the longest elements would be first and the shortest elements would be last:"
   ]
  },
  {
   "cell_type": "code",
   "execution_count": 7,
   "id": "e6dac4e7",
   "metadata": {},
   "outputs": [
    {
     "name": "stdout",
     "output_type": "stream",
     "text": [
      "blueberry\n",
      "papaya\n",
      "apple\n",
      "mango\n",
      "peach\n",
      "kiwi\n",
      "pear\n"
     ]
    }
   ],
   "source": [
    "# Here, we sort the fruit words based on their length (high to low) and in case of ties, we sort alphabetically\n",
    "\n",
    "fruits = ['peach', 'kiwi', 'apple', 'blueberry', 'papaya', 'mango', 'pear']\n",
    "\n",
    "# To do so, we return a tuple of (length, fruit_word) using a lambda function and pass it as a key\n",
    "new_order = sorted(fruits, key=lambda fruit_name: (-len(fruit_name), fruit_name))\n",
    "for fruit in new_order:\n",
    "    print(fruit)\n"
   ]
  },
  {
   "cell_type": "markdown",
   "id": "5596a564",
   "metadata": {},
   "source": [
    "## When to use a Lambda expression?\n",
    "\n",
    "Though you can often use a lambda expression or a named function interchangeably when sorting, it’s generally best to use lambda expressions until the process is too complicated, and then a function should be used."
   ]
  },
  {
   "cell_type": "code",
   "execution_count": 9,
   "id": "175bfab2",
   "metadata": {},
   "outputs": [
    {
     "name": "stdout",
     "output_type": "stream",
     "text": [
      "['Washington', 'Minnesota', 'Michigan']\n"
     ]
    }
   ],
   "source": [
    "# Let's sort a dictionary’s keys by properties of its values. \n",
    "# Each key is a state name and each value is a list of city names.\n",
    "# For our first sort order, we want to sort the states in order by the length of the first city name\n",
    "\n",
    "states = {\"Minnesota\": [\"St. Paul\", \"Minneapolis\", \"Saint Cloud\", \"Stillwater\"],\n",
    "          \"Michigan\": [\"Ann Arbor\", \"Traverse City\", \"Lansing\", \"Kalamazoo\"],\n",
    "          \"Washington\": [\"Seattle\", \"Tacoma\", \"Olympia\", \"Vancouver\"]}\n",
    "\n",
    "print(sorted(states, key=lambda state: len(states[state][0])))\n"
   ]
  },
  {
   "cell_type": "code",
   "execution_count": 13,
   "id": "cbe665bf",
   "metadata": {},
   "outputs": [
    {
     "name": "stdout",
     "output_type": "stream",
     "text": [
      "['Michigan', 'Washington', 'Minnesota']\n"
     ]
    }
   ],
   "source": [
    "# But what if we want to sort by is the number of cities that begin with the letter ‘S’.\n",
    "# Meaning, the sort order should be based on the states having the highest no. of cities starting with the letter 'S'\n",
    "# Here, we can use a hybrid approach.\n",
    "\n",
    "# We first get the list of states from the lambda function's output.\n",
    "# We then pass it as a parameter to the s_cities_count() function which returns the count `ct` and then sort happens on this `ct`.\n",
    "\n",
    "def s_cities_count(city_list):\n",
    "    ct = 0\n",
    "    for city in city_list:\n",
    "        if city[0] == \"S\":\n",
    "            ct += 1\n",
    "    return ct\n",
    "\n",
    "states = {\"Minnesota\": [\"St. Paul\", \"Minneapolis\", \"Saint Cloud\", \"Stillwater\"],\n",
    "          \"Michigan\": [\"Ann Arbor\", \"Traverse City\", \"Lansing\", \"Kalamazoo\"],\n",
    "          \"Washington\": [\"Seattle\", \"Tacoma\", \"Olympia\", \"Vancouver\"]}\n",
    "\n",
    "print(sorted(states, key=lambda state: s_cities_count(states[state])))\n"
   ]
  },
  {
   "cell_type": "markdown",
   "id": "06823a42",
   "metadata": {},
   "source": [
    "There will be other situations that are even more complicated than this. In some cases, they may be too complicated to solve with a lambda expression at all! You can always fall back on writing a named function when a lambda expression will be too complicated."
   ]
  }
 ],
 "metadata": {
  "kernelspec": {
   "display_name": "Python 3 (ipykernel)",
   "language": "python",
   "name": "python3"
  },
  "language_info": {
   "codemirror_mode": {
    "name": "ipython",
    "version": 3
   },
   "file_extension": ".py",
   "mimetype": "text/x-python",
   "name": "python",
   "nbconvert_exporter": "python",
   "pygments_lexer": "ipython3",
   "version": "3.10.3"
  }
 },
 "nbformat": 4,
 "nbformat_minor": 5
}
