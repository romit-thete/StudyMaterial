{
 "cells": [
  {
   "cell_type": "markdown",
   "id": "1fdb43ff",
   "metadata": {},
   "source": [
    "## Variables and parameters are local\n",
    "Assignment statements within a function create <strong>local variables</strong> for that function on the right hand side of the assignment. These variables only exist inside the function and can't be used outside the function scope.<br>\n",
    "Consider the below example where we print the value of y which is local only to the function ``square``. This variable ``y`` is a local variable because the assignment statement ``y = x * x`` is present in the function definition."
   ]
  },
  {
   "cell_type": "code",
   "execution_count": 1,
   "id": "934a9a5d",
   "metadata": {},
   "outputs": [
    {
     "ename": "NameError",
     "evalue": "name 'y' is not defined",
     "output_type": "error",
     "traceback": [
      "\u001b[1;31m---------------------------------------------------------------------------\u001b[0m",
      "\u001b[1;31mNameError\u001b[0m                                 Traceback (most recent call last)",
      "Cell \u001b[1;32mIn[1], line 6\u001b[0m\n\u001b[0;32m      3\u001b[0m     \u001b[38;5;28;01mreturn\u001b[39;00m y\n\u001b[0;32m      5\u001b[0m z \u001b[38;5;241m=\u001b[39m square(\u001b[38;5;241m10\u001b[39m)\n\u001b[1;32m----> 6\u001b[0m \u001b[38;5;28mprint\u001b[39m(\u001b[43my\u001b[49m)\n",
      "\u001b[1;31mNameError\u001b[0m: name 'y' is not defined"
     ]
    }
   ],
   "source": [
    "def square(x):\n",
    "    y = x * x\n",
    "    return y\n",
    "\n",
    "z = square(10)\n",
    "print(y)"
   ]
  },
  {
   "cell_type": "markdown",
   "id": "4129484a",
   "metadata": {},
   "source": [
    "The variable ``y`` only exists while the function is being executed — we call this its <strong>lifetime</strong>. When the execution of the function terminates (returns), the local variables are destroyed.<br>\n",
    "Formal parameters are also local and act like local variables. For example, the lifetime of ``x`` begins when square is called, and its lifetime ends when the function completes its execution.<br>\n",
    "\n",
    "So it is not possible for a function to set some local variable to a value, complete its execution, and then when it is called again next time, recover the local variable. Each call of the function creates new local variables, and their lifetimes expire when the function returns to the caller.<br>\n",
    "```python \n",
    "    v1 += 1\n",
    "Traceback (most recent call last):\n",
    "    File \"<stdin>\", line 1, in <module>\n",
    "NameError: name 'v1' is not defined\n",
    "    def foo():\n",
    "        v1 += 1\n",
    "    foo()\n",
    "Traceback (most recent call last):\n",
    "    File \"<stdin>\", line 1, in <module>\n",
    "    File \"<stdin>\", line 2, in foo\n",
    "UnboundLocalError: local variable 'v1' referenced before assignment\n",
    "```\n",
    "<br>\n",
    "In the code above, notice and understand the different error messages. The local variables are created at the same time the local namespace is created (as seen in the function foo). That is <strong>any</strong> variable that is assigned to anywhere in the function gets added to the local namespace immediately but it will remain <strong>unbound</strong> until the assignment statement is executed.\n",
    "\n"
   ]
  },
  {
   "cell_type": "markdown",
   "id": "77c44ecd",
   "metadata": {},
   "source": [
    "## Global Variables:\n",
    "Variables which are at the top-level, not inside any function definition, are called **global variables**.<br>\n",
    "It is legal for a function to access a global variable. However, this is considered **bad form** by nearly all programmers and should be avoided."
   ]
  },
  {
   "cell_type": "code",
   "execution_count": 2,
   "id": "327e9af8",
   "metadata": {},
   "outputs": [
    {
     "name": "stdout",
     "output_type": "stream",
     "text": [
      "y = 100\n"
     ]
    }
   ],
   "source": [
    "def badsquare(x):\n",
    "    y = x ** power\n",
    "    return y\n",
    "\n",
    "power = 2\n",
    "result = badsquare(10)\n",
    "print(\"y =\", result)"
   ]
  },
  {
   "cell_type": "markdown",
   "id": "980c5418",
   "metadata": {},
   "source": [
    "Although the above code is a case of bad implementation, the point to learn here is how does Python search for a variable:\n",
    "- First, Python looks at the variables that are defined as **local variables** in the function. We call this the **local scope**. \n",
    "- If the variable name is not found in the local scope, then Python looks at the **global variables**, or **global scope**.\n",
    "\n",
    "As shown in the above example, since ``power`` is not defined within the function definition (local scope), Python searches for ``power`` in the global scope and finds that the value of ``power`` is 2. As mentioned previously, this way of implementation is bad. The appropriate way to write this function would be to pass ``power`` as a parameter."
   ]
  },
  {
   "cell_type": "code",
   "execution_count": 5,
   "id": "389b7cce",
   "metadata": {},
   "outputs": [
    {
     "name": "stdout",
     "output_type": "stream",
     "text": [
      "result: 100\n",
      "power: 3\n"
     ]
    }
   ],
   "source": [
    "# Assignment statements in the local function cannot change variables defined outside the function.\n",
    "def powerof(x, p):\n",
    "    power = p\n",
    "    y = x ** power\n",
    "    return y\n",
    "\n",
    "power = 3\n",
    "result = powerof(10, 2)\n",
    "print(\"result:\", result)\n",
    "print(\"power:\", power)    # Should still be 3 as changing local var y shouldn't change the global var y"
   ]
  },
  {
   "cell_type": "code",
   "execution_count": 7,
   "id": "a92450b2",
   "metadata": {},
   "outputs": [
    {
     "name": "stdout",
     "output_type": "stream",
     "text": [
      "result: 100\n",
      "power: 2\n"
     ]
    }
   ],
   "source": [
    "# To really change the value of a global variable inside a function, we explicitly declare the variable to be global\n",
    "# However, this is not recommended and not a good practice as well because this changes the global variable itself\n",
    "def powerof(x, p):\n",
    "    global power\n",
    "    power = p\n",
    "    y = x ** power\n",
    "    return y\n",
    "\n",
    "power = 3\n",
    "result = powerof(10, 2)\n",
    "print(\"result:\", result)\n",
    "print(\"power:\", power)   # Should now be changed to 2 as we explicitly declared global in the func def causing a value change"
   ]
  },
  {
   "cell_type": "markdown",
   "id": "78aae6c0",
   "metadata": {},
   "source": [
    "Functional decomposition is a technique where we can make use of functions and call functions withing them. An example is shown below where the first function called ``square`` simply computes the square of a given number. The second function called ``sum_of_squares`` makes use of square to compute the sum of three numbers that have been squared."
   ]
  },
  {
   "cell_type": "code",
   "execution_count": 2,
   "id": "a1fa4ac1",
   "metadata": {},
   "outputs": [
    {
     "name": "stdout",
     "output_type": "stream",
     "text": [
      "Sum of three squares with sides -5, 2, 10 is 129\n"
     ]
    }
   ],
   "source": [
    "def square(x):\n",
    "    y = x * x\n",
    "    return y\n",
    "\n",
    "def sum_of_squares(x,y,z):\n",
    "    a = square(x)\n",
    "    b = square(y)\n",
    "    c = square(z)\n",
    "    return a + b + c\n",
    "\n",
    "a = -5\n",
    "b = 2\n",
    "c = 10\n",
    "print(\"Sum of three squares with sides {}, {}, {} is {}\".format(a, b, c, sum_of_squares(a, b, c)))\n",
    "    "
   ]
  },
  {
   "cell_type": "markdown",
   "id": "6b69ada5",
   "metadata": {},
   "source": [
    "Even though this is a pretty simple idea, in practice this example illustrates many very important Python concepts, including **local** and **global** variables along with **parameter passing**. Note that the body of square is not executed until it is called from inside the sum_of_squares function for the first time.<br>\n",
    "Also notice that whenever ``square`` is called, there are two groups of local variables, one for ``square`` and one for ``sum_of_squares``. Each group of local variables is called a **stack frame**."
   ]
  },
  {
   "cell_type": "markdown",
   "id": "7384f577",
   "metadata": {},
   "source": [
    "## Passing Mutable objects:\n",
    "An assignment to a **formal parameter** inside a function never affects the argument in the caller.\n",
    "However, if you are passing a **mutable object**, such as a list, to a function, and the function alters the object’s state, that state change will be visible to the caller when the function returns."
   ]
  },
  {
   "cell_type": "code",
   "execution_count": 11,
   "id": "8c178ced",
   "metadata": {},
   "outputs": [
    {
     "name": "stdout",
     "output_type": "stream",
     "text": [
      "num: 5\n",
      "mylst: ['Michigan', 'Wolverines', 'are', 'awesome']\n"
     ]
    }
   ],
   "source": [
    "def double(y):\n",
    "    # Since we are changing the formal parameter, this won't affect the arguments at all\n",
    "    num = 2 * y\n",
    "\n",
    "def changeit(lst):\n",
    "    # But here, since we are changing the items inside of the list, mylst and lst point to the same object due to which we\n",
    "    # could see mylst getting changed\n",
    "    lst[0] = \"Michigan\"\n",
    "    lst[1] = \"Wolverines\"\n",
    "\n",
    "num = 5\n",
    "double(num)\n",
    "print(\"num:\", num)\n",
    "    \n",
    "mylst = ['our', 'students', 'are', 'awesome']\n",
    "changeit(mylst)\n",
    "print(\"mylst:\", mylst)"
   ]
  },
  {
   "cell_type": "markdown",
   "id": "91c0161d",
   "metadata": {},
   "source": [
    "However, there is a difference between assigning to a slot of a list, and assigning to the list variable itself, the former changes the list passed as an argument `mylst` whereas the latter doesn't. \n",
    "\n",
    "Basically any kind of list operations that affect the items in a list would change the list passed as an argument, whereas any kind of list reassignment (changing list as a whole) wouldn't affect the argumentative list at all."
   ]
  },
  {
   "cell_type": "code",
   "execution_count": 7,
   "id": "ea1b613f",
   "metadata": {},
   "outputs": [
    {
     "name": "stdout",
     "output_type": "stream",
     "text": [
      "mylst: ['our', 'students', 'are', 'awesome']\n"
     ]
    }
   ],
   "source": [
    "def changeit(lst):\n",
    "    # We try changing the list as a whole, In this case, we could see mylst would not change at all.\n",
    "    # This happens because after assigning lst to a new list, the object reference gets changed.\n",
    "    lst = [\"Michigan\", \"Wolverines\"]\n",
    "    \n",
    "mylst = ['our', 'students', 'are', 'awesome']\n",
    "changeit(mylst)\n",
    "print(\"mylst:\", mylst)"
   ]
  },
  {
   "cell_type": "markdown",
   "id": "dda331af",
   "metadata": {},
   "source": [
    "We say that the function ``changeit`` has a **side effect** on the list object that is passed to it when the actual list is changed. **Global variables** are another way to have side effects.\n",
    "\n",
    "For example, we could make the function ``double`` have a side effect by having the variable ``num`` global."
   ]
  },
  {
   "cell_type": "code",
   "execution_count": 10,
   "id": "6a8e6258",
   "metadata": {},
   "outputs": [
    {
     "name": "stdout",
     "output_type": "stream",
     "text": [
      "num: 10\n"
     ]
    }
   ],
   "source": [
    "def double(y):\n",
    "    global num\n",
    "    num = 2 * y\n",
    "\n",
    "num = 5\n",
    "double(num)\n",
    "print(\"num:\", num)"
   ]
  },
  {
   "cell_type": "markdown",
   "id": "e2f9dca8",
   "metadata": {},
   "source": [
    "In general, any lasting effect that occurs in a function, not through its return value, is called a **side effect**. There are three ways to have side effects:\n",
    "\n",
    "- **Printing** out a value. This doesn’t change any objects or variable bindings, but it does have a potential lasting effect outside the function execution, because a person might see the output and be influenced by it.\n",
    "- Changing the value of a **mutable object**.\n",
    "- Changing the binding of a **global variable**.\n",
    "\n",
    "It is best to avoid side effects. The way to avoid using side effects is to **use return values instead**."
   ]
  },
  {
   "cell_type": "code",
   "execution_count": 18,
   "id": "98839d93",
   "metadata": {},
   "outputs": [
    {
     "name": "stdout",
     "output_type": "stream",
     "text": [
      "num: 5\n"
     ]
    }
   ],
   "source": [
    "def double(y):\n",
    "    return 2 * y\n",
    "\n",
    "num = 5\n",
    "# The value of num does not change until we assign the return value of double(num) to num again.\n",
    "double(num)\n",
    "print(\"num:\", num)"
   ]
  },
  {
   "cell_type": "markdown",
   "id": "31d795ae",
   "metadata": {},
   "source": [
    "You can use the same coding pattern to avoid confusing side effects with sharing of mutable objects. \n",
    "\n",
    "To do that, \n",
    "- explicitly make a copy of an object and pass the copy in to the function. \n",
    "- Then return the modified copy and reassign it to the original variable if you want to save the changes. \n",
    "\n",
    "The built-in ``list`` function, which takes a sequence as a parameter and returns a new list, works to copy an existing list. For dictionaries, you can similarly call the ``dict`` function, passing in a dictionary to get a copy of the dictionary back as a return value."
   ]
  },
  {
   "cell_type": "code",
   "execution_count": 15,
   "id": "b82d012c",
   "metadata": {},
   "outputs": [
    {
     "name": "stdout",
     "output_type": "stream",
     "text": [
      "['106', 'students', 'are', 'awesome']\n",
      "['Michigan', 'Wolverines', 'are', 'awesome']\n"
     ]
    }
   ],
   "source": [
    "def changeit(lst):\n",
    "    lst[0] = \"Michigan\"\n",
    "    lst[1] = \"Wolverines\"\n",
    "    return lst\n",
    "\n",
    "mylst = ['106', 'students', 'are', 'awesome']\n",
    "\n",
    "# Create a copy of mylst using the list function. This would point to a diff obj ref\n",
    "newlst = changeit(list(mylst))\n",
    "\n",
    "print(mylst)\n",
    "print(newlst)"
   ]
  },
  {
   "cell_type": "markdown",
   "id": "c3acdbc5",
   "metadata": {},
   "source": [
    "# Advanced Functions:\n",
    "## Optional Parameters:\n",
    "Sometimes it is convenient to have **optional parameters** that can be specified or omitted. \n",
    "- When an optional parameter is omitted from a function invocation, the formal parameter is bound to a **default value**.\n",
    "- When an optional parameter is included from a function invocation, the formal parameter is bound to the **given value**."
   ]
  },
  {
   "cell_type": "code",
   "execution_count": 3,
   "id": "290e1299",
   "metadata": {},
   "outputs": [
    {
     "name": "stdout",
     "output_type": "stream",
     "text": [
      "x, y, z are: 2, 3, 7\n",
      "x, y, z are: 3, 5, 7\n",
      "x, y, z are: 6, 7, 8\n"
     ]
    }
   ],
   "source": [
    "initial = 7\n",
    "def f(x, y = 3, z = initial):\n",
    "    return \"x, y, z are: {}, {}, {}\".format(x, y, z)\n",
    "\n",
    "print(f(2))        # y and z would be set to the default value provided (3 and 7(initial))\n",
    "print(f(3, 5))     # z would be set to the default value provided (7(initial))\n",
    "print(f(6, 7, 8))  # None of the default values would be set, the given values would be the values of x, y and z"
   ]
  },
  {
   "cell_type": "markdown",
   "id": "7a631254",
   "metadata": {},
   "source": [
    "- The default values are determined at the time of function definition and not invocation. In the example above, if we set the value of initial before making any of the function calls, the value of ``initial`` would still be 7.\n",
    "- If the default value is set to a mutable object, such as a list or a dictionary, that object will be shared in all invocations of the function because mutable objects point to the same object. This can get very confusing, so never set a default value that is a mutable object."
   ]
  },
  {
   "cell_type": "markdown",
   "id": "4804836d",
   "metadata": {},
   "source": [
    "## Keyword Parameters:\n",
    "Keyword parameters are just another way of invoking functions with parameters defined as a keyword instead of passing them positionally as we saw in the code above.<br>\n",
    "This is particularly convenient when there are several optional parameters and you want to provide a value for one of the later parameters while not providing a value for the earlier ones.<br>\n",
    "With keyword arguments, some of the values can be of the form ``paramname = <expr>`` instead of just ``<expr>``.<br>\n",
    "**Note:**\n",
    "- When you have ``paramname = <expr>`` in a function **definition**, it is defining the **default value** for a parameter when no value is provided in the invocation; \n",
    "- When you have ``paramname = <expr>`` in the **invocation**, it is supplying a value, **overriding the default** for that paramname.\n",
    "- Positional parameters (one which are not keyworded) should always be present **before** keyword parameters in the function invocation."
   ]
  },
  {
   "cell_type": "code",
   "execution_count": 4,
   "id": "f016ab38",
   "metadata": {},
   "outputs": [
    {
     "name": "stdout",
     "output_type": "stream",
     "text": [
      "x, y, z are: 2, 3, 7\n",
      "x, y, z are: 3, 3, 5\n",
      "x, y, z are: 6, 8, 9\n"
     ]
    }
   ],
   "source": [
    "initial = 7\n",
    "def f(x, y = 3, z = initial):\n",
    "    return \"x, y, z are: {}, {}, {}\".format(x, y, z)\n",
    "\n",
    "print(f(2))        # y and z would be set to the default value provided (3 and 7(initial))\n",
    "print(f(3, z = 5))     # y would be set to the default value provided (3)\n",
    "print(f(6, z = 9, y = 8))  # None of the default values would be set, the given values would be the values of x, y and z"
   ]
  },
  {
   "cell_type": "markdown",
   "id": "ec038d62",
   "metadata": {},
   "source": [
    "Keyword arguments can also be used with the .format() method. This is particularly useful when we need to insert the same value into a string multiple times. Although, the usual way of passing positonal arguments also works!"
   ]
  },
  {
   "cell_type": "code",
   "execution_count": 6,
   "id": "57ee4341",
   "metadata": {},
   "outputs": [
    {
     "name": "stdout",
     "output_type": "stream",
     "text": [
      "'Jack!' she yelled. 'Jack! Jack, say hello!'\n",
      "'Jill!' she yelled. 'Jill! Jill, say hello!'\n",
      "'Mary!' she yelled. 'Mary! Mary, say hello!'\n"
     ]
    }
   ],
   "source": [
    "names = [\"Jack\",\"Jill\",\"Mary\"]\n",
    "for n in names:\n",
    "    print(\"'{0}!' she yelled. '{0}! {0}, {1}!'\".format(n,\"say hello\"))"
   ]
  },
  {
   "cell_type": "markdown",
   "id": "b26b41c6",
   "metadata": {},
   "source": [
    "## Lambda expressions:\n",
    "The syntax of a lambda expression is the word “lambda” followed by parameter names, separated by commas but not inside (parentheses), followed by a colon and then an expression. ``lambda arguments: expression`` yields a function object.\n",
    "This unnamed object behaves just like the function object.\n",
    "```python\n",
    "def func(args):\n",
    "    return ret_val\n",
    "\n",
    "# This is equivalent to:\n",
    "func = lambda args: ret_val\n",
    "```\n",
    "\n",
    "In the typical function, we have to use the keyword ``return`` to send back the value. In a lambda function, that is not necessary - whatever is placed after the colon is what will be returned."
   ]
  },
  {
   "cell_type": "code",
   "execution_count": 12,
   "id": "ec94a915",
   "metadata": {},
   "outputs": [
    {
     "name": "stdout",
     "output_type": "stream",
     "text": [
      "f: <function f at 0x000001A0634E0D30>\n",
      "type(f): <class 'function'>\n",
      "f(3) -- 2\n",
      "\n",
      "lambda x: x-2 -- <function <lambda> at 0x000001A0634E0EE0>\n",
      "type(lambda x: x-2) -- <class 'function'>\n",
      "(lambda x: x-2)(6) -- 4\n",
      "\n",
      "lf(6) -- 4\n"
     ]
    }
   ],
   "source": [
    "def f(x):\n",
    "    return x - 1\n",
    "\n",
    "# f is bound to a function object\n",
    "print(\"f:\", f)\n",
    "print(\"type(f):\", type(f))\n",
    "print(\"f(3) --\", f(3))\n",
    "\n",
    "# lambda func also processes a function object and since it is an anonymous function, we see <function <lambda>...\n",
    "print(\"\\nlambda x: x-2 --\", lambda x: x-2)\n",
    "print(\"type(lambda x: x-2) --\", type(lambda x: x-2))\n",
    "print(\"(lambda x: x-2)(6) --\", (lambda x: x-2)(6))\n",
    "\n",
    "# We can alternatively assign the lambda func to a value\n",
    "lf = lambda x: x-2\n",
    "print(\"\\nlf(6) --\", lf(6))"
   ]
  }
 ],
 "metadata": {
  "kernelspec": {
   "display_name": "Python 3 (ipykernel)",
   "language": "python",
   "name": "python3"
  },
  "language_info": {
   "codemirror_mode": {
    "name": "ipython",
    "version": 3
   },
   "file_extension": ".py",
   "mimetype": "text/x-python",
   "name": "python",
   "nbconvert_exporter": "python",
   "pygments_lexer": "ipython3",
   "version": "3.10.3"
  }
 },
 "nbformat": 4,
 "nbformat_minor": 5
}
