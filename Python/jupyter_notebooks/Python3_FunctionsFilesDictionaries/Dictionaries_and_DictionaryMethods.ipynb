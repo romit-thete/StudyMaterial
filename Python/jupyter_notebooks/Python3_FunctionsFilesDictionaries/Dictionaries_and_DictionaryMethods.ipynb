{
 "cells": [
  {
   "cell_type": "markdown",
   "id": "7e6f3b84",
   "metadata": {},
   "source": [
    "# Dictionary Methods:\n",
    "\n",
    "1. <strong><u>Method:</u></strong> ``keys()``<br>\n",
    "<strong>Parameter:</strong> none<br>\n",
    "<strong>Description:</strong> Returns a view of the keys in the dictionary<br>\n",
    "2. <strong><u>Method:</u></strong> ``values()``<br>\n",
    "<strong>Parameter:</strong> none<br>\n",
    "<strong>Description:</strong> Returns a view of the values in the dictionary<br>\n",
    "3. <strong><u>Method:</u></strong> ``items()``<br>\n",
    "<strong>Parameter:</strong> none<br>\n",
    "<strong>Description:</strong> Returns a view of the key-value pairs in the dictionary<br>\n",
    "4. <strong><u>Method:</u></strong> ``get()``<br>\n",
    "<strong>Parameter:</strong> key, alternative_if_no_value (optional)<br>\n",
    "<strong>Description:</strong> Returns the value associated with key; ``None`` if alternative is not provided, else the alternative value<br>\n",
    "\n",
    "Dictionary methods use dot notation, which specifies the name of the method to the right of the dot and the name of the object on which to apply the method immediately to the left of the dot. <br>\n",
    "For example, if ``x`` is a variable whose value is a dictionary, ``x.keys`` is the <strong>method object</strong>, and ``x.keys()`` <strong>invokes</strong> the method, returning a view of the value."
   ]
  },
  {
   "cell_type": "code",
   "execution_count": 5,
   "id": "95d82a86",
   "metadata": {},
   "outputs": [
    {
     "name": "stdout",
     "output_type": "stream",
     "text": [
      "Got key apples which maps to value 430\n",
      "Got key bananas which maps to value 312\n",
      "Got key pears which maps to value 217\n",
      "Got key oranges which maps to value 525\n",
      "key_list = ['apples', 'bananas', 'pears', 'oranges']\n",
      "First value: apples\n"
     ]
    }
   ],
   "source": [
    "inventory = {'apples': 430, 'bananas': 312, 'pears': 217, 'oranges': 525}\n",
    "\n",
    "for key in inventory.keys():     # the order in which we get the keys is not defined\n",
    "    print(\"Got key\", key, \"which maps to value\", inventory[key])\n",
    "\n",
    "key_list = list(inventory.keys())       # Make a list of all of the keys (Required in Python > v3.0 as .keys() returns an iterable)\n",
    "print(\"key_list = {}\".format(key_list))\n",
    "print(\"First value: {}\".format(key_list[0]))                      # Display the first key"
   ]
  },
  {
   "cell_type": "markdown",
   "id": "a31441b8",
   "metadata": {},
   "source": [
    "However, use of keys is so common that we can also omit use of ``.keys()``."
   ]
  },
  {
   "cell_type": "code",
   "execution_count": 7,
   "id": "5b644c20",
   "metadata": {},
   "outputs": [
    {
     "name": "stdout",
     "output_type": "stream",
     "text": [
      "Got key: apples\n",
      "Got key: bananas\n",
      "Got key: oranges\n",
      "Got key: pears\n"
     ]
    }
   ],
   "source": [
    "inventory = {'apples': 430, 'bananas': 312, 'oranges': 525, 'pears': 217}\n",
    "\n",
    "for key in inventory:\n",
    "    print(\"Got key:\", key)"
   ]
  },
  {
   "cell_type": "code",
   "execution_count": 18,
   "id": "c93cd3c9",
   "metadata": {},
   "outputs": [
    {
     "name": "stdout",
     "output_type": "stream",
     "text": [
      "inventory_values = [430, 312, 525, 217]\n",
      "Got 430\n",
      "Got 312\n",
      "Got 525\n",
      "Got 217\n",
      "\n",
      "inventory_items = [('apples', 430), ('bananas', 312), ('oranges', 525), ('pears', 217)]\n",
      "Got apples that maps to 430\n",
      "Got bananas that maps to 312\n",
      "Got oranges that maps to 525\n",
      "Got pears that maps to 217\n"
     ]
    }
   ],
   "source": [
    "# Usage of .values() method\n",
    "print(\"inventory_values = {}\".format(list(inventory.values())))    # Typecast to list is required since Python 3.0\n",
    "\n",
    "for value in inventory.values():\n",
    "    print(\"Got\", value)\n",
    "print()\n",
    "\n",
    "# Usage of .items() method\n",
    "print(\"inventory_items = {}\".format(list(inventory.items())))    # Returns key-value paired tuples\n",
    "\n",
    "for key, value in inventory.items():\n",
    "    print(\"Got\", key, \"that maps to\", value)"
   ]
  },
  {
   "cell_type": "markdown",
   "id": "360ef2af",
   "metadata": {},
   "source": [
    "## Safely retrieving values from Dictionaries:\n",
    "\n",
    "We often need to retrieve values from dictionaries using it's keys. These keys are usually retrieved using the ``.keys()`` method however, if a key is not present in the list of keys, we might get a ``Runtime error``.<br>\n",
    "To avoid this, we can use one of the below two methods:\n",
    "1. Using the ``in`` and ``not in`` operators:<br>\n",
    "In this approach, we first check if a key is present in the list that we retrieve using ``list(dict.keys())``. If it is present, then we can perform a certain operation whereas, we perform a different operation if the key is absent.\n",
    "2. Using the ``.get()`` method:<br>\n",
    "This approach is slightly better. It basically retrieves the value for a certain key and based on a optional second argument it decides the value in case if a given key is not present in the dictionary.\n",
    "    - If the second argument is provided, the value returned by this method in case of an absent key is the <strong>value of the second argument.</strong>\n",
    "    - If the second argument is not provided, the value returned by this method in case of an absent key is ``None``."
   ]
  },
  {
   "cell_type": "code",
   "execution_count": 24,
   "id": "aaa5a70e",
   "metadata": {},
   "outputs": [
    {
     "name": "stdout",
     "output_type": "stream",
     "text": [
      "True\n",
      "False\n",
      "312\n",
      "\n",
      "apples: 430\n",
      "cherries: None\n",
      "get_cherries: 0\n",
      "get_bananas: 312\n"
     ]
    }
   ],
   "source": [
    "inventory = {'apples': 430, 'bananas': 312, 'oranges': 525, 'pears': 217}\n",
    "print('apples' in inventory)    # Must return True as 'apples' is present in the keys\n",
    "print('cherries' in inventory)    # Must return False as 'cherries' is not present in keys\n",
    "\n",
    "if 'bananas' in inventory:    # We use inventory here in place of inventory.keys()\n",
    "    print(inventory['bananas'])\n",
    "else:\n",
    "    print(\"We have no bananas\")\n",
    "print()\n",
    "    \n",
    "print(\"apples: {}\".format(inventory.get(\"apples\")))   # Returns the value of of the key: 'apples'\n",
    "print(\"cherries: {}\".format(inventory.get(\"cherries\")))    # Returns None as 'cherries' is not present in the keys\n",
    "\n",
    "print(\"get_cherries: {}\".format(inventory.get(\"cherries\",0)))    # Setting the value as 0 in case if cherries is not present in the keys\n",
    "print(\"get_bananas: {}\".format(inventory.get(\"bananas\",50)))    # Return the value of 'bananas' if present, else set it to 0"
   ]
  },
  {
   "cell_type": "markdown",
   "id": "b8f8faff",
   "metadata": {},
   "source": [
    "## Aliasing and Copying:\n",
    "Just like lists, dictionaries are mutable objects as well and therefore, aliasing happens in case of dictionaries too. Meaning, if two variables refer to the same dictionary object, changes to one would also affect the other. (see below)"
   ]
  },
  {
   "cell_type": "code",
   "execution_count": 32,
   "id": "64bbb64a",
   "metadata": {},
   "outputs": [
    {
     "name": "stdout",
     "output_type": "stream",
     "text": [
      "True\n",
      "alias['right'] = left\n",
      "opposites['right'] = left\n"
     ]
    }
   ],
   "source": [
    "opposites = {'up': 'down', 'right': 'wrong', 'true': 'false'}\n",
    "alias = opposites\n",
    "\n",
    "# We check if both the variables refer to the same object\n",
    "print(alias is opposites)\n",
    "\n",
    "# We make changes to one dictionary (alias, here)\n",
    "alias['right'] = 'left'\n",
    "\n",
    "# We can then see that this affects the other dictionary as well (opposites, here)\n",
    "print(\"alias['right'] =\", alias['right'])\n",
    "print(\"opposites['right'] =\", opposites['right'])"
   ]
  },
  {
   "cell_type": "markdown",
   "id": "f5db347b",
   "metadata": {},
   "source": [
    "If you want to modify a dictionary and keep a copy of the original, use the dictionary ``.copy()`` method as shown below:"
   ]
  },
  {
   "cell_type": "code",
   "execution_count": 33,
   "id": "e1cbea14",
   "metadata": {},
   "outputs": [
    {
     "name": "stdout",
     "output_type": "stream",
     "text": [
      "alias['right'] = left\n",
      "opposites['right'] = wrong\n"
     ]
    }
   ],
   "source": [
    "opposites = {'up': 'down', 'right': 'wrong', 'true': 'false'}\n",
    "\n",
    "alias = opposites.copy()\n",
    "alias['right'] = 'left'    # does not change opposites\n",
    "\n",
    "print(\"alias['right'] =\", alias['right'])\n",
    "print(\"opposites['right'] =\", opposites['right'])"
   ]
  },
  {
   "cell_type": "markdown",
   "id": "6498038b",
   "metadata": {},
   "source": [
    "## When to use a dictionary:\n",
    "- When a piece of data consists of a <strong>set of properties</strong> of a single item, a dictionary is often better. You could try to keep track mentally that the zip code property is at index 2 in a list, but your code will be easier to read and you will make fewer mistakes if you can look up ``mydiction[‘zipcode’]`` than if you look up ``mylst[2]``.\n",
    "\n",
    "- When you have a <strong>collection</strong> of data pairs, and you will often have to look up one of the pairs based on its first value, it is better to use a dictionary than a list of (key, value) tuples. With a dictionary, you can find the value for any (key, value) tuple by looking up the key. With a list of tuples you would need to iterate through the list, examining each pair to see if it had the key that you want.\n",
    "\n",
    "- On the other hand, if you will have a collection of data pairs where multiple pairs <strong>share the same first data element</strong>, then you <strong>CANNOT</strong> use a dictionary, because a dictionary requires all the keys to be distinct from each other."
   ]
  }
 ],
 "metadata": {
  "kernelspec": {
   "display_name": "Python 3 (ipykernel)",
   "language": "python",
   "name": "python3"
  },
  "language_info": {
   "codemirror_mode": {
    "name": "ipython",
    "version": 3
   },
   "file_extension": ".py",
   "mimetype": "text/x-python",
   "name": "python",
   "nbconvert_exporter": "python",
   "pygments_lexer": "ipython3",
   "version": "3.10.3"
  }
 },
 "nbformat": 4,
 "nbformat_minor": 5
}
