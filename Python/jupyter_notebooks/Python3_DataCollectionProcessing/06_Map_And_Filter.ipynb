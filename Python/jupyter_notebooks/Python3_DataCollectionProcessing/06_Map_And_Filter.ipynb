{
 "cells": [
  {
   "cell_type": "markdown",
   "id": "d8693346",
   "metadata": {},
   "source": [
    "# Map and Filter Methods:\n",
    "\n",
    "- As we know, accumulating elements in a list is the most repetitive common method used in Python.\n",
    "\n",
    "## Map:\n",
    "- The following function produces a new list with each item in the original list doubled. It is an example of a **mapping**, from the original list to a new list of the same length, where each element is doubled.\n",
    "- The ``doubleStuff`` function is an example of an accumulation pattern, in particular the **mapping** pattern."
   ]
  },
  {
   "cell_type": "code",
   "execution_count": 4,
   "id": "230a9f06",
   "metadata": {},
   "outputs": [
    {
     "name": "stdout",
     "output_type": "stream",
     "text": [
      "Initially: [2, 5, 9]\n",
      "After Doubling: [4, 10, 18]\n"
     ]
    }
   ],
   "source": [
    "def doubleStuff(a_list):\n",
    "    \"\"\" Return a new list which contains doubles of the elements in a_list. \"\"\"\n",
    "    new_list = []\n",
    "    for value in a_list:\n",
    "        new_elem = 2 * value\n",
    "        new_list.append(new_elem)\n",
    "    return new_list\n",
    "\n",
    "things = [2, 5, 9]\n",
    "print(\"Initially:\", things)\n",
    "things = doubleStuff(things)\n",
    "print(\"After Doubling:\", things)"
   ]
  },
  {
   "cell_type": "markdown",
   "id": "d2070e9f",
   "metadata": {},
   "source": [
    "- Now, since this pattern of computation is very common, python provides a generic way of mapping.\n",
    "- The ``map`` function takes two arguments: ``a function`` and ``a sequence``.\n",
    "- The function (a.k.a., the transformer function) transforms the items in the given sequence.\n",
    "- **Note:** In Python 3, the ``map`` function creates an iterator which is list-like but produces output as needed. Hence it is necessary to typecast the output to list if in case we intend to view items in a list format."
   ]
  },
  {
   "cell_type": "code",
   "execution_count": 5,
   "id": "ae0ad5a5",
   "metadata": {},
   "outputs": [
    {
     "name": "stdout",
     "output_type": "stream",
     "text": [
      "After tripling: [6, 15, 27]\n",
      "After quadrupling: [8, 20, 36]\n"
     ]
    }
   ],
   "source": [
    "# The transformer function\n",
    "def triple(value):\n",
    "    return 3*value\n",
    "\n",
    "def tripleStuff(a_list):\n",
    "    new_seq = map(triple, a_list)\n",
    "    return list(new_seq)\n",
    "\n",
    "# Lambda functions can also be transformer functions\n",
    "def quadrupleStuff(a_list):\n",
    "    new_seq = map(lambda value: 4*value, a_list)\n",
    "    return list(new_seq)\n",
    "\n",
    "things = [2, 5, 9]\n",
    "things3 = tripleStuff(things)\n",
    "print(\"After tripling:\", things3)\n",
    "things4 = quadrupleStuff(things)\n",
    "print(\"After quadrupling:\", things4)"
   ]
  },
  {
   "cell_type": "markdown",
   "id": "18a0ec17",
   "metadata": {},
   "source": [
    "## Filter:\n",
    "- Now consider another common pattern: going through a list and keeping **only those items that meet certain criteria**. This is called a ``filter``."
   ]
  },
  {
   "cell_type": "code",
   "execution_count": 6,
   "id": "162fbd18",
   "metadata": {},
   "outputs": [
    {
     "name": "stdout",
     "output_type": "stream",
     "text": [
      "Keeping evens: [4, 6, 0]\n"
     ]
    }
   ],
   "source": [
    "def keep_evens(nums):\n",
    "    new_list = []\n",
    "    for num in nums:\n",
    "        if num % 2 == 0:\n",
    "            new_list.append(num)\n",
    "    return new_list\n",
    "\n",
    "print(\"Keeping evens:\", keep_evens([3, 4, 6, 7, 0, 1]))"
   ]
  },
  {
   "cell_type": "markdown",
   "id": "9b3653dd",
   "metadata": {},
   "source": [
    "- Again, as this pattern is common, python provides ``filter`` function.\n",
    "- Just like ``map``,  ``filter`` takes two arguments, ``a function`` and ``a sequence``.\n",
    "- The function takes one item and should return True/False (boolean values). It is automatically called for each item in the sequence."
   ]
  },
  {
   "cell_type": "code",
   "execution_count": 7,
   "id": "0aa59c26",
   "metadata": {},
   "outputs": [
    {
     "name": "stdout",
     "output_type": "stream",
     "text": [
      "Keeping evens: [4, 6, 0]\n"
     ]
    }
   ],
   "source": [
    "def keep_evens(nums):\n",
    "    new_seq = filter(lambda num: num % 2 == 0, nums)\n",
    "    return list(new_seq)\n",
    "\n",
    "print(\"Keeping evens:\" ,keep_evens([3, 4, 6, 7, 0, 1]))"
   ]
  }
 ],
 "metadata": {
  "kernelspec": {
   "display_name": "Python 3 (ipykernel)",
   "language": "python",
   "name": "python3"
  },
  "language_info": {
   "codemirror_mode": {
    "name": "ipython",
    "version": 3
   },
   "file_extension": ".py",
   "mimetype": "text/x-python",
   "name": "python",
   "nbconvert_exporter": "python",
   "pygments_lexer": "ipython3",
   "version": "3.12.1"
  }
 },
 "nbformat": 4,
 "nbformat_minor": 5
}
