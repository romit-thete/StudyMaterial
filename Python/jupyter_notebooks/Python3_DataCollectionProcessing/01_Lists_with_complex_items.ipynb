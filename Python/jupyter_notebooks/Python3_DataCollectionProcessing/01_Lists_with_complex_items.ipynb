{
 "cells": [
  {
   "cell_type": "markdown",
   "id": "b378de4b",
   "metadata": {},
   "source": [
    "# Introduction: Nested Data and Nested Iteration\n",
    "\n",
    "## Lists with Complex Items:\n",
    "- Lists can contain any kind of items even complex items such as tuples/lists and dictionaries."
   ]
  },
  {
   "cell_type": "code",
   "execution_count": 2,
   "id": "01037d18",
   "metadata": {},
   "outputs": [
    {
     "name": "stdout",
     "output_type": "stream",
     "text": [
      "nested1[0]: ['a', 'b', 'c']\n",
      "len(nested1): 3\n",
      "-------\n",
      "['a', 'b', 'c']\n",
      "['d', 'e']\n",
      "['f', 'g', 'h']\n",
      "['i']\n"
     ]
    }
   ],
   "source": [
    "# Creating a list of lists\n",
    "nested1 = [['a', 'b', 'c'],['d', 'e'],['f', 'g', 'h']]\n",
    "# Printing the first item from above list\n",
    "print(\"nested1[0]:\", nested1[0])\n",
    "# Printing the length of the whole list nested1 (not ['a', 'b', 'c'])\n",
    "print(\"len(nested1):\", len(nested1))\n",
    "# Appending an item would append at the end of nested1\n",
    "nested1.append(['i'])\n",
    "print(\"-------\")\n",
    "# Printing the contents of nested1\n",
    "for L in nested1:\n",
    "    print(L)\n"
   ]
  },
  {
   "cell_type": "markdown",
   "id": "664b559c",
   "metadata": {},
   "source": [
    "With a nested lists, we can make complex expressions to get or set a value in a sub-list."
   ]
  },
  {
   "cell_type": "code",
   "execution_count": 8,
   "id": "eb909a54",
   "metadata": {},
   "outputs": [
    {
     "name": "stdout",
     "output_type": "stream",
     "text": [
      "y: ['d', 'e']\n",
      "y[0]: d\n",
      "[10, 20, 30][1]: 20\n",
      "nested1[1][0]: d\n",
      "nested1 after change: [['a', 'b', 'c'], ['i', 'e'], ['f', 'g', 'h']]\n",
      "nested1[1][0] after change: i\n"
     ]
    }
   ],
   "source": [
    "nested1 = [['a', 'b', 'c'],['d', 'e'],['f', 'g', 'h']]\n",
    "y = nested1[1]\n",
    "# You can either get the value by first assigning the sub-list to a variable\n",
    "print(\"y:\",y)\n",
    "print(\"y[0]:\",y[0])\n",
    "\n",
    "# Or you can get the value by simply using two level calls as shown below.\n",
    "print(\"[10, 20, 30][1]:\",[10, 20, 30][1])\n",
    "print(\"nested1[1][0]:\",nested1[1][0])\n",
    "\n",
    "# You can also change the values using the above method:\n",
    "nested1[1][0] = \"i\"\n",
    "print(\"nested1 after change:\",nested1)\n",
    "print(\"nested1[1][0] after change:\",nested1[1][0])"
   ]
  },
  {
   "cell_type": "markdown",
   "id": "6f4c50de",
   "metadata": {},
   "source": [
    "Alternatively, we can also create a list of other data types such as dictionaries. However, it is not recommended to do so because one can end up getting a lot more confused."
   ]
  },
  {
   "cell_type": "code",
   "execution_count": 13,
   "id": "baf6356a",
   "metadata": {},
   "outputs": [
    {
     "name": "stdout",
     "output_type": "stream",
     "text": [
      "nested2[0]['a'] 1\n",
      "nested2 [{'a': 1, 'b': 3}, {'a': 5, 'c': 90, 5: 50}, {'b': 3, 'c': 'no'}]\n"
     ]
    }
   ],
   "source": [
    "nested2 = [{'a': 1, 'b': 3}, {'a': 5, 'c': 90, 5: 50}, {'b': 3, 'c': \"yes\"}]\n",
    "\n",
    "# Fetching values could also mean we would need to fetch using keys\n",
    "print(\"nested2[0]['a']\", nested2[0]['a'])\n",
    "\n",
    "# Same is the case with setting values\n",
    "nested2[2]['c'] = \"no\"\n",
    "print(\"nested2\", nested2)"
   ]
  },
  {
   "cell_type": "markdown",
   "id": "5e2b385c",
   "metadata": {},
   "source": [
    "Not just data types but we can also have a list of functions!"
   ]
  },
  {
   "cell_type": "code",
   "execution_count": 15,
   "id": "368a1771",
   "metadata": {},
   "outputs": [
    {
     "name": "stdout",
     "output_type": "stream",
     "text": [
      "****names****\n",
      "<function square at 0x000001890A1E2D40>\n",
      "<built-in function abs>\n",
      "<function <lambda> at 0x000001890A1E3520>\n",
      "****call each of them****\n",
      "4\n",
      "2\n",
      "-1\n",
      "****just the first one in the list****\n",
      "<function square at 0x000001890A1E2D40>\n",
      "9\n"
     ]
    }
   ],
   "source": [
    "def square(x):\n",
    "    return x*x\n",
    "\n",
    "L = [square, abs, lambda x: x+1]\n",
    "\n",
    "print(\"****names****\")\n",
    "for f in L:\n",
    "    # Get the function names\n",
    "    print(f)\n",
    "\n",
    "print(\"****call each of them****\")\n",
    "for f in L:\n",
    "    # Call the functions one by one\n",
    "    print(f(-2))\n",
    "\n",
    "print(\"****just the first one in the list****\")\n",
    "# List the first function in the list L\n",
    "print(L[0])\n",
    "# Call the first function in the list L with the argument 3\n",
    "print(L[0](3))\n"
   ]
  },
  {
   "cell_type": "markdown",
   "id": "ff9fa9e6",
   "metadata": {},
   "source": [
    "## Nested Dictionaries:\n",
    "- Just as lists can contain items of any type, the value associated with a key in a dictionary can also be an object of any type.\n",
    "- It is often useful to have a list or a dictionary as a value in a dictionary.\n",
    "- And, those lists or dictionaries can also contain lists and dictionaries further.\n",
    "#### **Note:** \n",
    "- Only the values of dictionaries can be of any type, not the keys!\n",
    "- The keys in dictionaries must be one of the immutable data types (numbers, strings, tuples)."
   ]
  }
 ],
 "metadata": {
  "kernelspec": {
   "display_name": "Python 3 (ipykernel)",
   "language": "python",
   "name": "python3"
  },
  "language_info": {
   "codemirror_mode": {
    "name": "ipython",
    "version": 3
   },
   "file_extension": ".py",
   "mimetype": "text/x-python",
   "name": "python",
   "nbconvert_exporter": "python",
   "pygments_lexer": "ipython3",
   "version": "3.10.3"
  }
 },
 "nbformat": 4,
 "nbformat_minor": 5
}
