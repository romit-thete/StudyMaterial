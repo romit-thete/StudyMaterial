{
 "cells": [
  {
   "cell_type": "markdown",
   "id": "74b39f02",
   "metadata": {},
   "source": [
    "## Processing JSON results:\n",
    "- JSON stands for JavaScript Object Notation. It looks a lot like the representation of nested dictionaries and lists with a few differences (e.g., Value Null instead of None).\n",
    "- A JSON-formatted string would generally needed to be converted it into a python object, a list or a dictionary before use in Python.\n",
    "- The module for doing this is **json** and it has two functions ``loads`` and ``dumps``.\n",
    "- ``json.loads()`` takes a string as input and produces a python object (a dictionary or a list) as output.\n",
    "- ``json.dumps()`` does the exact opposite, it takes a python object (dict or list) as an input and returns a string as output."
   ]
  },
  {
   "cell_type": "code",
   "execution_count": 5,
   "id": "1e6b17c5",
   "metadata": {},
   "outputs": [
    {
     "name": "stdout",
     "output_type": "stream",
     "text": [
      "a_string: {\n",
      " \"resultCount\":25,\n",
      " \"results\": [\n",
      "{\"wrapperType\":\"track\", \"kind\":\"podcast\", \"collectionId\":10892}]}\n",
      "------\n",
      "type of d: <class 'dict'>\n",
      "d.keys(): dict_keys(['resultCount', 'results'])\n",
      "d['resultCount']: 25\n"
     ]
    }
   ],
   "source": [
    "import json\n",
    "\n",
    "a_string = '{\\n \"resultCount\":25,\\n \"results\": [\\n{\"wrapperType\":\"track\", \"kind\":\"podcast\", \"collectionId\":10892}]}'\n",
    "print(\"a_string:\", a_string)\n",
    "d = json.loads(a_string)\n",
    "print(\"------\")\n",
    "print(\"type of d:\", type(d))\n",
    "print(\"d.keys():\", d.keys())\n",
    "print(\"d['resultCount']:\", d['resultCount'])\n",
    "# print(a_string['resultCount'])\n"
   ]
  },
  {
   "cell_type": "markdown",
   "id": "ab7dac0e",
   "metadata": {},
   "source": [
    "- ``dumps`` has a few other parameters. Two useful parameters are ``sort_keys`` and ``indent``.\n",
    "- When the value ``True`` is passed for the ``sort_keys`` parameter, the keys of dictionaries are output in **alphabetic order** with their values.\n",
    "- The ``indent`` parameter expects an integer. When it is provided, ``dumps`` **generates a string suitable for displaying** to people, with newlines and indentation for nested lists or dictionaries."
   ]
  },
  {
   "cell_type": "code",
   "execution_count": 7,
   "id": "b233cc28",
   "metadata": {},
   "outputs": [
    {
     "name": "stdout",
     "output_type": "stream",
     "text": [
      "d: {'key1': {'c': True, 'a': 90, '5': 50}, 'key2': {'b': 3, 'c': 'yes'}}\n",
      "--------\n",
      "pretty(d): {\n",
      "  \"key1\": {\n",
      "    \"5\": 50,\n",
      "    \"a\": 90,\n",
      "    \"c\": true\n",
      "  },\n",
      "  \"key2\": {\n",
      "    \"b\": 3,\n",
      "    \"c\": \"yes\"\n",
      "  }\n",
      "}\n"
     ]
    }
   ],
   "source": [
    "import json\n",
    "def pretty(obj):\n",
    "    return json.dumps(obj, sort_keys=True, indent=2)\n",
    "\n",
    "d = {'key1': {'c': True, 'a': 90, '5': 50}, 'key2':{'b': 3, 'c': \"yes\"}}\n",
    "\n",
    "print(\"d:\", d)\n",
    "print('--------')\n",
    "print(\"pretty(d):\", pretty(d))"
   ]
  }
 ],
 "metadata": {
  "kernelspec": {
   "display_name": "Python 3 (ipykernel)",
   "language": "python",
   "name": "python3"
  },
  "language_info": {
   "codemirror_mode": {
    "name": "ipython",
    "version": 3
   },
   "file_extension": ".py",
   "mimetype": "text/x-python",
   "name": "python",
   "nbconvert_exporter": "python",
   "pygments_lexer": "ipython3",
   "version": "3.10.3"
  }
 },
 "nbformat": 4,
 "nbformat_minor": 5
}
